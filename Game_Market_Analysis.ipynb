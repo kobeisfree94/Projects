{
  "nbformat": 4,
  "nbformat_minor": 0,
  "metadata": {
    "colab": {
      "name": "GameAnalysisProject.ipynb",
      "provenance": [],
      "include_colab_link": true
    },
    "kernelspec": {
      "name": "python3",
      "display_name": "Python 3"
    },
    "language_info": {
      "name": "python"
    }
  },
  "cells": [
    {
      "cell_type": "markdown",
      "metadata": {
        "id": "view-in-github",
        "colab_type": "text"
      },
      "source": [
        "<a href=\"https://colab.research.google.com/github/kobeisfree94/Projects/blob/master/Game_Market_Analysis.ipynb\" target=\"_parent\"><img src=\"https://colab.research.google.com/assets/colab-badge.svg\" alt=\"Open In Colab\"/></a>"
      ]
    },
    {
      "cell_type": "code",
      "execution_count": null,
      "metadata": {
        "id": "F66hrmdjoJrY"
      },
      "outputs": [],
      "source": [
        "import pandas as pd\n",
        "from google.colab import drive\n",
        "\n",
        "drive.mount('/content/gdrive')\n",
        "\n",
        "df = pd.read_csv('/content/gdrive/My Drive/Data AI_BootCamp/vgames2.csv')\n",
        "df = df.iloc[: , 1:]\n",
        "\n",
        "df"
      ]
    },
    {
      "cell_type": "code",
      "source": [
        "#Check Missing Values\n",
        "print(df.isnull().sum())\n",
        "null_data = df[df.isnull().any(axis=1)]\n",
        "null_data\n",
        "df.info()"
      ],
      "metadata": {
        "id": "BQXO65kg8KML"
      },
      "execution_count": null,
      "outputs": []
    },
    {
      "cell_type": "code",
      "source": [
        "#Unit Conversions from str -> int and M/K units\n",
        "def unitConversion(x):\n",
        "  if 'K' in x:\n",
        "    return float(x.replace('K',''))/1000\n",
        "  if 'M' in x:\n",
        "    return float(x.replace('M',''))/1000000\n",
        "  for str in x:\n",
        "    return float(x.replace(',',''))\n",
        "\n",
        "df['NA_Sales'] = df['NA_Sales'].apply(unitConversion)\n",
        "df['EU_Sales'] = df['EU_Sales'].apply(unitConversion)\n",
        "df['JP_Sales'] = df['JP_Sales'].apply(unitConversion)\n",
        "df['Other_Sales'] = df['Other_Sales'].apply(unitConversion)\n"
      ],
      "metadata": {
        "id": "Gr2p_PHb15-N"
      },
      "execution_count": null,
      "outputs": []
    },
    {
      "cell_type": "code",
      "source": [
        "#Total Sales \n",
        "df['Total_Sales'] = df['NA_Sales']+df['EU_Sales']+df['JP_Sales']+df['Other_Sales']\n",
        "df"
      ],
      "metadata": {
        "id": "6LGhx1l7_EgJ"
      },
      "execution_count": null,
      "outputs": []
    },
    {
      "cell_type": "code",
      "source": [
        "#Check for Missing Value and drop\n",
        "df.isnull\n",
        "df = df.dropna(subset=['Year', 'Genre', 'Publisher'])\n",
        "df.isna().sum()"
      ],
      "metadata": {
        "id": "6PxsKkCCflTB"
      },
      "execution_count": null,
      "outputs": []
    },
    {
      "cell_type": "code",
      "source": [
        "#Convert 1/2-digit values to 4-digit years\n",
        "def toyear(x):\n",
        "  if x < 20:\n",
        "     return 2000 + x\n",
        "  elif (x > 20) and (x < 99):\n",
        "     return 1900 + x\n",
        "  else:\n",
        "     return x\n",
        "\n",
        "df['Year'] = df['Year'].apply(toyear)"
      ],
      "metadata": {
        "id": "Tu06T2RUovDb"
      },
      "execution_count": null,
      "outputs": []
    },
    {
      "cell_type": "code",
      "source": [
        "#Functions for last20 and last5 years\n",
        "def last20(x):\n",
        "  if x > 2000:\n",
        "    return int(x)\n",
        "  else:\n",
        "    pass\n",
        "def last5(x):\n",
        "  if x > 2015:\n",
        "    return int(x)\n",
        "  else:\n",
        "    pass \n",
        "\n",
        "#Apply last 20 to df\n",
        "df['Year']= df['Year'].apply(last20)\n",
        "\n",
        "df['Year']= df['Year'].dropna().astype(int)\n",
        "\n",
        "#Make copy and apply last 5 to df\n",
        "df_R = df.copy()\n",
        "\n",
        "df_R['Year'] = df_R['Year'].apply(last5)\n",
        "\n",
        "df_R['Year'] = df_R['Year'].dropna().astype(int)\n",
        "\n",
        "#Drop missing values of both dfs\n",
        "df = df.dropna()\n",
        "\n",
        "df_R = df_R.dropna()\n",
        "\n",
        "#Find the top 100 for df and reset year to int\n",
        "df_top100=df.sort_values('Total_Sales', ascending= False).head(100)\n",
        "\n",
        "df_top100['Year']= df_top100['Year'].astype(int)\n",
        "\n",
        "#Fidn the top 100 for df_R and reset year to int\n",
        "df_R_top100 = df_R.sort_values('Total_Sales', ascending = False).head(100)\n",
        "\n",
        "df_R_top100['Year']= df_R_top100['Year'].astype(int)\n"
      ],
      "metadata": {
        "id": "won8d_dD7E8U"
      },
      "execution_count": null,
      "outputs": []
    },
    {
      "cell_type": "code",
      "source": [
        "df1 = df_top100.head(50).reset_index()\n",
        "df1 = df1.drop(columns= 'index')\n",
        "df1"
      ],
      "metadata": {
        "id": "MTA4j_OWZsKS"
      },
      "execution_count": null,
      "outputs": []
    },
    {
      "cell_type": "code",
      "source": [
        "#Best Total Sales in the last20\n",
        "df_top100_sales = df_top100['Total_Sales']\n",
        "df_top100_sales\n",
        "\n",
        "#Best Total Sales in the last5\n",
        "df_R_top100_sales = df_R_top100['Total_Sales']\n",
        "df_R_top100_sales"
      ],
      "metadata": {
        "id": "QrA8UCbVIuiR"
      },
      "execution_count": null,
      "outputs": []
    },
    {
      "cell_type": "code",
      "source": [
        "#Best Selling Genre in the last20\n",
        "q\n",
        "df_top100_genre = df_top100_genre.loc[:,\"NA_Sales\":\"Total_Sales\"]\n",
        "df_top100_genre = df_top100_genre.sort_values(\"Total_Sales\", ascending= False)\n",
        "\n",
        "df_top100_genre= df_top100_genre.reset_index()\n",
        "\n",
        "df_top100_genre"
      ],
      "metadata": {
        "id": "bWxibxF7GYQL"
      },
      "execution_count": null,
      "outputs": []
    },
    {
      "cell_type": "code",
      "source": [
        "#Best Selling Genre in the last5\n",
        "df_R_top100_genre= df_R_top100.groupby('Genre').sum()\n",
        "df_R_top100_genre = df_R_top100_genre.loc[:,\"NA_Sales\":\"Total_Sales\"]\n",
        "df_R_top100_genre = df_R_top100_genre.sort_values(\"Total_Sales\", ascending= False)\n",
        "\n",
        "df_R_top100_genre = df_R_top100_genre.reset_index()\n",
        "df_R_top100_genre"
      ],
      "metadata": {
        "id": "wy2q2uPHHpJ0"
      },
      "execution_count": null,
      "outputs": []
    },
    {
      "cell_type": "code",
      "source": [
        "#Best Selling Platforms in the last20\n",
        "df_top100_platform= df_top100.groupby('Platform').sum()\n",
        "df_top100_platform = df_top100_platform.loc[:,\"NA_Sales\":\"Total_Sales\"]\n",
        "df_top100_platform = df_top100_platform.sort_values(\"Total_Sales\", ascending= False)\n",
        "\n",
        "df_top100_platform= df_top100_platform.reset_index()\n",
        "df_top100_platform"
      ],
      "metadata": {
        "id": "DF2uFDocIAe8"
      },
      "execution_count": null,
      "outputs": []
    },
    {
      "cell_type": "code",
      "source": [
        "df_top100_platform['Total_Sales'].sum()"
      ],
      "metadata": {
        "colab": {
          "base_uri": "https://localhost:8080/"
        },
        "id": "fmGrtQetzqaK",
        "outputId": "31453a3e-3288-4f09-d8b8-1e99a072fe55"
      },
      "execution_count": null,
      "outputs": [
        {
          "output_type": "execute_result",
          "data": {
            "text/plain": [
              "1239.17001278"
            ]
          },
          "metadata": {},
          "execution_count": 41
        }
      ]
    },
    {
      "cell_type": "code",
      "source": [
        "#Best Selling Platforms in the last5\n",
        "df_R_top100_platform= df_R_top100.groupby('Platform').sum()\n",
        "df_R_top100_platform = df_R_top100_platform.loc[:,\"NA_Sales\":\"Total_Sales\"]\n",
        "df_R_top100_platform = df_R_top100_platform.sort_values(\"Total_Sales\", ascending= False)\n",
        "\n",
        "df_R_top100_platform= df_R_top100_platform.reset_index()\n",
        "df_R_top100_platform"
      ],
      "metadata": {
        "id": "ft9q_jzpIVHz"
      },
      "execution_count": null,
      "outputs": []
    },
    {
      "cell_type": "code",
      "source": [
        "#Best Selling Publisher in the last20\n",
        "df_top100_pub= df_top100.groupby('Publisher').sum()\n",
        "df_top100_pub = df_top100_pub.loc[:,\"NA_Sales\":\"Total_Sales\"]\n",
        "df_top100_pub = df_top100_pub.sort_values(\"Total_Sales\", ascending= False)\n",
        "\n",
        "df_top100_pub= df_top100_pub.reset_index()\n",
        "df_top100_pub"
      ],
      "metadata": {
        "id": "4O22LfBbIkzL"
      },
      "execution_count": null,
      "outputs": []
    },
    {
      "cell_type": "code",
      "source": [
        "#Best Selling Publishers in the last5\n",
        "df_R_top100_pub= df_R_top100.groupby('Publisher').sum()\n",
        "df_R_top100_pub = df_R_top100_pub.loc[:,\"NA_Sales\":\"Total_Sales\"]\n",
        "df_R_top100_pub = df_R_top100_pub.sort_values(\"Total_Sales\", ascending= False)\n",
        "\n",
        "df_R_top100_pub = df_R_top100_pub.reset_index()\n",
        "df_R_top100_pub"
      ],
      "metadata": {
        "id": "OX1XaYAuIwhE"
      },
      "execution_count": null,
      "outputs": []
    },
    {
      "cell_type": "code",
      "source": [
        "#Ttest between Overall Sales(last20) and Recent Sales(last5) by Total Sales\n",
        "\n",
        "#Null Hypothesis: Overall Sales and Recent Sales are Independent\n",
        "#Alternative Hypothesis: Overall Sales and Recent Sales are NOT Independent\n",
        "\n",
        "import numpy as np\n",
        "from scipy import stats\n",
        "\n",
        "print(np.mean(df_top100_sales))\n",
        "print(np.mean(df_R_top100_sales))\n",
        "\n",
        "pval = stats.ttest_ind(df_top100_sales, df_R_top100_sales).pvalue\n",
        "\n",
        "print(pval)\n",
        "\n",
        "#P-Value is 2.2672 e-26, therefore we accept the Alternative Hypothesis and reject the Null Hypothesis\n",
        "#DEPENDENT"
      ],
      "metadata": {
        "colab": {
          "base_uri": "https://localhost:8080/"
        },
        "id": "dpljSvyjIkby",
        "outputId": "51c07b8d-161a-4920-a7cf-e02598b29cb8"
      },
      "execution_count": null,
      "outputs": [
        {
          "output_type": "stream",
          "name": "stdout",
          "text": [
            "12.391700127800002\n",
            "0.5910000162000002\n",
            "2.2672643547393913e-26\n"
          ]
        }
      ]
    },
    {
      "cell_type": "code",
      "source": [
        "#Total Sales by Publisher\n",
        "import seaborn as sns\n",
        "import matplotlib.pyplot as plt\n",
        "\n",
        "plt.figure(figsize=(25,10))\n",
        "x = df_top100_pub['Publisher']\n",
        "y = df_top100_pub['Total_Sales']\n",
        "\n",
        "\n",
        "sns.barplot(data = df_top100_pub, x = x, y = y)\n",
        "\n"
      ],
      "metadata": {
        "id": "IuCBuoY8hy6O"
      },
      "execution_count": null,
      "outputs": []
    },
    {
      "cell_type": "code",
      "source": [
        "df_top100_tidy = df_top100.melt(id_vars= 'Name', value_vars= [\"Publisher\", 'Total_Sales'])\n",
        "df_top100_tidy\n",
        "\n",
        "df_top100_tidy_pub=df_top100_tidy.head(100)\n",
        "df_top100_tidy_sales=df_top100_tidy.tail(100)\n",
        "\n",
        "df_top100_tidy_sales= df_top100_tidy_sales.reset_index()\n",
        "df_top100_tidy_sales['Total_Sales']= df_top100_tidy_sales['value']\n",
        "tidy_sales = df_top100_tidy_sales['Total_Sales']\n",
        "df_top100_tidy_pub['Publisher']= df_top100_tidy_pub['value']\n",
        "df_top100_pub_sales = pd.concat([df_top100_tidy_pub, tidy_sales], axis = 1)\n",
        "df_top100_pub_sales = df_top100_pub_sales.drop('value', axis ='columns', inplace= False)\n",
        "df_top100_pub_sales"
      ],
      "metadata": {
        "id": "ZDUltnbXbRyZ"
      },
      "execution_count": null,
      "outputs": []
    },
    {
      "cell_type": "code",
      "source": [
        "#df of Best Selling Nintendo Games from 2000-2020 in top 100 list\n",
        "df = df_top100[df_top100.Publisher=='Nintendo']\n",
        "df = df.reset_index()\n",
        "df_nintendo = df.drop(columns='index')\n",
        "df_nintendo"
      ],
      "metadata": {
        "id": "DokOiYbO2WGJ"
      },
      "execution_count": null,
      "outputs": []
    },
    {
      "cell_type": "code",
      "source": [
        "#Best Selling Genre in the Nintendo 2000-2020\n",
        "df_nintendo_genre= df_nintendo.groupby('Genre').sum()\n",
        "df_nintendo_genre= df_nintendo_genre.drop(columns='Year').sort_values('Total_Sales', ascending= False)\n",
        "df_nintendo_genre_total = df_nintendo_genre.loc[:,\"Total_Sales\":]\n",
        "\n",
        "df_nintendo_genre_total"
      ],
      "metadata": {
        "id": "gH8h3nIp5U8V"
      },
      "execution_count": null,
      "outputs": []
    },
    {
      "cell_type": "code",
      "source": [
        "#Best Selling Genre in the Nintendo 2000-2020 by Region\n",
        "df_nintendo_genre_NA= df_nintendo_genre.loc[:,:\"NA_Sales\"]\n",
        "df_nintendo_genre_NA= df_nintendo_genre_NA.sort_values('NA_Sales', ascending= False)\n",
        "df_nintendo_genre_EU= df_nintendo_genre.loc[:,\"EU_Sales\":\"EU_Sales\"]\n",
        "df_nintendo_genre_EU= df_nintendo_genre_EU.sort_values('EU_Sales', ascending= False)\n",
        "df_nintendo_genre_JP= df_nintendo_genre.loc[:,\"JP_Sales\":\"JP_Sales\"]\n",
        "df_nintendo_genre_JP= df_nintendo_genre_JP.sort_values('JP_Sales', ascending= False)\n",
        "df_nintendo_genre_Others=df_nintendo_genre.loc[:,'Other_Sales':'Other_Sales']\n",
        "df_nintendo_genre_Others= df_nintendo_genre_Others.sort_values('Other_Sales', ascending= False)\n"
      ],
      "metadata": {
        "id": "5rYNtmvg8fou"
      },
      "execution_count": null,
      "outputs": []
    },
    {
      "cell_type": "code",
      "source": [
        "#Total_genre\n",
        "import seaborn as sns\n",
        "import matplotlib.pyplot as plt\n",
        "\n",
        "plt.figure(figsize= (20,10))\n",
        "x = df_nintendo_genre.index\n",
        "y = df_nintendo_genre['Total_Sales']\n",
        "sns.barplot(data=df_nintendo_genre, x=x, y=y)"
      ],
      "metadata": {
        "id": "FqPzF0yV6KZ2"
      },
      "execution_count": null,
      "outputs": []
    },
    {
      "cell_type": "code",
      "source": [
        "#NA_genre\n",
        "import seaborn as sns\n",
        "import matplotlib.pyplot as plt\n",
        "\n",
        "plt.figure(figsize= (10,5))\n",
        "x = df_nintendo_genre_NA.index\n",
        "y = df_nintendo_genre_NA['NA_Sales']\n",
        "sns.barplot(data=df_nintendo_genre_NA, x=x, y=y)"
      ],
      "metadata": {
        "id": "3yVKkEpj-sTU"
      },
      "execution_count": null,
      "outputs": []
    },
    {
      "cell_type": "code",
      "source": [
        "#EU_genre\n",
        "import seaborn as sns\n",
        "import matplotlib.pyplot as plt\n",
        "\n",
        "plt.figure(figsize= (10,5))\n",
        "x = df_nintendo_genre_EU.index\n",
        "y = df_nintendo_genre_EU['EU_Sales']\n",
        "sns.barplot(data=df_nintendo_genre_EU, x=x, y=y)"
      ],
      "metadata": {
        "id": "GfkBhgCR_GPX"
      },
      "execution_count": null,
      "outputs": []
    },
    {
      "cell_type": "code",
      "source": [
        "#JP_genre\n",
        "import seaborn as sns\n",
        "import matplotlib.pyplot as plt\n",
        "\n",
        "plt.figure(figsize= (10,5))\n",
        "x = df_nintendo_genre_JP.index\n",
        "y = df_nintendo_genre_JP['JP_Sales']\n",
        "sns.barplot(data=df_nintendo_genre_JP, x=x, y=y)"
      ],
      "metadata": {
        "id": "I-R08MO-_SU-"
      },
      "execution_count": null,
      "outputs": []
    },
    {
      "cell_type": "code",
      "source": [
        "#Other_genre\n",
        "import seaborn as sns\n",
        "import matplotlib.pyplot as plt\n",
        "\n",
        "plt.figure(figsize= (10,5))\n",
        "x = df_nintendo_genre_Others.index\n",
        "y = df_nintendo_genre_Others['Other_Sales']\n",
        "sns.barplot(data=df_nintendo_genre_Others, x=x, y=y)"
      ],
      "metadata": {
        "id": "P282w7KQ_aec"
      },
      "execution_count": null,
      "outputs": []
    },
    {
      "cell_type": "code",
      "source": [
        "#Top 5 Genres\n",
        "df_sport= df_nintendo[df_nintendo.Genre == 'Sports']\n",
        "df_platform=df_nintendo[df_nintendo.Genre == 'Platform']\n",
        "df_roleplay=df_nintendo[df_nintendo.Genre == 'Role-Playing']\n",
        "df_misc=df_nintendo[df_nintendo.Genre == 'Misc']\n",
        "df_racing= df_nintendo[df_nintendo.Genre == 'Racing']\n"
      ],
      "metadata": {
        "id": "c_YOMg-KTaKm"
      },
      "execution_count": null,
      "outputs": []
    },
    {
      "cell_type": "code",
      "source": [
        "#Other Genres\n",
        "df_action=df_nintendo[df_nintendo.Genre == 'Action']\n",
        "df_simulation=df_nintendo[df_nintendo.Genre == 'Simulation']\n",
        "df_fighting=df_nintendo[df_nintendo.Genre == 'Fighting']\n",
        "df_puzzle= df_nintendo[df_nintendo.Genre == 'Puzzle']"
      ],
      "metadata": {
        "id": "eUiIYNO8V1NJ"
      },
      "execution_count": null,
      "outputs": []
    },
    {
      "cell_type": "code",
      "source": [
        "#Nintendo Sales by Year\n",
        "import seaborn as sns\n",
        "import matplotlib.pyplot as plt\n",
        "\n",
        "plt.figure(figsize=(15,7))\n",
        "x = df_nintendo['Year']\n",
        "y = df_nintendo['Total_Sales']\n",
        "a = df_nintendo['Publisher']\n",
        "plt.xticks(x)\n",
        "sns.lineplot(data = df_nintendo, x = x, y = y, hue = a)\n",
        "\n"
      ],
      "metadata": {
        "id": "7QJdI9-qykO-"
      },
      "execution_count": null,
      "outputs": []
    },
    {
      "cell_type": "code",
      "source": [
        "#All Publisher Sales by Year\n",
        "import seaborn as sns\n",
        "import matplotlib.pyplot as plt\n",
        "\n",
        "plt.figure(figsize=(15,7))\n",
        "x = df_top100['Year']\n",
        "y = df_top100['Total_Sales']\n",
        "a = df_top100['Publisher']\n",
        "plt.xticks(x)\n",
        "sns.lineplot(data = df_top100, x = x, y = y, hue = a)\n",
        "\n"
      ],
      "metadata": {
        "id": "vX0U9HWvrh09"
      },
      "execution_count": null,
      "outputs": []
    }
  ]
}