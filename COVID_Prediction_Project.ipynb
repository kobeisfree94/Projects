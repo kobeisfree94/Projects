{
  "nbformat": 4,
  "nbformat_minor": 0,
  "metadata": {
    "colab": {
      "name": "COVID Prediction Project.ipynb",
      "provenance": [],
      "collapsed_sections": [],
      "include_colab_link": true
    },
    "kernelspec": {
      "name": "python3",
      "display_name": "Python 3"
    },
    "language_info": {
      "name": "python"
    }
  },
  "cells": [
    {
      "cell_type": "markdown",
      "metadata": {
        "id": "view-in-github",
        "colab_type": "text"
      },
      "source": [
        "<a href=\"https://colab.research.google.com/github/kobeisfree94/Projects/blob/master/COVID_Prediction_Project.ipynb\" target=\"_parent\"><img src=\"https://colab.research.google.com/assets/colab-badge.svg\" alt=\"Open In Colab\"/></a>"
      ]
    },
    {
      "cell_type": "code",
      "source": [
        "!pip install pystan~=2.14\n",
        "!pip install fbprophet"
      ],
      "metadata": {
        "colab": {
          "base_uri": "https://localhost:8080/"
        },
        "id": "wj_kq-LkcZ0_",
        "outputId": "b6509d1e-50ea-466d-fe6c-9889c636e619"
      },
      "execution_count": 1,
      "outputs": [
        {
          "output_type": "stream",
          "name": "stdout",
          "text": [
            "Looking in indexes: https://pypi.org/simple, https://us-python.pkg.dev/colab-wheels/public/simple/\n",
            "Requirement already satisfied: pystan~=2.14 in /usr/local/lib/python3.7/dist-packages (2.19.1.1)\n",
            "Requirement already satisfied: numpy>=1.7 in /usr/local/lib/python3.7/dist-packages (from pystan~=2.14) (1.21.6)\n",
            "Requirement already satisfied: Cython!=0.25.1,>=0.22 in /usr/local/lib/python3.7/dist-packages (from pystan~=2.14) (0.29.30)\n",
            "Looking in indexes: https://pypi.org/simple, https://us-python.pkg.dev/colab-wheels/public/simple/\n",
            "Requirement already satisfied: fbprophet in /usr/local/lib/python3.7/dist-packages (0.7.1)\n",
            "Requirement already satisfied: holidays>=0.10.2 in /usr/local/lib/python3.7/dist-packages (from fbprophet) (0.14.2)\n",
            "Requirement already satisfied: tqdm>=4.36.1 in /usr/local/lib/python3.7/dist-packages (from fbprophet) (4.64.0)\n",
            "Requirement already satisfied: convertdate>=2.1.2 in /usr/local/lib/python3.7/dist-packages (from fbprophet) (2.4.0)\n",
            "Requirement already satisfied: Cython>=0.22 in /usr/local/lib/python3.7/dist-packages (from fbprophet) (0.29.30)\n",
            "Requirement already satisfied: pandas>=1.0.4 in /usr/local/lib/python3.7/dist-packages (from fbprophet) (1.3.5)\n",
            "Requirement already satisfied: setuptools-git>=1.2 in /usr/local/lib/python3.7/dist-packages (from fbprophet) (1.2)\n",
            "Requirement already satisfied: numpy>=1.15.4 in /usr/local/lib/python3.7/dist-packages (from fbprophet) (1.21.6)\n",
            "Requirement already satisfied: cmdstanpy==0.9.5 in /usr/local/lib/python3.7/dist-packages (from fbprophet) (0.9.5)\n",
            "Requirement already satisfied: pystan>=2.14 in /usr/local/lib/python3.7/dist-packages (from fbprophet) (2.19.1.1)\n",
            "Requirement already satisfied: LunarCalendar>=0.0.9 in /usr/local/lib/python3.7/dist-packages (from fbprophet) (0.0.9)\n",
            "Requirement already satisfied: matplotlib>=2.0.0 in /usr/local/lib/python3.7/dist-packages (from fbprophet) (3.2.2)\n",
            "Requirement already satisfied: python-dateutil>=2.8.0 in /usr/local/lib/python3.7/dist-packages (from fbprophet) (2.8.2)\n",
            "Requirement already satisfied: pymeeus<=1,>=0.3.13 in /usr/local/lib/python3.7/dist-packages (from convertdate>=2.1.2->fbprophet) (0.5.11)\n",
            "Requirement already satisfied: hijri-converter in /usr/local/lib/python3.7/dist-packages (from holidays>=0.10.2->fbprophet) (2.2.4)\n",
            "Requirement already satisfied: korean-lunar-calendar in /usr/local/lib/python3.7/dist-packages (from holidays>=0.10.2->fbprophet) (0.2.1)\n",
            "Requirement already satisfied: pytz in /usr/local/lib/python3.7/dist-packages (from LunarCalendar>=0.0.9->fbprophet) (2022.1)\n",
            "Requirement already satisfied: ephem>=3.7.5.3 in /usr/local/lib/python3.7/dist-packages (from LunarCalendar>=0.0.9->fbprophet) (4.1.3)\n",
            "Requirement already satisfied: pyparsing!=2.0.4,!=2.1.2,!=2.1.6,>=2.0.1 in /usr/local/lib/python3.7/dist-packages (from matplotlib>=2.0.0->fbprophet) (3.0.9)\n",
            "Requirement already satisfied: kiwisolver>=1.0.1 in /usr/local/lib/python3.7/dist-packages (from matplotlib>=2.0.0->fbprophet) (1.4.4)\n",
            "Requirement already satisfied: cycler>=0.10 in /usr/local/lib/python3.7/dist-packages (from matplotlib>=2.0.0->fbprophet) (0.11.0)\n",
            "Requirement already satisfied: typing-extensions in /usr/local/lib/python3.7/dist-packages (from kiwisolver>=1.0.1->matplotlib>=2.0.0->fbprophet) (4.1.1)\n",
            "Requirement already satisfied: six>=1.5 in /usr/local/lib/python3.7/dist-packages (from python-dateutil>=2.8.0->fbprophet) (1.15.0)\n"
          ]
        }
      ]
    },
    {
      "cell_type": "code",
      "execution_count": 2,
      "metadata": {
        "id": "-VJh5hUTBICZ"
      },
      "outputs": [],
      "source": [
        "from google.colab import drive\n",
        "import pandas as pd\n",
        "import numpy as np\n",
        "import seaborn as sns\n",
        "import matplotlib as mpl\n",
        "import matplotlib.pyplot as plt\n",
        "import matplotlib.ticker as ticker\n",
        "import matplotlib.font_manager as fm \n",
        "import datetime as dt\n",
        "from fbprophet import Prophet"
      ]
    },
    {
      "cell_type": "code",
      "source": [
        "drive.mount('/content/gdrive')\n",
        "\n",
        "df = pd.read_csv('/content/gdrive/My Drive/DataSets/covid_19_data.csv')"
      ],
      "metadata": {
        "colab": {
          "base_uri": "https://localhost:8080/"
        },
        "id": "mjXCuNiWBXHg",
        "outputId": "dfb1311c-6606-48f4-f7ab-b6dd7f85aecb"
      },
      "execution_count": 3,
      "outputs": [
        {
          "output_type": "stream",
          "name": "stdout",
          "text": [
            "Drive already mounted at /content/gdrive; to attempt to forcibly remount, call drive.mount(\"/content/gdrive\", force_remount=True).\n"
          ]
        }
      ]
    },
    {
      "cell_type": "markdown",
      "source": [
        "# **Exploratory Data Analysis**"
      ],
      "metadata": {
        "id": "_K1nc14MySnb"
      }
    },
    {
      "cell_type": "code",
      "source": [
        "df.shape"
      ],
      "metadata": {
        "colab": {
          "base_uri": "https://localhost:8080/"
        },
        "id": "gL0BHUD3Ktvo",
        "outputId": "f1976f00-3f8d-41bc-a85b-73c1089019e6"
      },
      "execution_count": 4,
      "outputs": [
        {
          "output_type": "execute_result",
          "data": {
            "text/plain": [
              "(306429, 8)"
            ]
          },
          "metadata": {},
          "execution_count": 4
        }
      ]
    },
    {
      "cell_type": "code",
      "source": [
        "df.info()"
      ],
      "metadata": {
        "colab": {
          "base_uri": "https://localhost:8080/"
        },
        "id": "9FXKe5gwK5cn",
        "outputId": "14faf2e6-472c-4b94-9d48-73e0f549e3b9"
      },
      "execution_count": 5,
      "outputs": [
        {
          "output_type": "stream",
          "name": "stdout",
          "text": [
            "<class 'pandas.core.frame.DataFrame'>\n",
            "RangeIndex: 306429 entries, 0 to 306428\n",
            "Data columns (total 8 columns):\n",
            " #   Column           Non-Null Count   Dtype  \n",
            "---  ------           --------------   -----  \n",
            " 0   SNo              306429 non-null  int64  \n",
            " 1   ObservationDate  306429 non-null  object \n",
            " 2   Province/State   228329 non-null  object \n",
            " 3   Country/Region   306429 non-null  object \n",
            " 4   Last Update      306429 non-null  object \n",
            " 5   Confirmed        306429 non-null  float64\n",
            " 6   Deaths           306429 non-null  float64\n",
            " 7   Recovered        306429 non-null  float64\n",
            "dtypes: float64(3), int64(1), object(4)\n",
            "memory usage: 18.7+ MB\n"
          ]
        }
      ]
    },
    {
      "cell_type": "code",
      "source": [
        "#Check Missing Values\n",
        "df.isna().sum()"
      ],
      "metadata": {
        "colab": {
          "base_uri": "https://localhost:8080/"
        },
        "id": "59V4y3UdK6NO",
        "outputId": "b435170e-ad93-4820-d34d-0d59caf92f2f"
      },
      "execution_count": 6,
      "outputs": [
        {
          "output_type": "execute_result",
          "data": {
            "text/plain": [
              "SNo                    0\n",
              "ObservationDate        0\n",
              "Province/State     78100\n",
              "Country/Region         0\n",
              "Last Update            0\n",
              "Confirmed              0\n",
              "Deaths                 0\n",
              "Recovered              0\n",
              "dtype: int64"
            ]
          },
          "metadata": {},
          "execution_count": 6
        }
      ]
    },
    {
      "cell_type": "code",
      "source": [
        "df.head(5)"
      ],
      "metadata": {
        "colab": {
          "base_uri": "https://localhost:8080/",
          "height": 206
        },
        "id": "Vp6N_4_xK7pe",
        "outputId": "4dcaa25b-d3c8-46b0-c3bb-97ef6cb19ae3"
      },
      "execution_count": 7,
      "outputs": [
        {
          "output_type": "execute_result",
          "data": {
            "text/plain": [
              "   SNo ObservationDate Province/State  Country/Region      Last Update  \\\n",
              "0    1      01/22/2020          Anhui  Mainland China  1/22/2020 17:00   \n",
              "1    2      01/22/2020        Beijing  Mainland China  1/22/2020 17:00   \n",
              "2    3      01/22/2020      Chongqing  Mainland China  1/22/2020 17:00   \n",
              "3    4      01/22/2020         Fujian  Mainland China  1/22/2020 17:00   \n",
              "4    5      01/22/2020          Gansu  Mainland China  1/22/2020 17:00   \n",
              "\n",
              "   Confirmed  Deaths  Recovered  \n",
              "0        1.0     0.0        0.0  \n",
              "1       14.0     0.0        0.0  \n",
              "2        6.0     0.0        0.0  \n",
              "3        1.0     0.0        0.0  \n",
              "4        0.0     0.0        0.0  "
            ],
            "text/html": [
              "\n",
              "  <div id=\"df-b0f4656c-a73e-4f1d-b0fe-b642e17453bd\">\n",
              "    <div class=\"colab-df-container\">\n",
              "      <div>\n",
              "<style scoped>\n",
              "    .dataframe tbody tr th:only-of-type {\n",
              "        vertical-align: middle;\n",
              "    }\n",
              "\n",
              "    .dataframe tbody tr th {\n",
              "        vertical-align: top;\n",
              "    }\n",
              "\n",
              "    .dataframe thead th {\n",
              "        text-align: right;\n",
              "    }\n",
              "</style>\n",
              "<table border=\"1\" class=\"dataframe\">\n",
              "  <thead>\n",
              "    <tr style=\"text-align: right;\">\n",
              "      <th></th>\n",
              "      <th>SNo</th>\n",
              "      <th>ObservationDate</th>\n",
              "      <th>Province/State</th>\n",
              "      <th>Country/Region</th>\n",
              "      <th>Last Update</th>\n",
              "      <th>Confirmed</th>\n",
              "      <th>Deaths</th>\n",
              "      <th>Recovered</th>\n",
              "    </tr>\n",
              "  </thead>\n",
              "  <tbody>\n",
              "    <tr>\n",
              "      <th>0</th>\n",
              "      <td>1</td>\n",
              "      <td>01/22/2020</td>\n",
              "      <td>Anhui</td>\n",
              "      <td>Mainland China</td>\n",
              "      <td>1/22/2020 17:00</td>\n",
              "      <td>1.0</td>\n",
              "      <td>0.0</td>\n",
              "      <td>0.0</td>\n",
              "    </tr>\n",
              "    <tr>\n",
              "      <th>1</th>\n",
              "      <td>2</td>\n",
              "      <td>01/22/2020</td>\n",
              "      <td>Beijing</td>\n",
              "      <td>Mainland China</td>\n",
              "      <td>1/22/2020 17:00</td>\n",
              "      <td>14.0</td>\n",
              "      <td>0.0</td>\n",
              "      <td>0.0</td>\n",
              "    </tr>\n",
              "    <tr>\n",
              "      <th>2</th>\n",
              "      <td>3</td>\n",
              "      <td>01/22/2020</td>\n",
              "      <td>Chongqing</td>\n",
              "      <td>Mainland China</td>\n",
              "      <td>1/22/2020 17:00</td>\n",
              "      <td>6.0</td>\n",
              "      <td>0.0</td>\n",
              "      <td>0.0</td>\n",
              "    </tr>\n",
              "    <tr>\n",
              "      <th>3</th>\n",
              "      <td>4</td>\n",
              "      <td>01/22/2020</td>\n",
              "      <td>Fujian</td>\n",
              "      <td>Mainland China</td>\n",
              "      <td>1/22/2020 17:00</td>\n",
              "      <td>1.0</td>\n",
              "      <td>0.0</td>\n",
              "      <td>0.0</td>\n",
              "    </tr>\n",
              "    <tr>\n",
              "      <th>4</th>\n",
              "      <td>5</td>\n",
              "      <td>01/22/2020</td>\n",
              "      <td>Gansu</td>\n",
              "      <td>Mainland China</td>\n",
              "      <td>1/22/2020 17:00</td>\n",
              "      <td>0.0</td>\n",
              "      <td>0.0</td>\n",
              "      <td>0.0</td>\n",
              "    </tr>\n",
              "  </tbody>\n",
              "</table>\n",
              "</div>\n",
              "      <button class=\"colab-df-convert\" onclick=\"convertToInteractive('df-b0f4656c-a73e-4f1d-b0fe-b642e17453bd')\"\n",
              "              title=\"Convert this dataframe to an interactive table.\"\n",
              "              style=\"display:none;\">\n",
              "        \n",
              "  <svg xmlns=\"http://www.w3.org/2000/svg\" height=\"24px\"viewBox=\"0 0 24 24\"\n",
              "       width=\"24px\">\n",
              "    <path d=\"M0 0h24v24H0V0z\" fill=\"none\"/>\n",
              "    <path d=\"M18.56 5.44l.94 2.06.94-2.06 2.06-.94-2.06-.94-.94-2.06-.94 2.06-2.06.94zm-11 1L8.5 8.5l.94-2.06 2.06-.94-2.06-.94L8.5 2.5l-.94 2.06-2.06.94zm10 10l.94 2.06.94-2.06 2.06-.94-2.06-.94-.94-2.06-.94 2.06-2.06.94z\"/><path d=\"M17.41 7.96l-1.37-1.37c-.4-.4-.92-.59-1.43-.59-.52 0-1.04.2-1.43.59L10.3 9.45l-7.72 7.72c-.78.78-.78 2.05 0 2.83L4 21.41c.39.39.9.59 1.41.59.51 0 1.02-.2 1.41-.59l7.78-7.78 2.81-2.81c.8-.78.8-2.07 0-2.86zM5.41 20L4 18.59l7.72-7.72 1.47 1.35L5.41 20z\"/>\n",
              "  </svg>\n",
              "      </button>\n",
              "      \n",
              "  <style>\n",
              "    .colab-df-container {\n",
              "      display:flex;\n",
              "      flex-wrap:wrap;\n",
              "      gap: 12px;\n",
              "    }\n",
              "\n",
              "    .colab-df-convert {\n",
              "      background-color: #E8F0FE;\n",
              "      border: none;\n",
              "      border-radius: 50%;\n",
              "      cursor: pointer;\n",
              "      display: none;\n",
              "      fill: #1967D2;\n",
              "      height: 32px;\n",
              "      padding: 0 0 0 0;\n",
              "      width: 32px;\n",
              "    }\n",
              "\n",
              "    .colab-df-convert:hover {\n",
              "      background-color: #E2EBFA;\n",
              "      box-shadow: 0px 1px 2px rgba(60, 64, 67, 0.3), 0px 1px 3px 1px rgba(60, 64, 67, 0.15);\n",
              "      fill: #174EA6;\n",
              "    }\n",
              "\n",
              "    [theme=dark] .colab-df-convert {\n",
              "      background-color: #3B4455;\n",
              "      fill: #D2E3FC;\n",
              "    }\n",
              "\n",
              "    [theme=dark] .colab-df-convert:hover {\n",
              "      background-color: #434B5C;\n",
              "      box-shadow: 0px 1px 3px 1px rgba(0, 0, 0, 0.15);\n",
              "      filter: drop-shadow(0px 1px 2px rgba(0, 0, 0, 0.3));\n",
              "      fill: #FFFFFF;\n",
              "    }\n",
              "  </style>\n",
              "\n",
              "      <script>\n",
              "        const buttonEl =\n",
              "          document.querySelector('#df-b0f4656c-a73e-4f1d-b0fe-b642e17453bd button.colab-df-convert');\n",
              "        buttonEl.style.display =\n",
              "          google.colab.kernel.accessAllowed ? 'block' : 'none';\n",
              "\n",
              "        async function convertToInteractive(key) {\n",
              "          const element = document.querySelector('#df-b0f4656c-a73e-4f1d-b0fe-b642e17453bd');\n",
              "          const dataTable =\n",
              "            await google.colab.kernel.invokeFunction('convertToInteractive',\n",
              "                                                     [key], {});\n",
              "          if (!dataTable) return;\n",
              "\n",
              "          const docLinkHtml = 'Like what you see? Visit the ' +\n",
              "            '<a target=\"_blank\" href=https://colab.research.google.com/notebooks/data_table.ipynb>data table notebook</a>'\n",
              "            + ' to learn more about interactive tables.';\n",
              "          element.innerHTML = '';\n",
              "          dataTable['output_type'] = 'display_data';\n",
              "          await google.colab.output.renderOutput(dataTable, element);\n",
              "          const docLink = document.createElement('div');\n",
              "          docLink.innerHTML = docLinkHtml;\n",
              "          element.appendChild(docLink);\n",
              "        }\n",
              "      </script>\n",
              "    </div>\n",
              "  </div>\n",
              "  "
            ]
          },
          "metadata": {},
          "execution_count": 7
        }
      ]
    },
    {
      "cell_type": "code",
      "source": [
        "df.tail(5)"
      ],
      "metadata": {
        "colab": {
          "base_uri": "https://localhost:8080/",
          "height": 206
        },
        "id": "UT_BFkWaK9X3",
        "outputId": "5ec38dc7-628f-4718-fe02-5a01b219e90f"
      },
      "execution_count": 8,
      "outputs": [
        {
          "output_type": "execute_result",
          "data": {
            "text/plain": [
              "           SNo ObservationDate     Province/State  Country/Region  \\\n",
              "306424  306425      05/29/2021  Zaporizhia Oblast         Ukraine   \n",
              "306425  306426      05/29/2021            Zeeland     Netherlands   \n",
              "306426  306427      05/29/2021           Zhejiang  Mainland China   \n",
              "306427  306428      05/29/2021    Zhytomyr Oblast         Ukraine   \n",
              "306428  306429      05/29/2021       Zuid-Holland     Netherlands   \n",
              "\n",
              "                Last Update  Confirmed  Deaths  Recovered  \n",
              "306424  2021-05-30 04:20:55   102641.0  2335.0    95289.0  \n",
              "306425  2021-05-30 04:20:55    29147.0   245.0        0.0  \n",
              "306426  2021-05-30 04:20:55     1364.0     1.0     1324.0  \n",
              "306427  2021-05-30 04:20:55    87550.0  1738.0    83790.0  \n",
              "306428  2021-05-30 04:20:55   391559.0  4252.0        0.0  "
            ],
            "text/html": [
              "\n",
              "  <div id=\"df-bf083a51-1d39-4748-bc6c-c308faf8550f\">\n",
              "    <div class=\"colab-df-container\">\n",
              "      <div>\n",
              "<style scoped>\n",
              "    .dataframe tbody tr th:only-of-type {\n",
              "        vertical-align: middle;\n",
              "    }\n",
              "\n",
              "    .dataframe tbody tr th {\n",
              "        vertical-align: top;\n",
              "    }\n",
              "\n",
              "    .dataframe thead th {\n",
              "        text-align: right;\n",
              "    }\n",
              "</style>\n",
              "<table border=\"1\" class=\"dataframe\">\n",
              "  <thead>\n",
              "    <tr style=\"text-align: right;\">\n",
              "      <th></th>\n",
              "      <th>SNo</th>\n",
              "      <th>ObservationDate</th>\n",
              "      <th>Province/State</th>\n",
              "      <th>Country/Region</th>\n",
              "      <th>Last Update</th>\n",
              "      <th>Confirmed</th>\n",
              "      <th>Deaths</th>\n",
              "      <th>Recovered</th>\n",
              "    </tr>\n",
              "  </thead>\n",
              "  <tbody>\n",
              "    <tr>\n",
              "      <th>306424</th>\n",
              "      <td>306425</td>\n",
              "      <td>05/29/2021</td>\n",
              "      <td>Zaporizhia Oblast</td>\n",
              "      <td>Ukraine</td>\n",
              "      <td>2021-05-30 04:20:55</td>\n",
              "      <td>102641.0</td>\n",
              "      <td>2335.0</td>\n",
              "      <td>95289.0</td>\n",
              "    </tr>\n",
              "    <tr>\n",
              "      <th>306425</th>\n",
              "      <td>306426</td>\n",
              "      <td>05/29/2021</td>\n",
              "      <td>Zeeland</td>\n",
              "      <td>Netherlands</td>\n",
              "      <td>2021-05-30 04:20:55</td>\n",
              "      <td>29147.0</td>\n",
              "      <td>245.0</td>\n",
              "      <td>0.0</td>\n",
              "    </tr>\n",
              "    <tr>\n",
              "      <th>306426</th>\n",
              "      <td>306427</td>\n",
              "      <td>05/29/2021</td>\n",
              "      <td>Zhejiang</td>\n",
              "      <td>Mainland China</td>\n",
              "      <td>2021-05-30 04:20:55</td>\n",
              "      <td>1364.0</td>\n",
              "      <td>1.0</td>\n",
              "      <td>1324.0</td>\n",
              "    </tr>\n",
              "    <tr>\n",
              "      <th>306427</th>\n",
              "      <td>306428</td>\n",
              "      <td>05/29/2021</td>\n",
              "      <td>Zhytomyr Oblast</td>\n",
              "      <td>Ukraine</td>\n",
              "      <td>2021-05-30 04:20:55</td>\n",
              "      <td>87550.0</td>\n",
              "      <td>1738.0</td>\n",
              "      <td>83790.0</td>\n",
              "    </tr>\n",
              "    <tr>\n",
              "      <th>306428</th>\n",
              "      <td>306429</td>\n",
              "      <td>05/29/2021</td>\n",
              "      <td>Zuid-Holland</td>\n",
              "      <td>Netherlands</td>\n",
              "      <td>2021-05-30 04:20:55</td>\n",
              "      <td>391559.0</td>\n",
              "      <td>4252.0</td>\n",
              "      <td>0.0</td>\n",
              "    </tr>\n",
              "  </tbody>\n",
              "</table>\n",
              "</div>\n",
              "      <button class=\"colab-df-convert\" onclick=\"convertToInteractive('df-bf083a51-1d39-4748-bc6c-c308faf8550f')\"\n",
              "              title=\"Convert this dataframe to an interactive table.\"\n",
              "              style=\"display:none;\">\n",
              "        \n",
              "  <svg xmlns=\"http://www.w3.org/2000/svg\" height=\"24px\"viewBox=\"0 0 24 24\"\n",
              "       width=\"24px\">\n",
              "    <path d=\"M0 0h24v24H0V0z\" fill=\"none\"/>\n",
              "    <path d=\"M18.56 5.44l.94 2.06.94-2.06 2.06-.94-2.06-.94-.94-2.06-.94 2.06-2.06.94zm-11 1L8.5 8.5l.94-2.06 2.06-.94-2.06-.94L8.5 2.5l-.94 2.06-2.06.94zm10 10l.94 2.06.94-2.06 2.06-.94-2.06-.94-.94-2.06-.94 2.06-2.06.94z\"/><path d=\"M17.41 7.96l-1.37-1.37c-.4-.4-.92-.59-1.43-.59-.52 0-1.04.2-1.43.59L10.3 9.45l-7.72 7.72c-.78.78-.78 2.05 0 2.83L4 21.41c.39.39.9.59 1.41.59.51 0 1.02-.2 1.41-.59l7.78-7.78 2.81-2.81c.8-.78.8-2.07 0-2.86zM5.41 20L4 18.59l7.72-7.72 1.47 1.35L5.41 20z\"/>\n",
              "  </svg>\n",
              "      </button>\n",
              "      \n",
              "  <style>\n",
              "    .colab-df-container {\n",
              "      display:flex;\n",
              "      flex-wrap:wrap;\n",
              "      gap: 12px;\n",
              "    }\n",
              "\n",
              "    .colab-df-convert {\n",
              "      background-color: #E8F0FE;\n",
              "      border: none;\n",
              "      border-radius: 50%;\n",
              "      cursor: pointer;\n",
              "      display: none;\n",
              "      fill: #1967D2;\n",
              "      height: 32px;\n",
              "      padding: 0 0 0 0;\n",
              "      width: 32px;\n",
              "    }\n",
              "\n",
              "    .colab-df-convert:hover {\n",
              "      background-color: #E2EBFA;\n",
              "      box-shadow: 0px 1px 2px rgba(60, 64, 67, 0.3), 0px 1px 3px 1px rgba(60, 64, 67, 0.15);\n",
              "      fill: #174EA6;\n",
              "    }\n",
              "\n",
              "    [theme=dark] .colab-df-convert {\n",
              "      background-color: #3B4455;\n",
              "      fill: #D2E3FC;\n",
              "    }\n",
              "\n",
              "    [theme=dark] .colab-df-convert:hover {\n",
              "      background-color: #434B5C;\n",
              "      box-shadow: 0px 1px 3px 1px rgba(0, 0, 0, 0.15);\n",
              "      filter: drop-shadow(0px 1px 2px rgba(0, 0, 0, 0.3));\n",
              "      fill: #FFFFFF;\n",
              "    }\n",
              "  </style>\n",
              "\n",
              "      <script>\n",
              "        const buttonEl =\n",
              "          document.querySelector('#df-bf083a51-1d39-4748-bc6c-c308faf8550f button.colab-df-convert');\n",
              "        buttonEl.style.display =\n",
              "          google.colab.kernel.accessAllowed ? 'block' : 'none';\n",
              "\n",
              "        async function convertToInteractive(key) {\n",
              "          const element = document.querySelector('#df-bf083a51-1d39-4748-bc6c-c308faf8550f');\n",
              "          const dataTable =\n",
              "            await google.colab.kernel.invokeFunction('convertToInteractive',\n",
              "                                                     [key], {});\n",
              "          if (!dataTable) return;\n",
              "\n",
              "          const docLinkHtml = 'Like what you see? Visit the ' +\n",
              "            '<a target=\"_blank\" href=https://colab.research.google.com/notebooks/data_table.ipynb>data table notebook</a>'\n",
              "            + ' to learn more about interactive tables.';\n",
              "          element.innerHTML = '';\n",
              "          dataTable['output_type'] = 'display_data';\n",
              "          await google.colab.output.renderOutput(dataTable, element);\n",
              "          const docLink = document.createElement('div');\n",
              "          docLink.innerHTML = docLinkHtml;\n",
              "          element.appendChild(docLink);\n",
              "        }\n",
              "      </script>\n",
              "    </div>\n",
              "  </div>\n",
              "  "
            ]
          },
          "metadata": {},
          "execution_count": 8
        }
      ]
    },
    {
      "cell_type": "code",
      "source": [
        "df['ObservationDate'].unique()"
      ],
      "metadata": {
        "id": "5rqjPdA_K-vH",
        "colab": {
          "base_uri": "https://localhost:8080/"
        },
        "outputId": "89fdf2d1-ea0d-4aea-a588-b860dff856b7"
      },
      "execution_count": 9,
      "outputs": [
        {
          "output_type": "execute_result",
          "data": {
            "text/plain": [
              "array(['01/22/2020', '01/23/2020', '01/24/2020', '01/25/2020',\n",
              "       '01/26/2020', '01/27/2020', '01/28/2020', '01/29/2020',\n",
              "       '01/30/2020', '01/31/2020', '02/01/2020', '02/02/2020',\n",
              "       '02/03/2020', '02/04/2020', '02/05/2020', '02/06/2020',\n",
              "       '02/07/2020', '02/08/2020', '02/09/2020', '02/10/2020',\n",
              "       '02/11/2020', '02/12/2020', '02/13/2020', '02/14/2020',\n",
              "       '02/15/2020', '02/16/2020', '02/17/2020', '02/18/2020',\n",
              "       '02/19/2020', '02/20/2020', '02/21/2020', '02/22/2020',\n",
              "       '02/23/2020', '02/24/2020', '02/25/2020', '02/26/2020',\n",
              "       '02/27/2020', '02/28/2020', '02/29/2020', '03/01/2020',\n",
              "       '03/02/2020', '03/03/2020', '03/04/2020', '03/05/2020',\n",
              "       '03/06/2020', '03/07/2020', '03/08/2020', '03/09/2020',\n",
              "       '03/10/2020', '03/11/2020', '03/12/2020', '03/13/2020',\n",
              "       '03/14/2020', '03/15/2020', '03/16/2020', '03/17/2020',\n",
              "       '03/18/2020', '03/19/2020', '03/20/2020', '03/21/2020',\n",
              "       '03/22/2020', '03/23/2020', '03/24/2020', '03/25/2020',\n",
              "       '03/26/2020', '03/27/2020', '03/28/2020', '03/29/2020',\n",
              "       '03/30/2020', '03/31/2020', '04/01/2020', '04/02/2020',\n",
              "       '04/03/2020', '04/04/2020', '04/05/2020', '04/06/2020',\n",
              "       '04/07/2020', '04/08/2020', '04/09/2020', '04/10/2020',\n",
              "       '04/11/2020', '04/12/2020', '04/13/2020', '04/14/2020',\n",
              "       '04/15/2020', '04/16/2020', '04/17/2020', '04/18/2020',\n",
              "       '04/19/2020', '04/20/2020', '04/21/2020', '04/22/2020',\n",
              "       '04/23/2020', '04/24/2020', '04/25/2020', '04/26/2020',\n",
              "       '04/27/2020', '04/28/2020', '04/29/2020', '04/30/2020',\n",
              "       '05/01/2020', '05/02/2020', '05/03/2020', '05/04/2020',\n",
              "       '05/05/2020', '05/06/2020', '05/07/2020', '05/08/2020',\n",
              "       '05/09/2020', '05/10/2020', '05/11/2020', '05/12/2020',\n",
              "       '05/13/2020', '05/14/2020', '05/15/2020', '05/16/2020',\n",
              "       '05/17/2020', '05/18/2020', '05/19/2020', '05/20/2020',\n",
              "       '05/21/2020', '05/22/2020', '05/23/2020', '05/24/2020',\n",
              "       '05/25/2020', '05/26/2020', '05/27/2020', '05/28/2020',\n",
              "       '05/29/2020', '05/30/2020', '05/31/2020', '06/01/2020',\n",
              "       '06/02/2020', '06/03/2020', '06/04/2020', '06/05/2020',\n",
              "       '06/06/2020', '06/07/2020', '06/08/2020', '06/09/2020',\n",
              "       '06/10/2020', '06/11/2020', '06/12/2020', '06/13/2020',\n",
              "       '06/14/2020', '06/15/2020', '06/16/2020', '06/17/2020',\n",
              "       '06/18/2020', '06/19/2020', '06/20/2020', '06/21/2020',\n",
              "       '06/22/2020', '06/23/2020', '06/24/2020', '06/25/2020',\n",
              "       '06/26/2020', '06/27/2020', '06/28/2020', '06/29/2020',\n",
              "       '06/30/2020', '07/01/2020', '07/02/2020', '07/03/2020',\n",
              "       '07/04/2020', '07/05/2020', '07/06/2020', '07/07/2020',\n",
              "       '07/08/2020', '07/09/2020', '07/10/2020', '07/11/2020',\n",
              "       '07/12/2020', '07/13/2020', '07/14/2020', '07/15/2020',\n",
              "       '07/16/2020', '07/17/2020', '07/18/2020', '07/19/2020',\n",
              "       '07/20/2020', '07/21/2020', '07/22/2020', '07/23/2020',\n",
              "       '07/24/2020', '07/25/2020', '07/26/2020', '07/27/2020',\n",
              "       '07/28/2020', '07/29/2020', '07/30/2020', '07/31/2020',\n",
              "       '08/01/2020', '08/02/2020', '08/03/2020', '08/04/2020',\n",
              "       '08/05/2020', '08/06/2020', '08/07/2020', '08/08/2020',\n",
              "       '08/09/2020', '08/10/2020', '08/11/2020', '08/12/2020',\n",
              "       '08/13/2020', '08/14/2020', '08/15/2020', '08/16/2020',\n",
              "       '08/17/2020', '08/18/2020', '08/19/2020', '08/20/2020',\n",
              "       '08/21/2020', '08/22/2020', '08/23/2020', '08/24/2020',\n",
              "       '08/25/2020', '08/26/2020', '08/27/2020', '08/28/2020',\n",
              "       '08/29/2020', '08/30/2020', '08/31/2020', '09/01/2020',\n",
              "       '09/02/2020', '09/03/2020', '09/04/2020', '09/05/2020',\n",
              "       '09/06/2020', '09/07/2020', '09/08/2020', '09/09/2020',\n",
              "       '09/10/2020', '09/11/2020', '09/12/2020', '09/13/2020',\n",
              "       '09/14/2020', '09/15/2020', '09/16/2020', '09/17/2020',\n",
              "       '09/18/2020', '09/19/2020', '09/20/2020', '09/21/2020',\n",
              "       '09/22/2020', '09/23/2020', '09/24/2020', '09/25/2020',\n",
              "       '09/26/2020', '09/27/2020', '09/28/2020', '09/29/2020',\n",
              "       '09/30/2020', '10/01/2020', '10/02/2020', '10/03/2020',\n",
              "       '10/04/2020', '10/05/2020', '10/06/2020', '10/07/2020',\n",
              "       '10/08/2020', '10/09/2020', '10/10/2020', '10/11/2020',\n",
              "       '10/12/2020', '10/13/2020', '10/14/2020', '10/15/2020',\n",
              "       '10/16/2020', '10/17/2020', '10/18/2020', '10/19/2020',\n",
              "       '10/20/2020', '10/21/2020', '10/22/2020', '10/23/2020',\n",
              "       '10/24/2020', '10/25/2020', '10/26/2020', '10/27/2020',\n",
              "       '10/28/2020', '10/29/2020', '10/30/2020', '10/31/2020',\n",
              "       '11/01/2020', '11/02/2020', '11/03/2020', '11/04/2020',\n",
              "       '11/05/2020', '11/06/2020', '11/07/2020', '11/08/2020',\n",
              "       '11/09/2020', '11/10/2020', '11/11/2020', '11/12/2020',\n",
              "       '11/13/2020', '11/14/2020', '11/15/2020', '11/16/2020',\n",
              "       '11/17/2020', '11/18/2020', '11/19/2020', '11/20/2020',\n",
              "       '11/21/2020', '11/22/2020', '11/23/2020', '11/24/2020',\n",
              "       '11/25/2020', '11/26/2020', '11/27/2020', '11/28/2020',\n",
              "       '11/29/2020', '11/30/2020', '12/01/2020', '12/02/2020',\n",
              "       '12/03/2020', '12/04/2020', '12/05/2020', '12/06/2020',\n",
              "       '12/07/2020', '12/08/2020', '12/09/2020', '12/10/2020',\n",
              "       '12/11/2020', '12/12/2020', '12/13/2020', '12/14/2020',\n",
              "       '12/15/2020', '12/16/2020', '12/17/2020', '12/18/2020',\n",
              "       '12/19/2020', '12/20/2020', '12/21/2020', '12/22/2020',\n",
              "       '12/23/2020', '12/24/2020', '12/25/2020', '12/26/2020',\n",
              "       '12/27/2020', '12/28/2020', '12/29/2020', '12/30/2020',\n",
              "       '12/31/2020', '01/01/2021', '01/02/2021', '01/03/2021',\n",
              "       '01/04/2021', '01/05/2021', '01/06/2021', '01/07/2021',\n",
              "       '01/08/2021', '01/09/2021', '01/10/2021', '01/11/2021',\n",
              "       '01/12/2021', '01/13/2021', '01/14/2021', '01/15/2021',\n",
              "       '01/16/2021', '01/17/2021', '01/18/2021', '01/19/2021',\n",
              "       '01/20/2021', '01/21/2021', '01/22/2021', '01/23/2021',\n",
              "       '01/24/2021', '01/25/2021', '01/26/2021', '01/27/2021',\n",
              "       '01/28/2021', '01/29/2021', '01/30/2021', '01/31/2021',\n",
              "       '02/01/2021', '02/02/2021', '02/03/2021', '02/04/2021',\n",
              "       '02/05/2021', '02/06/2021', '02/07/2021', '02/08/2021',\n",
              "       '02/09/2021', '02/10/2021', '02/11/2021', '02/12/2021',\n",
              "       '02/13/2021', '02/14/2021', '02/15/2021', '02/16/2021',\n",
              "       '02/17/2021', '02/18/2021', '02/19/2021', '02/20/2021',\n",
              "       '02/21/2021', '02/22/2021', '02/23/2021', '02/24/2021',\n",
              "       '02/25/2021', '02/26/2021', '02/27/2021', '02/28/2021',\n",
              "       '03/01/2021', '03/02/2021', '03/03/2021', '03/04/2021',\n",
              "       '03/05/2021', '03/06/2021', '03/07/2021', '03/08/2021',\n",
              "       '03/09/2021', '03/10/2021', '03/11/2021', '03/12/2021',\n",
              "       '03/13/2021', '03/14/2021', '03/15/2021', '03/16/2021',\n",
              "       '03/17/2021', '03/18/2021', '03/19/2021', '03/20/2021',\n",
              "       '03/21/2021', '03/22/2021', '03/23/2021', '03/24/2021',\n",
              "       '03/25/2021', '03/26/2021', '03/27/2021', '03/28/2021',\n",
              "       '03/29/2021', '03/30/2021', '03/31/2021', '04/01/2021',\n",
              "       '04/02/2021', '04/03/2021', '04/04/2021', '04/05/2021',\n",
              "       '04/06/2021', '04/07/2021', '04/08/2021', '04/09/2021',\n",
              "       '04/10/2021', '04/11/2021', '04/12/2021', '04/13/2021',\n",
              "       '04/14/2021', '04/15/2021', '04/16/2021', '04/17/2021',\n",
              "       '04/18/2021', '04/19/2021', '04/20/2021', '04/21/2021',\n",
              "       '04/22/2021', '04/23/2021', '04/24/2021', '04/25/2021',\n",
              "       '04/26/2021', '04/27/2021', '04/28/2021', '04/29/2021',\n",
              "       '04/30/2021', '05/01/2021', '05/02/2021', '05/03/2021',\n",
              "       '05/04/2021', '05/05/2021', '05/06/2021', '05/07/2021',\n",
              "       '05/08/2021', '05/09/2021', '05/10/2021', '05/11/2021',\n",
              "       '05/12/2021', '05/13/2021', '05/14/2021', '05/15/2021',\n",
              "       '05/16/2021', '05/17/2021', '05/18/2021', '05/19/2021',\n",
              "       '05/20/2021', '05/21/2021', '05/22/2021', '05/23/2021',\n",
              "       '05/24/2021', '05/25/2021', '05/26/2021', '05/27/2021',\n",
              "       '05/28/2021', '05/29/2021'], dtype=object)"
            ]
          },
          "metadata": {},
          "execution_count": 9
        }
      ]
    },
    {
      "cell_type": "code",
      "source": [
        "df['Country/Region'].unique()"
      ],
      "metadata": {
        "id": "oGKiPELvLDc_",
        "colab": {
          "base_uri": "https://localhost:8080/"
        },
        "outputId": "b65e9f66-9cfe-402e-bc1f-a6e39e21fd02"
      },
      "execution_count": 10,
      "outputs": [
        {
          "output_type": "execute_result",
          "data": {
            "text/plain": [
              "array(['Mainland China', 'Hong Kong', 'Macau', 'Taiwan', 'US', 'Japan',\n",
              "       'Thailand', 'South Korea', 'China', 'Kiribati', 'Singapore',\n",
              "       'Philippines', 'Malaysia', 'Vietnam', 'Australia', 'Mexico',\n",
              "       'Brazil', 'Colombia', 'France', 'Nepal', 'Canada', 'Cambodia',\n",
              "       'Sri Lanka', 'Ivory Coast', 'Germany', 'Finland',\n",
              "       'United Arab Emirates', 'India', 'Italy', 'UK', 'Russia', 'Sweden',\n",
              "       'Spain', 'Belgium', 'Others', 'Egypt', 'Iran', 'Israel', 'Lebanon',\n",
              "       'Iraq', 'Oman', 'Afghanistan', 'Bahrain', 'Kuwait', 'Austria',\n",
              "       'Algeria', 'Croatia', 'Switzerland', 'Pakistan', 'Georgia',\n",
              "       'Greece', 'North Macedonia', 'Norway', 'Romania', 'Denmark',\n",
              "       'Estonia', 'Netherlands', 'San Marino', ' Azerbaijan', 'Belarus',\n",
              "       'Iceland', 'Lithuania', 'New Zealand', 'Nigeria', 'North Ireland',\n",
              "       'Ireland', 'Luxembourg', 'Monaco', 'Qatar', 'Ecuador',\n",
              "       'Azerbaijan', 'Czech Republic', 'Armenia', 'Dominican Republic',\n",
              "       'Indonesia', 'Portugal', 'Andorra', 'Latvia', 'Morocco',\n",
              "       'Saudi Arabia', 'Senegal', 'Argentina', 'Chile', 'Jordan',\n",
              "       'Ukraine', 'Saint Barthelemy', 'Hungary', 'Faroe Islands',\n",
              "       'Gibraltar', 'Liechtenstein', 'Poland', 'Tunisia', 'Palestine',\n",
              "       'Bosnia and Herzegovina', 'Slovenia', 'South Africa', 'Bhutan',\n",
              "       'Cameroon', 'Costa Rica', 'Peru', 'Serbia', 'Slovakia', 'Togo',\n",
              "       'Vatican City', 'French Guiana', 'Malta', 'Martinique',\n",
              "       'Republic of Ireland', 'Bulgaria', 'Maldives', 'Bangladesh',\n",
              "       'Moldova', 'Paraguay', 'Albania', 'Cyprus', 'St. Martin', 'Brunei',\n",
              "       'occupied Palestinian territory', \"('St. Martin',)\",\n",
              "       'Burkina Faso', 'Channel Islands', 'Holy See', 'Mongolia',\n",
              "       'Panama', 'Bolivia', 'Honduras', 'Congo (Kinshasa)', 'Jamaica',\n",
              "       'Reunion', 'Turkey', 'Cuba', 'Guyana', 'Kazakhstan',\n",
              "       'Cayman Islands', 'Guadeloupe', 'Ethiopia', 'Sudan', 'Guinea',\n",
              "       'Antigua and Barbuda', 'Aruba', 'Kenya', 'Uruguay', 'Ghana',\n",
              "       'Jersey', 'Namibia', 'Seychelles', 'Trinidad and Tobago',\n",
              "       'Venezuela', 'Curacao', 'Eswatini', 'Gabon', 'Guatemala',\n",
              "       'Guernsey', 'Mauritania', 'Rwanda', 'Saint Lucia',\n",
              "       'Saint Vincent and the Grenadines', 'Suriname', 'Kosovo',\n",
              "       'Central African Republic', 'Congo (Brazzaville)',\n",
              "       'Equatorial Guinea', 'Uzbekistan', 'Guam', 'Puerto Rico', 'Benin',\n",
              "       'Greenland', 'Liberia', 'Mayotte', 'Republic of the Congo',\n",
              "       'Somalia', 'Tanzania', 'The Bahamas', 'Barbados', 'Montenegro',\n",
              "       'The Gambia', 'Kyrgyzstan', 'Mauritius', 'Zambia', 'Djibouti',\n",
              "       'Gambia, The', 'Bahamas, The', 'Chad', 'El Salvador', 'Fiji',\n",
              "       'Nicaragua', 'Madagascar', 'Haiti', 'Angola', 'Cabo Verde',\n",
              "       'Niger', 'Papua New Guinea', 'Zimbabwe', 'Cape Verde',\n",
              "       'East Timor', 'Eritrea', 'Uganda', 'Bahamas', 'Dominica', 'Gambia',\n",
              "       'Grenada', 'Mozambique', 'Samoa', 'Syria', 'Timor-Leste', 'Belize',\n",
              "       'Laos', 'Libya', 'Diamond Princess', 'Guinea-Bissau', 'Mali',\n",
              "       'Saint Kitts and Nevis', 'West Bank and Gaza', 'Burma',\n",
              "       'MS Zaandam', 'Botswana', 'Burundi', 'Sierra Leone', 'Malawi',\n",
              "       'South Sudan', 'Sao Tome and Principe', 'Yemen', 'Comoros',\n",
              "       'Tajikistan', 'Lesotho', 'Solomon Islands', 'Marshall Islands',\n",
              "       'Vanuatu', 'Micronesia'], dtype=object)"
            ]
          },
          "metadata": {},
          "execution_count": 10
        }
      ]
    },
    {
      "cell_type": "code",
      "source": [
        "df['Province/State'].unique().any() == 'Seoul'"
      ],
      "metadata": {
        "colab": {
          "base_uri": "https://localhost:8080/"
        },
        "id": "LALKGsKqM8B8",
        "outputId": "42b21285-e7ca-4a08-a560-a308411af2d6"
      },
      "execution_count": 11,
      "outputs": [
        {
          "output_type": "execute_result",
          "data": {
            "text/plain": [
              "False"
            ]
          },
          "metadata": {},
          "execution_count": 11
        }
      ]
    },
    {
      "cell_type": "code",
      "source": [
        "df_korea = df.loc[df['Country/Region']=='South Korea']\n",
        "df_korea = df_korea.reset_index().drop(columns=['SNo', 'Province/State', 'Last Update', 'index'])\n",
        "df_korea.shape"
      ],
      "metadata": {
        "colab": {
          "base_uri": "https://localhost:8080/"
        },
        "id": "sHVrdaX1NAzo",
        "outputId": "e89d3bd9-873f-4d02-fc28-bd482759a0f6"
      },
      "execution_count": 12,
      "outputs": [
        {
          "output_type": "execute_result",
          "data": {
            "text/plain": [
              "(494, 5)"
            ]
          },
          "metadata": {},
          "execution_count": 12
        }
      ]
    },
    {
      "cell_type": "code",
      "source": [
        "df_korea['ObservationDate'] = pd.to_datetime(df_korea['ObservationDate'])"
      ],
      "metadata": {
        "id": "ZQQ4NdklRwy4"
      },
      "execution_count": 13,
      "outputs": []
    },
    {
      "cell_type": "code",
      "source": [
        "df_korea.head()"
      ],
      "metadata": {
        "colab": {
          "base_uri": "https://localhost:8080/",
          "height": 206
        },
        "id": "SHEG4OE-RyXa",
        "outputId": "fb62b045-169b-4a88-ee89-602e8a5912d9"
      },
      "execution_count": 14,
      "outputs": [
        {
          "output_type": "execute_result",
          "data": {
            "text/plain": [
              "  ObservationDate Country/Region  Confirmed  Deaths  Recovered\n",
              "0      2020-01-22    South Korea        1.0     0.0        0.0\n",
              "1      2020-01-23    South Korea        1.0     0.0        0.0\n",
              "2      2020-01-24    South Korea        2.0     0.0        0.0\n",
              "3      2020-01-25    South Korea        2.0     0.0        0.0\n",
              "4      2020-01-26    South Korea        3.0     0.0        0.0"
            ],
            "text/html": [
              "\n",
              "  <div id=\"df-44312991-93eb-4bc7-8068-ca17298d87cf\">\n",
              "    <div class=\"colab-df-container\">\n",
              "      <div>\n",
              "<style scoped>\n",
              "    .dataframe tbody tr th:only-of-type {\n",
              "        vertical-align: middle;\n",
              "    }\n",
              "\n",
              "    .dataframe tbody tr th {\n",
              "        vertical-align: top;\n",
              "    }\n",
              "\n",
              "    .dataframe thead th {\n",
              "        text-align: right;\n",
              "    }\n",
              "</style>\n",
              "<table border=\"1\" class=\"dataframe\">\n",
              "  <thead>\n",
              "    <tr style=\"text-align: right;\">\n",
              "      <th></th>\n",
              "      <th>ObservationDate</th>\n",
              "      <th>Country/Region</th>\n",
              "      <th>Confirmed</th>\n",
              "      <th>Deaths</th>\n",
              "      <th>Recovered</th>\n",
              "    </tr>\n",
              "  </thead>\n",
              "  <tbody>\n",
              "    <tr>\n",
              "      <th>0</th>\n",
              "      <td>2020-01-22</td>\n",
              "      <td>South Korea</td>\n",
              "      <td>1.0</td>\n",
              "      <td>0.0</td>\n",
              "      <td>0.0</td>\n",
              "    </tr>\n",
              "    <tr>\n",
              "      <th>1</th>\n",
              "      <td>2020-01-23</td>\n",
              "      <td>South Korea</td>\n",
              "      <td>1.0</td>\n",
              "      <td>0.0</td>\n",
              "      <td>0.0</td>\n",
              "    </tr>\n",
              "    <tr>\n",
              "      <th>2</th>\n",
              "      <td>2020-01-24</td>\n",
              "      <td>South Korea</td>\n",
              "      <td>2.0</td>\n",
              "      <td>0.0</td>\n",
              "      <td>0.0</td>\n",
              "    </tr>\n",
              "    <tr>\n",
              "      <th>3</th>\n",
              "      <td>2020-01-25</td>\n",
              "      <td>South Korea</td>\n",
              "      <td>2.0</td>\n",
              "      <td>0.0</td>\n",
              "      <td>0.0</td>\n",
              "    </tr>\n",
              "    <tr>\n",
              "      <th>4</th>\n",
              "      <td>2020-01-26</td>\n",
              "      <td>South Korea</td>\n",
              "      <td>3.0</td>\n",
              "      <td>0.0</td>\n",
              "      <td>0.0</td>\n",
              "    </tr>\n",
              "  </tbody>\n",
              "</table>\n",
              "</div>\n",
              "      <button class=\"colab-df-convert\" onclick=\"convertToInteractive('df-44312991-93eb-4bc7-8068-ca17298d87cf')\"\n",
              "              title=\"Convert this dataframe to an interactive table.\"\n",
              "              style=\"display:none;\">\n",
              "        \n",
              "  <svg xmlns=\"http://www.w3.org/2000/svg\" height=\"24px\"viewBox=\"0 0 24 24\"\n",
              "       width=\"24px\">\n",
              "    <path d=\"M0 0h24v24H0V0z\" fill=\"none\"/>\n",
              "    <path d=\"M18.56 5.44l.94 2.06.94-2.06 2.06-.94-2.06-.94-.94-2.06-.94 2.06-2.06.94zm-11 1L8.5 8.5l.94-2.06 2.06-.94-2.06-.94L8.5 2.5l-.94 2.06-2.06.94zm10 10l.94 2.06.94-2.06 2.06-.94-2.06-.94-.94-2.06-.94 2.06-2.06.94z\"/><path d=\"M17.41 7.96l-1.37-1.37c-.4-.4-.92-.59-1.43-.59-.52 0-1.04.2-1.43.59L10.3 9.45l-7.72 7.72c-.78.78-.78 2.05 0 2.83L4 21.41c.39.39.9.59 1.41.59.51 0 1.02-.2 1.41-.59l7.78-7.78 2.81-2.81c.8-.78.8-2.07 0-2.86zM5.41 20L4 18.59l7.72-7.72 1.47 1.35L5.41 20z\"/>\n",
              "  </svg>\n",
              "      </button>\n",
              "      \n",
              "  <style>\n",
              "    .colab-df-container {\n",
              "      display:flex;\n",
              "      flex-wrap:wrap;\n",
              "      gap: 12px;\n",
              "    }\n",
              "\n",
              "    .colab-df-convert {\n",
              "      background-color: #E8F0FE;\n",
              "      border: none;\n",
              "      border-radius: 50%;\n",
              "      cursor: pointer;\n",
              "      display: none;\n",
              "      fill: #1967D2;\n",
              "      height: 32px;\n",
              "      padding: 0 0 0 0;\n",
              "      width: 32px;\n",
              "    }\n",
              "\n",
              "    .colab-df-convert:hover {\n",
              "      background-color: #E2EBFA;\n",
              "      box-shadow: 0px 1px 2px rgba(60, 64, 67, 0.3), 0px 1px 3px 1px rgba(60, 64, 67, 0.15);\n",
              "      fill: #174EA6;\n",
              "    }\n",
              "\n",
              "    [theme=dark] .colab-df-convert {\n",
              "      background-color: #3B4455;\n",
              "      fill: #D2E3FC;\n",
              "    }\n",
              "\n",
              "    [theme=dark] .colab-df-convert:hover {\n",
              "      background-color: #434B5C;\n",
              "      box-shadow: 0px 1px 3px 1px rgba(0, 0, 0, 0.15);\n",
              "      filter: drop-shadow(0px 1px 2px rgba(0, 0, 0, 0.3));\n",
              "      fill: #FFFFFF;\n",
              "    }\n",
              "  </style>\n",
              "\n",
              "      <script>\n",
              "        const buttonEl =\n",
              "          document.querySelector('#df-44312991-93eb-4bc7-8068-ca17298d87cf button.colab-df-convert');\n",
              "        buttonEl.style.display =\n",
              "          google.colab.kernel.accessAllowed ? 'block' : 'none';\n",
              "\n",
              "        async function convertToInteractive(key) {\n",
              "          const element = document.querySelector('#df-44312991-93eb-4bc7-8068-ca17298d87cf');\n",
              "          const dataTable =\n",
              "            await google.colab.kernel.invokeFunction('convertToInteractive',\n",
              "                                                     [key], {});\n",
              "          if (!dataTable) return;\n",
              "\n",
              "          const docLinkHtml = 'Like what you see? Visit the ' +\n",
              "            '<a target=\"_blank\" href=https://colab.research.google.com/notebooks/data_table.ipynb>data table notebook</a>'\n",
              "            + ' to learn more about interactive tables.';\n",
              "          element.innerHTML = '';\n",
              "          dataTable['output_type'] = 'display_data';\n",
              "          await google.colab.output.renderOutput(dataTable, element);\n",
              "          const docLink = document.createElement('div');\n",
              "          docLink.innerHTML = docLinkHtml;\n",
              "          element.appendChild(docLink);\n",
              "        }\n",
              "      </script>\n",
              "    </div>\n",
              "  </div>\n",
              "  "
            ]
          },
          "metadata": {},
          "execution_count": 14
        }
      ]
    },
    {
      "cell_type": "code",
      "source": [
        "df_korea.describe()"
      ],
      "metadata": {
        "colab": {
          "base_uri": "https://localhost:8080/",
          "height": 300
        },
        "id": "_GGmrN2rRz-b",
        "outputId": "c7f0cda2-c3f4-4024-dbcb-f2ab80751c42"
      },
      "execution_count": 15,
      "outputs": [
        {
          "output_type": "execute_result",
          "data": {
            "text/plain": [
              "           Confirmed       Deaths      Recovered\n",
              "count     494.000000   494.000000     494.000000\n",
              "mean    42134.580972   700.406883   36605.953441\n",
              "std     40840.640578   639.086908   37542.799513\n",
              "min         1.000000     0.000000       0.000000\n",
              "25%     11210.750000   267.500000   10238.250000\n",
              "50%     23485.500000   397.000000   21072.000000\n",
              "75%     76290.500000  1376.250000   65306.750000\n",
              "max    139910.000000  1957.000000  130381.000000"
            ],
            "text/html": [
              "\n",
              "  <div id=\"df-6dd0953b-de7e-44a5-a34d-be30d8963dd5\">\n",
              "    <div class=\"colab-df-container\">\n",
              "      <div>\n",
              "<style scoped>\n",
              "    .dataframe tbody tr th:only-of-type {\n",
              "        vertical-align: middle;\n",
              "    }\n",
              "\n",
              "    .dataframe tbody tr th {\n",
              "        vertical-align: top;\n",
              "    }\n",
              "\n",
              "    .dataframe thead th {\n",
              "        text-align: right;\n",
              "    }\n",
              "</style>\n",
              "<table border=\"1\" class=\"dataframe\">\n",
              "  <thead>\n",
              "    <tr style=\"text-align: right;\">\n",
              "      <th></th>\n",
              "      <th>Confirmed</th>\n",
              "      <th>Deaths</th>\n",
              "      <th>Recovered</th>\n",
              "    </tr>\n",
              "  </thead>\n",
              "  <tbody>\n",
              "    <tr>\n",
              "      <th>count</th>\n",
              "      <td>494.000000</td>\n",
              "      <td>494.000000</td>\n",
              "      <td>494.000000</td>\n",
              "    </tr>\n",
              "    <tr>\n",
              "      <th>mean</th>\n",
              "      <td>42134.580972</td>\n",
              "      <td>700.406883</td>\n",
              "      <td>36605.953441</td>\n",
              "    </tr>\n",
              "    <tr>\n",
              "      <th>std</th>\n",
              "      <td>40840.640578</td>\n",
              "      <td>639.086908</td>\n",
              "      <td>37542.799513</td>\n",
              "    </tr>\n",
              "    <tr>\n",
              "      <th>min</th>\n",
              "      <td>1.000000</td>\n",
              "      <td>0.000000</td>\n",
              "      <td>0.000000</td>\n",
              "    </tr>\n",
              "    <tr>\n",
              "      <th>25%</th>\n",
              "      <td>11210.750000</td>\n",
              "      <td>267.500000</td>\n",
              "      <td>10238.250000</td>\n",
              "    </tr>\n",
              "    <tr>\n",
              "      <th>50%</th>\n",
              "      <td>23485.500000</td>\n",
              "      <td>397.000000</td>\n",
              "      <td>21072.000000</td>\n",
              "    </tr>\n",
              "    <tr>\n",
              "      <th>75%</th>\n",
              "      <td>76290.500000</td>\n",
              "      <td>1376.250000</td>\n",
              "      <td>65306.750000</td>\n",
              "    </tr>\n",
              "    <tr>\n",
              "      <th>max</th>\n",
              "      <td>139910.000000</td>\n",
              "      <td>1957.000000</td>\n",
              "      <td>130381.000000</td>\n",
              "    </tr>\n",
              "  </tbody>\n",
              "</table>\n",
              "</div>\n",
              "      <button class=\"colab-df-convert\" onclick=\"convertToInteractive('df-6dd0953b-de7e-44a5-a34d-be30d8963dd5')\"\n",
              "              title=\"Convert this dataframe to an interactive table.\"\n",
              "              style=\"display:none;\">\n",
              "        \n",
              "  <svg xmlns=\"http://www.w3.org/2000/svg\" height=\"24px\"viewBox=\"0 0 24 24\"\n",
              "       width=\"24px\">\n",
              "    <path d=\"M0 0h24v24H0V0z\" fill=\"none\"/>\n",
              "    <path d=\"M18.56 5.44l.94 2.06.94-2.06 2.06-.94-2.06-.94-.94-2.06-.94 2.06-2.06.94zm-11 1L8.5 8.5l.94-2.06 2.06-.94-2.06-.94L8.5 2.5l-.94 2.06-2.06.94zm10 10l.94 2.06.94-2.06 2.06-.94-2.06-.94-.94-2.06-.94 2.06-2.06.94z\"/><path d=\"M17.41 7.96l-1.37-1.37c-.4-.4-.92-.59-1.43-.59-.52 0-1.04.2-1.43.59L10.3 9.45l-7.72 7.72c-.78.78-.78 2.05 0 2.83L4 21.41c.39.39.9.59 1.41.59.51 0 1.02-.2 1.41-.59l7.78-7.78 2.81-2.81c.8-.78.8-2.07 0-2.86zM5.41 20L4 18.59l7.72-7.72 1.47 1.35L5.41 20z\"/>\n",
              "  </svg>\n",
              "      </button>\n",
              "      \n",
              "  <style>\n",
              "    .colab-df-container {\n",
              "      display:flex;\n",
              "      flex-wrap:wrap;\n",
              "      gap: 12px;\n",
              "    }\n",
              "\n",
              "    .colab-df-convert {\n",
              "      background-color: #E8F0FE;\n",
              "      border: none;\n",
              "      border-radius: 50%;\n",
              "      cursor: pointer;\n",
              "      display: none;\n",
              "      fill: #1967D2;\n",
              "      height: 32px;\n",
              "      padding: 0 0 0 0;\n",
              "      width: 32px;\n",
              "    }\n",
              "\n",
              "    .colab-df-convert:hover {\n",
              "      background-color: #E2EBFA;\n",
              "      box-shadow: 0px 1px 2px rgba(60, 64, 67, 0.3), 0px 1px 3px 1px rgba(60, 64, 67, 0.15);\n",
              "      fill: #174EA6;\n",
              "    }\n",
              "\n",
              "    [theme=dark] .colab-df-convert {\n",
              "      background-color: #3B4455;\n",
              "      fill: #D2E3FC;\n",
              "    }\n",
              "\n",
              "    [theme=dark] .colab-df-convert:hover {\n",
              "      background-color: #434B5C;\n",
              "      box-shadow: 0px 1px 3px 1px rgba(0, 0, 0, 0.15);\n",
              "      filter: drop-shadow(0px 1px 2px rgba(0, 0, 0, 0.3));\n",
              "      fill: #FFFFFF;\n",
              "    }\n",
              "  </style>\n",
              "\n",
              "      <script>\n",
              "        const buttonEl =\n",
              "          document.querySelector('#df-6dd0953b-de7e-44a5-a34d-be30d8963dd5 button.colab-df-convert');\n",
              "        buttonEl.style.display =\n",
              "          google.colab.kernel.accessAllowed ? 'block' : 'none';\n",
              "\n",
              "        async function convertToInteractive(key) {\n",
              "          const element = document.querySelector('#df-6dd0953b-de7e-44a5-a34d-be30d8963dd5');\n",
              "          const dataTable =\n",
              "            await google.colab.kernel.invokeFunction('convertToInteractive',\n",
              "                                                     [key], {});\n",
              "          if (!dataTable) return;\n",
              "\n",
              "          const docLinkHtml = 'Like what you see? Visit the ' +\n",
              "            '<a target=\"_blank\" href=https://colab.research.google.com/notebooks/data_table.ipynb>data table notebook</a>'\n",
              "            + ' to learn more about interactive tables.';\n",
              "          element.innerHTML = '';\n",
              "          dataTable['output_type'] = 'display_data';\n",
              "          await google.colab.output.renderOutput(dataTable, element);\n",
              "          const docLink = document.createElement('div');\n",
              "          docLink.innerHTML = docLinkHtml;\n",
              "          element.appendChild(docLink);\n",
              "        }\n",
              "      </script>\n",
              "    </div>\n",
              "  </div>\n",
              "  "
            ]
          },
          "metadata": {},
          "execution_count": 15
        }
      ]
    },
    {
      "cell_type": "code",
      "source": [
        "df_korea.info()"
      ],
      "metadata": {
        "colab": {
          "base_uri": "https://localhost:8080/"
        },
        "id": "fLzh8o-NR12L",
        "outputId": "70fc7f7f-c8e8-4c3f-9fe0-e5536254fc9a"
      },
      "execution_count": 16,
      "outputs": [
        {
          "output_type": "stream",
          "name": "stdout",
          "text": [
            "<class 'pandas.core.frame.DataFrame'>\n",
            "RangeIndex: 494 entries, 0 to 493\n",
            "Data columns (total 5 columns):\n",
            " #   Column           Non-Null Count  Dtype         \n",
            "---  ------           --------------  -----         \n",
            " 0   ObservationDate  494 non-null    datetime64[ns]\n",
            " 1   Country/Region   494 non-null    object        \n",
            " 2   Confirmed        494 non-null    float64       \n",
            " 3   Deaths           494 non-null    float64       \n",
            " 4   Recovered        494 non-null    float64       \n",
            "dtypes: datetime64[ns](1), float64(3), object(1)\n",
            "memory usage: 19.4+ KB\n"
          ]
        }
      ]
    },
    {
      "cell_type": "code",
      "source": [
        "#Feature Engineer Percentage\n",
        "df_korea['Percent_Confirmed'] = df_korea['Confirmed'].pct_change(fill_method= 'ffill')\n",
        "df_korea['Percent_Deaths'] = df_korea['Deaths'].pct_change(fill_method= 'ffill')"
      ],
      "metadata": {
        "id": "VShX050N5jDr"
      },
      "execution_count": 17,
      "outputs": []
    },
    {
      "cell_type": "code",
      "source": [
        "#Additional Dataset for more information\n",
        "df2 = pd.read_csv('/content/gdrive/My Drive/Data AI_BootCamp//DataSets/owid-covid-data_3.csv')"
      ],
      "metadata": {
        "id": "hT9baiKZVIdu"
      },
      "execution_count": 18,
      "outputs": []
    },
    {
      "cell_type": "code",
      "source": [
        "df2 = df2.loc[:,['location', 'date', \n",
        "          'total_cases', 'new_cases_smoothed', 'total_deaths', 'new_deaths_smoothed',\n",
        "          'new_tests_smoothed', 'total_tests',\n",
        "          'total_vaccinations','people_vaccinated', 'people_fully_vaccinated','new_vaccinations_smoothed','population']\n",
        "      ]\n"
      ],
      "metadata": {
        "id": "0Sph798wWYeq"
      },
      "execution_count": 19,
      "outputs": []
    },
    {
      "cell_type": "code",
      "source": [
        "df2.date= df2.date.astype(np.datetime64)"
      ],
      "metadata": {
        "id": "IcynOOxRWbWg"
      },
      "execution_count": 20,
      "outputs": []
    },
    {
      "cell_type": "code",
      "source": [
        "df2.isna().sum().sort_values(ascending=False)"
      ],
      "metadata": {
        "colab": {
          "base_uri": "https://localhost:8080/"
        },
        "id": "jdRD6roSWdKJ",
        "outputId": "a823ee4a-92b7-4174-c1e9-5d44422a3af6"
      },
      "execution_count": 21,
      "outputs": [
        {
          "output_type": "execute_result",
          "data": {
            "text/plain": [
              "people_fully_vaccinated      77945\n",
              "people_vaccinated            75814\n",
              "total_vaccinations           75113\n",
              "new_vaccinations_smoothed    69927\n",
              "total_tests                  45712\n",
              "new_tests_smoothed           39853\n",
              "total_deaths                 11585\n",
              "new_cases_smoothed            2980\n",
              "new_deaths_smoothed           2980\n",
              "total_cases                   1977\n",
              "population                     542\n",
              "location                         0\n",
              "date                             0\n",
              "dtype: int64"
            ]
          },
          "metadata": {},
          "execution_count": 21
        }
      ]
    },
    {
      "cell_type": "code",
      "source": [
        "#Cumulative data = grouped by location and fillna with forward fill(using value of the last valid observation)\n",
        "df2[['location', 'date', 'total_cases', 'new_cases_smoothed', 'total_deaths', 'new_deaths_smoothed',\n",
        "     'new_tests_smoothed', 'total_tests', 'total_vaccinations','people_vaccinated', 'people_fully_vaccinated',\n",
        "     'new_vaccinations_smoothed','population']]= df2.groupby('location')[['location', 'date', \n",
        "                                                                          'total_cases', 'new_cases_smoothed', 'total_deaths', 'new_deaths_smoothed', 'new_tests_smoothed', \n",
        "                                                                          'total_tests','total_vaccinations','people_vaccinated', 'people_fully_vaccinated',\n",
        "                                                                          'new_vaccinations_smoothed','population']].fillna(method='ffill').fillna(0)"
      ],
      "metadata": {
        "id": "NuYL_SJwXj-j"
      },
      "execution_count": 22,
      "outputs": []
    },
    {
      "cell_type": "code",
      "source": [
        "#Non-cumulative(new) data = fill NaN with the difference between 2 rows using .diff\n",
        "df2.new_cases_smoothed=df2.groupby('location')['new_cases_smoothed'].fillna(df2.groupby('location')['total_cases'].diff(periods=1)).fillna(0)\n",
        "df2.new_deaths_smoothed=df2.groupby('location')['new_deaths_smoothed'].fillna(df2.groupby('location')['total_deaths'].diff(periods=1)).fillna(0)\n",
        "df2.new_tests_smoothed=df2.groupby('location')['new_tests_smoothed'].fillna(df2.groupby('location')['total_tests'].diff(periods=1)).fillna(0)\n",
        "df2.new_vaccinations_smoothed=df2.groupby('location')['new_vaccinations_smoothed'].fillna(df2.groupby('location')['total_vaccinations'].diff(periods=1)).fillna(0)"
      ],
      "metadata": {
        "id": "dRjhxJomWf0T"
      },
      "execution_count": 23,
      "outputs": []
    },
    {
      "cell_type": "code",
      "source": [
        "#Rename the \"_smoothed\" columns for the sake of convenience\n",
        "df2.rename(columns= {'new_cases_smoothed': 'new_cases'}, inplace=True)\n",
        "df2.rename(columns= {'new_deaths_smoothed': 'new_deaths'}, inplace=True)\n",
        "df2.rename(columns= {'new_tests_smoothed': 'new_tests'}, inplace=True)\n",
        "df2.rename(columns= {'new_vaccinations_smoothed': 'new_vaccinations'}, inplace=True)"
      ],
      "metadata": {
        "id": "QtxnusO1Wjae"
      },
      "execution_count": 24,
      "outputs": []
    },
    {
      "cell_type": "code",
      "source": [
        "#Check for Missing Values\n",
        "df2.isna().sum().sort_values(ascending=False)"
      ],
      "metadata": {
        "colab": {
          "base_uri": "https://localhost:8080/"
        },
        "id": "s5Equ8rjXMIn",
        "outputId": "745016c9-9e26-4780-8401-534170872268"
      },
      "execution_count": 25,
      "outputs": [
        {
          "output_type": "execute_result",
          "data": {
            "text/plain": [
              "location                   0\n",
              "date                       0\n",
              "total_cases                0\n",
              "new_cases                  0\n",
              "total_deaths               0\n",
              "new_deaths                 0\n",
              "new_tests                  0\n",
              "total_tests                0\n",
              "total_vaccinations         0\n",
              "people_vaccinated          0\n",
              "people_fully_vaccinated    0\n",
              "new_vaccinations           0\n",
              "population                 0\n",
              "dtype: int64"
            ]
          },
          "metadata": {},
          "execution_count": 25
        }
      ]
    },
    {
      "cell_type": "code",
      "source": [
        "#Feature Engineering\n",
        "df_korea2 = df2[df2['location'] == 'South Korea'].reset_index().drop('index', axis=1)\n",
        "df_korea2['percent_population_vaccinated']= df_korea2['people_vaccinated']/ df_korea2['population']\n",
        "df_korea2['percent_population_fully_vaccinated']= df_korea2['people_fully_vaccinated']/ df_korea2['population']"
      ],
      "metadata": {
        "id": "gevMnr_sVTna"
      },
      "execution_count": 26,
      "outputs": []
    },
    {
      "cell_type": "code",
      "source": [
        "df_korea2.describe()"
      ],
      "metadata": {
        "colab": {
          "base_uri": "https://localhost:8080/",
          "height": 364
        },
        "id": "03P4QyrzcVjX",
        "outputId": "bbf4ecd0-ca1f-4194-b8eb-dfa95cf3c6f5"
      },
      "execution_count": 27,
      "outputs": [
        {
          "output_type": "execute_result",
          "data": {
            "text/plain": [
              "         total_cases    new_cases  total_deaths  new_deaths     new_tests  \\\n",
              "count     459.000000   459.000000    459.000000  459.000000    459.000000   \n",
              "mean    35193.603486   252.794911    606.117647    3.933072  18287.191721   \n",
              "std     33888.542969   265.902271    567.133618    5.122162  14526.306341   \n",
              "min         0.000000     0.000000      0.000000    0.000000      0.000000   \n",
              "25%     11027.500000    44.500000    261.000000    0.571000   8734.500000   \n",
              "50%     21296.000000   111.286000    336.000000    2.143000  11375.000000   \n",
              "75%     60256.500000   431.214000    889.500000    4.714000  31521.500000   \n",
              "max    118243.000000  1047.429000   1812.000000   23.429000  54529.000000   \n",
              "\n",
              "        total_tests  total_vaccinations  people_vaccinated  \\\n",
              "count  4.590000e+02        4.590000e+02       4.590000e+02   \n",
              "mean   2.677535e+06        1.076232e+05       1.048481e+05   \n",
              "std    2.410681e+06        3.419488e+05       3.309356e+05   \n",
              "min    1.100000e+01        0.000000e+00       0.000000e+00   \n",
              "25%    6.988170e+05        0.000000e+00       0.000000e+00   \n",
              "50%    1.996314e+06        0.000000e+00       0.000000e+00   \n",
              "75%    3.957485e+06        0.000000e+00       0.000000e+00   \n",
              "max    8.513591e+06        2.294259e+06       2.195492e+06   \n",
              "\n",
              "       people_fully_vaccinated  new_vaccinations  population  \\\n",
              "count               459.000000        459.000000       459.0   \n",
              "mean               2775.115468       4154.346405  51269183.0   \n",
              "std               12311.921973      13233.303999         0.0   \n",
              "min                   0.000000          0.000000  51269183.0   \n",
              "25%                   0.000000          0.000000  51269183.0   \n",
              "50%                   0.000000          0.000000  51269183.0   \n",
              "75%                   0.000000          0.000000  51269183.0   \n",
              "max               98767.000000     107245.000000  51269183.0   \n",
              "\n",
              "       percent_population_vaccinated  percent_population_fully_vaccinated  \n",
              "count                     459.000000                           459.000000  \n",
              "mean                        0.002045                             0.000054  \n",
              "std                         0.006455                             0.000240  \n",
              "min                         0.000000                             0.000000  \n",
              "25%                         0.000000                             0.000000  \n",
              "50%                         0.000000                             0.000000  \n",
              "75%                         0.000000                             0.000000  \n",
              "max                         0.042823                             0.001926  "
            ],
            "text/html": [
              "\n",
              "  <div id=\"df-fa295083-5e9b-4108-a2c7-c07f3c5c55ae\">\n",
              "    <div class=\"colab-df-container\">\n",
              "      <div>\n",
              "<style scoped>\n",
              "    .dataframe tbody tr th:only-of-type {\n",
              "        vertical-align: middle;\n",
              "    }\n",
              "\n",
              "    .dataframe tbody tr th {\n",
              "        vertical-align: top;\n",
              "    }\n",
              "\n",
              "    .dataframe thead th {\n",
              "        text-align: right;\n",
              "    }\n",
              "</style>\n",
              "<table border=\"1\" class=\"dataframe\">\n",
              "  <thead>\n",
              "    <tr style=\"text-align: right;\">\n",
              "      <th></th>\n",
              "      <th>total_cases</th>\n",
              "      <th>new_cases</th>\n",
              "      <th>total_deaths</th>\n",
              "      <th>new_deaths</th>\n",
              "      <th>new_tests</th>\n",
              "      <th>total_tests</th>\n",
              "      <th>total_vaccinations</th>\n",
              "      <th>people_vaccinated</th>\n",
              "      <th>people_fully_vaccinated</th>\n",
              "      <th>new_vaccinations</th>\n",
              "      <th>population</th>\n",
              "      <th>percent_population_vaccinated</th>\n",
              "      <th>percent_population_fully_vaccinated</th>\n",
              "    </tr>\n",
              "  </thead>\n",
              "  <tbody>\n",
              "    <tr>\n",
              "      <th>count</th>\n",
              "      <td>459.000000</td>\n",
              "      <td>459.000000</td>\n",
              "      <td>459.000000</td>\n",
              "      <td>459.000000</td>\n",
              "      <td>459.000000</td>\n",
              "      <td>4.590000e+02</td>\n",
              "      <td>4.590000e+02</td>\n",
              "      <td>4.590000e+02</td>\n",
              "      <td>459.000000</td>\n",
              "      <td>459.000000</td>\n",
              "      <td>459.0</td>\n",
              "      <td>459.000000</td>\n",
              "      <td>459.000000</td>\n",
              "    </tr>\n",
              "    <tr>\n",
              "      <th>mean</th>\n",
              "      <td>35193.603486</td>\n",
              "      <td>252.794911</td>\n",
              "      <td>606.117647</td>\n",
              "      <td>3.933072</td>\n",
              "      <td>18287.191721</td>\n",
              "      <td>2.677535e+06</td>\n",
              "      <td>1.076232e+05</td>\n",
              "      <td>1.048481e+05</td>\n",
              "      <td>2775.115468</td>\n",
              "      <td>4154.346405</td>\n",
              "      <td>51269183.0</td>\n",
              "      <td>0.002045</td>\n",
              "      <td>0.000054</td>\n",
              "    </tr>\n",
              "    <tr>\n",
              "      <th>std</th>\n",
              "      <td>33888.542969</td>\n",
              "      <td>265.902271</td>\n",
              "      <td>567.133618</td>\n",
              "      <td>5.122162</td>\n",
              "      <td>14526.306341</td>\n",
              "      <td>2.410681e+06</td>\n",
              "      <td>3.419488e+05</td>\n",
              "      <td>3.309356e+05</td>\n",
              "      <td>12311.921973</td>\n",
              "      <td>13233.303999</td>\n",
              "      <td>0.0</td>\n",
              "      <td>0.006455</td>\n",
              "      <td>0.000240</td>\n",
              "    </tr>\n",
              "    <tr>\n",
              "      <th>min</th>\n",
              "      <td>0.000000</td>\n",
              "      <td>0.000000</td>\n",
              "      <td>0.000000</td>\n",
              "      <td>0.000000</td>\n",
              "      <td>0.000000</td>\n",
              "      <td>1.100000e+01</td>\n",
              "      <td>0.000000e+00</td>\n",
              "      <td>0.000000e+00</td>\n",
              "      <td>0.000000</td>\n",
              "      <td>0.000000</td>\n",
              "      <td>51269183.0</td>\n",
              "      <td>0.000000</td>\n",
              "      <td>0.000000</td>\n",
              "    </tr>\n",
              "    <tr>\n",
              "      <th>25%</th>\n",
              "      <td>11027.500000</td>\n",
              "      <td>44.500000</td>\n",
              "      <td>261.000000</td>\n",
              "      <td>0.571000</td>\n",
              "      <td>8734.500000</td>\n",
              "      <td>6.988170e+05</td>\n",
              "      <td>0.000000e+00</td>\n",
              "      <td>0.000000e+00</td>\n",
              "      <td>0.000000</td>\n",
              "      <td>0.000000</td>\n",
              "      <td>51269183.0</td>\n",
              "      <td>0.000000</td>\n",
              "      <td>0.000000</td>\n",
              "    </tr>\n",
              "    <tr>\n",
              "      <th>50%</th>\n",
              "      <td>21296.000000</td>\n",
              "      <td>111.286000</td>\n",
              "      <td>336.000000</td>\n",
              "      <td>2.143000</td>\n",
              "      <td>11375.000000</td>\n",
              "      <td>1.996314e+06</td>\n",
              "      <td>0.000000e+00</td>\n",
              "      <td>0.000000e+00</td>\n",
              "      <td>0.000000</td>\n",
              "      <td>0.000000</td>\n",
              "      <td>51269183.0</td>\n",
              "      <td>0.000000</td>\n",
              "      <td>0.000000</td>\n",
              "    </tr>\n",
              "    <tr>\n",
              "      <th>75%</th>\n",
              "      <td>60256.500000</td>\n",
              "      <td>431.214000</td>\n",
              "      <td>889.500000</td>\n",
              "      <td>4.714000</td>\n",
              "      <td>31521.500000</td>\n",
              "      <td>3.957485e+06</td>\n",
              "      <td>0.000000e+00</td>\n",
              "      <td>0.000000e+00</td>\n",
              "      <td>0.000000</td>\n",
              "      <td>0.000000</td>\n",
              "      <td>51269183.0</td>\n",
              "      <td>0.000000</td>\n",
              "      <td>0.000000</td>\n",
              "    </tr>\n",
              "    <tr>\n",
              "      <th>max</th>\n",
              "      <td>118243.000000</td>\n",
              "      <td>1047.429000</td>\n",
              "      <td>1812.000000</td>\n",
              "      <td>23.429000</td>\n",
              "      <td>54529.000000</td>\n",
              "      <td>8.513591e+06</td>\n",
              "      <td>2.294259e+06</td>\n",
              "      <td>2.195492e+06</td>\n",
              "      <td>98767.000000</td>\n",
              "      <td>107245.000000</td>\n",
              "      <td>51269183.0</td>\n",
              "      <td>0.042823</td>\n",
              "      <td>0.001926</td>\n",
              "    </tr>\n",
              "  </tbody>\n",
              "</table>\n",
              "</div>\n",
              "      <button class=\"colab-df-convert\" onclick=\"convertToInteractive('df-fa295083-5e9b-4108-a2c7-c07f3c5c55ae')\"\n",
              "              title=\"Convert this dataframe to an interactive table.\"\n",
              "              style=\"display:none;\">\n",
              "        \n",
              "  <svg xmlns=\"http://www.w3.org/2000/svg\" height=\"24px\"viewBox=\"0 0 24 24\"\n",
              "       width=\"24px\">\n",
              "    <path d=\"M0 0h24v24H0V0z\" fill=\"none\"/>\n",
              "    <path d=\"M18.56 5.44l.94 2.06.94-2.06 2.06-.94-2.06-.94-.94-2.06-.94 2.06-2.06.94zm-11 1L8.5 8.5l.94-2.06 2.06-.94-2.06-.94L8.5 2.5l-.94 2.06-2.06.94zm10 10l.94 2.06.94-2.06 2.06-.94-2.06-.94-.94-2.06-.94 2.06-2.06.94z\"/><path d=\"M17.41 7.96l-1.37-1.37c-.4-.4-.92-.59-1.43-.59-.52 0-1.04.2-1.43.59L10.3 9.45l-7.72 7.72c-.78.78-.78 2.05 0 2.83L4 21.41c.39.39.9.59 1.41.59.51 0 1.02-.2 1.41-.59l7.78-7.78 2.81-2.81c.8-.78.8-2.07 0-2.86zM5.41 20L4 18.59l7.72-7.72 1.47 1.35L5.41 20z\"/>\n",
              "  </svg>\n",
              "      </button>\n",
              "      \n",
              "  <style>\n",
              "    .colab-df-container {\n",
              "      display:flex;\n",
              "      flex-wrap:wrap;\n",
              "      gap: 12px;\n",
              "    }\n",
              "\n",
              "    .colab-df-convert {\n",
              "      background-color: #E8F0FE;\n",
              "      border: none;\n",
              "      border-radius: 50%;\n",
              "      cursor: pointer;\n",
              "      display: none;\n",
              "      fill: #1967D2;\n",
              "      height: 32px;\n",
              "      padding: 0 0 0 0;\n",
              "      width: 32px;\n",
              "    }\n",
              "\n",
              "    .colab-df-convert:hover {\n",
              "      background-color: #E2EBFA;\n",
              "      box-shadow: 0px 1px 2px rgba(60, 64, 67, 0.3), 0px 1px 3px 1px rgba(60, 64, 67, 0.15);\n",
              "      fill: #174EA6;\n",
              "    }\n",
              "\n",
              "    [theme=dark] .colab-df-convert {\n",
              "      background-color: #3B4455;\n",
              "      fill: #D2E3FC;\n",
              "    }\n",
              "\n",
              "    [theme=dark] .colab-df-convert:hover {\n",
              "      background-color: #434B5C;\n",
              "      box-shadow: 0px 1px 3px 1px rgba(0, 0, 0, 0.15);\n",
              "      filter: drop-shadow(0px 1px 2px rgba(0, 0, 0, 0.3));\n",
              "      fill: #FFFFFF;\n",
              "    }\n",
              "  </style>\n",
              "\n",
              "      <script>\n",
              "        const buttonEl =\n",
              "          document.querySelector('#df-fa295083-5e9b-4108-a2c7-c07f3c5c55ae button.colab-df-convert');\n",
              "        buttonEl.style.display =\n",
              "          google.colab.kernel.accessAllowed ? 'block' : 'none';\n",
              "\n",
              "        async function convertToInteractive(key) {\n",
              "          const element = document.querySelector('#df-fa295083-5e9b-4108-a2c7-c07f3c5c55ae');\n",
              "          const dataTable =\n",
              "            await google.colab.kernel.invokeFunction('convertToInteractive',\n",
              "                                                     [key], {});\n",
              "          if (!dataTable) return;\n",
              "\n",
              "          const docLinkHtml = 'Like what you see? Visit the ' +\n",
              "            '<a target=\"_blank\" href=https://colab.research.google.com/notebooks/data_table.ipynb>data table notebook</a>'\n",
              "            + ' to learn more about interactive tables.';\n",
              "          element.innerHTML = '';\n",
              "          dataTable['output_type'] = 'display_data';\n",
              "          await google.colab.output.renderOutput(dataTable, element);\n",
              "          const docLink = document.createElement('div');\n",
              "          docLink.innerHTML = docLinkHtml;\n",
              "          element.appendChild(docLink);\n",
              "        }\n",
              "      </script>\n",
              "    </div>\n",
              "  </div>\n",
              "  "
            ]
          },
          "metadata": {},
          "execution_count": 27
        }
      ]
    },
    {
      "cell_type": "code",
      "source": [
        "print(df_korea.shape)\n",
        "print(df_korea2.shape)"
      ],
      "metadata": {
        "colab": {
          "base_uri": "https://localhost:8080/"
        },
        "id": "i7G0aQn8Y309",
        "outputId": "68f9f330-5e54-4da7-9b02-a6dc45188ab5"
      },
      "execution_count": 28,
      "outputs": [
        {
          "output_type": "stream",
          "name": "stdout",
          "text": [
            "(494, 7)\n",
            "(459, 15)\n"
          ]
        }
      ]
    },
    {
      "cell_type": "code",
      "source": [
        "df_korea.head()"
      ],
      "metadata": {
        "colab": {
          "base_uri": "https://localhost:8080/",
          "height": 206
        },
        "id": "uRp8ny7dausO",
        "outputId": "60fa460e-bb87-46bd-82e3-72dc5d5d5dc6"
      },
      "execution_count": 29,
      "outputs": [
        {
          "output_type": "execute_result",
          "data": {
            "text/plain": [
              "  ObservationDate Country/Region  Confirmed  Deaths  Recovered  \\\n",
              "0      2020-01-22    South Korea        1.0     0.0        0.0   \n",
              "1      2020-01-23    South Korea        1.0     0.0        0.0   \n",
              "2      2020-01-24    South Korea        2.0     0.0        0.0   \n",
              "3      2020-01-25    South Korea        2.0     0.0        0.0   \n",
              "4      2020-01-26    South Korea        3.0     0.0        0.0   \n",
              "\n",
              "   Percent_Confirmed  Percent_Deaths  \n",
              "0                NaN             NaN  \n",
              "1                0.0             NaN  \n",
              "2                1.0             NaN  \n",
              "3                0.0             NaN  \n",
              "4                0.5             NaN  "
            ],
            "text/html": [
              "\n",
              "  <div id=\"df-9673eadd-703f-42f2-ad48-f644cbd15215\">\n",
              "    <div class=\"colab-df-container\">\n",
              "      <div>\n",
              "<style scoped>\n",
              "    .dataframe tbody tr th:only-of-type {\n",
              "        vertical-align: middle;\n",
              "    }\n",
              "\n",
              "    .dataframe tbody tr th {\n",
              "        vertical-align: top;\n",
              "    }\n",
              "\n",
              "    .dataframe thead th {\n",
              "        text-align: right;\n",
              "    }\n",
              "</style>\n",
              "<table border=\"1\" class=\"dataframe\">\n",
              "  <thead>\n",
              "    <tr style=\"text-align: right;\">\n",
              "      <th></th>\n",
              "      <th>ObservationDate</th>\n",
              "      <th>Country/Region</th>\n",
              "      <th>Confirmed</th>\n",
              "      <th>Deaths</th>\n",
              "      <th>Recovered</th>\n",
              "      <th>Percent_Confirmed</th>\n",
              "      <th>Percent_Deaths</th>\n",
              "    </tr>\n",
              "  </thead>\n",
              "  <tbody>\n",
              "    <tr>\n",
              "      <th>0</th>\n",
              "      <td>2020-01-22</td>\n",
              "      <td>South Korea</td>\n",
              "      <td>1.0</td>\n",
              "      <td>0.0</td>\n",
              "      <td>0.0</td>\n",
              "      <td>NaN</td>\n",
              "      <td>NaN</td>\n",
              "    </tr>\n",
              "    <tr>\n",
              "      <th>1</th>\n",
              "      <td>2020-01-23</td>\n",
              "      <td>South Korea</td>\n",
              "      <td>1.0</td>\n",
              "      <td>0.0</td>\n",
              "      <td>0.0</td>\n",
              "      <td>0.0</td>\n",
              "      <td>NaN</td>\n",
              "    </tr>\n",
              "    <tr>\n",
              "      <th>2</th>\n",
              "      <td>2020-01-24</td>\n",
              "      <td>South Korea</td>\n",
              "      <td>2.0</td>\n",
              "      <td>0.0</td>\n",
              "      <td>0.0</td>\n",
              "      <td>1.0</td>\n",
              "      <td>NaN</td>\n",
              "    </tr>\n",
              "    <tr>\n",
              "      <th>3</th>\n",
              "      <td>2020-01-25</td>\n",
              "      <td>South Korea</td>\n",
              "      <td>2.0</td>\n",
              "      <td>0.0</td>\n",
              "      <td>0.0</td>\n",
              "      <td>0.0</td>\n",
              "      <td>NaN</td>\n",
              "    </tr>\n",
              "    <tr>\n",
              "      <th>4</th>\n",
              "      <td>2020-01-26</td>\n",
              "      <td>South Korea</td>\n",
              "      <td>3.0</td>\n",
              "      <td>0.0</td>\n",
              "      <td>0.0</td>\n",
              "      <td>0.5</td>\n",
              "      <td>NaN</td>\n",
              "    </tr>\n",
              "  </tbody>\n",
              "</table>\n",
              "</div>\n",
              "      <button class=\"colab-df-convert\" onclick=\"convertToInteractive('df-9673eadd-703f-42f2-ad48-f644cbd15215')\"\n",
              "              title=\"Convert this dataframe to an interactive table.\"\n",
              "              style=\"display:none;\">\n",
              "        \n",
              "  <svg xmlns=\"http://www.w3.org/2000/svg\" height=\"24px\"viewBox=\"0 0 24 24\"\n",
              "       width=\"24px\">\n",
              "    <path d=\"M0 0h24v24H0V0z\" fill=\"none\"/>\n",
              "    <path d=\"M18.56 5.44l.94 2.06.94-2.06 2.06-.94-2.06-.94-.94-2.06-.94 2.06-2.06.94zm-11 1L8.5 8.5l.94-2.06 2.06-.94-2.06-.94L8.5 2.5l-.94 2.06-2.06.94zm10 10l.94 2.06.94-2.06 2.06-.94-2.06-.94-.94-2.06-.94 2.06-2.06.94z\"/><path d=\"M17.41 7.96l-1.37-1.37c-.4-.4-.92-.59-1.43-.59-.52 0-1.04.2-1.43.59L10.3 9.45l-7.72 7.72c-.78.78-.78 2.05 0 2.83L4 21.41c.39.39.9.59 1.41.59.51 0 1.02-.2 1.41-.59l7.78-7.78 2.81-2.81c.8-.78.8-2.07 0-2.86zM5.41 20L4 18.59l7.72-7.72 1.47 1.35L5.41 20z\"/>\n",
              "  </svg>\n",
              "      </button>\n",
              "      \n",
              "  <style>\n",
              "    .colab-df-container {\n",
              "      display:flex;\n",
              "      flex-wrap:wrap;\n",
              "      gap: 12px;\n",
              "    }\n",
              "\n",
              "    .colab-df-convert {\n",
              "      background-color: #E8F0FE;\n",
              "      border: none;\n",
              "      border-radius: 50%;\n",
              "      cursor: pointer;\n",
              "      display: none;\n",
              "      fill: #1967D2;\n",
              "      height: 32px;\n",
              "      padding: 0 0 0 0;\n",
              "      width: 32px;\n",
              "    }\n",
              "\n",
              "    .colab-df-convert:hover {\n",
              "      background-color: #E2EBFA;\n",
              "      box-shadow: 0px 1px 2px rgba(60, 64, 67, 0.3), 0px 1px 3px 1px rgba(60, 64, 67, 0.15);\n",
              "      fill: #174EA6;\n",
              "    }\n",
              "\n",
              "    [theme=dark] .colab-df-convert {\n",
              "      background-color: #3B4455;\n",
              "      fill: #D2E3FC;\n",
              "    }\n",
              "\n",
              "    [theme=dark] .colab-df-convert:hover {\n",
              "      background-color: #434B5C;\n",
              "      box-shadow: 0px 1px 3px 1px rgba(0, 0, 0, 0.15);\n",
              "      filter: drop-shadow(0px 1px 2px rgba(0, 0, 0, 0.3));\n",
              "      fill: #FFFFFF;\n",
              "    }\n",
              "  </style>\n",
              "\n",
              "      <script>\n",
              "        const buttonEl =\n",
              "          document.querySelector('#df-9673eadd-703f-42f2-ad48-f644cbd15215 button.colab-df-convert');\n",
              "        buttonEl.style.display =\n",
              "          google.colab.kernel.accessAllowed ? 'block' : 'none';\n",
              "\n",
              "        async function convertToInteractive(key) {\n",
              "          const element = document.querySelector('#df-9673eadd-703f-42f2-ad48-f644cbd15215');\n",
              "          const dataTable =\n",
              "            await google.colab.kernel.invokeFunction('convertToInteractive',\n",
              "                                                     [key], {});\n",
              "          if (!dataTable) return;\n",
              "\n",
              "          const docLinkHtml = 'Like what you see? Visit the ' +\n",
              "            '<a target=\"_blank\" href=https://colab.research.google.com/notebooks/data_table.ipynb>data table notebook</a>'\n",
              "            + ' to learn more about interactive tables.';\n",
              "          element.innerHTML = '';\n",
              "          dataTable['output_type'] = 'display_data';\n",
              "          await google.colab.output.renderOutput(dataTable, element);\n",
              "          const docLink = document.createElement('div');\n",
              "          docLink.innerHTML = docLinkHtml;\n",
              "          element.appendChild(docLink);\n",
              "        }\n",
              "      </script>\n",
              "    </div>\n",
              "  </div>\n",
              "  "
            ]
          },
          "metadata": {},
          "execution_count": 29
        }
      ]
    },
    {
      "cell_type": "code",
      "source": [
        "df_korea2.head()"
      ],
      "metadata": {
        "colab": {
          "base_uri": "https://localhost:8080/",
          "height": 357
        },
        "id": "RZYrSymvZkxR",
        "outputId": "5d2e82d1-8c33-4597-a019-2b059e417581"
      },
      "execution_count": 30,
      "outputs": [
        {
          "output_type": "execute_result",
          "data": {
            "text/plain": [
              "      location       date  total_cases  new_cases  total_deaths  new_deaths  \\\n",
              "0  South Korea 2020-01-21          0.0        0.0           0.0         0.0   \n",
              "1  South Korea 2020-01-22          1.0        0.0           0.0         0.0   \n",
              "2  South Korea 2020-01-23          1.0        0.0           0.0         0.0   \n",
              "3  South Korea 2020-01-24          2.0        0.0           0.0         0.0   \n",
              "4  South Korea 2020-01-25          2.0        0.0           0.0         0.0   \n",
              "\n",
              "   new_tests  total_tests  total_vaccinations  people_vaccinated  \\\n",
              "0        0.0         11.0                 0.0                0.0   \n",
              "1        0.0         16.0                 0.0                0.0   \n",
              "2        0.0         16.0                 0.0                0.0   \n",
              "3        0.0         25.0                 0.0                0.0   \n",
              "4        0.0         25.0                 0.0                0.0   \n",
              "\n",
              "   people_fully_vaccinated  new_vaccinations  population  \\\n",
              "0                      0.0               0.0  51269183.0   \n",
              "1                      0.0               0.0  51269183.0   \n",
              "2                      0.0               0.0  51269183.0   \n",
              "3                      0.0               0.0  51269183.0   \n",
              "4                      0.0               0.0  51269183.0   \n",
              "\n",
              "   percent_population_vaccinated  percent_population_fully_vaccinated  \n",
              "0                            0.0                                  0.0  \n",
              "1                            0.0                                  0.0  \n",
              "2                            0.0                                  0.0  \n",
              "3                            0.0                                  0.0  \n",
              "4                            0.0                                  0.0  "
            ],
            "text/html": [
              "\n",
              "  <div id=\"df-c84892f2-9fa8-4a0f-85cb-0c9eb1e768a8\">\n",
              "    <div class=\"colab-df-container\">\n",
              "      <div>\n",
              "<style scoped>\n",
              "    .dataframe tbody tr th:only-of-type {\n",
              "        vertical-align: middle;\n",
              "    }\n",
              "\n",
              "    .dataframe tbody tr th {\n",
              "        vertical-align: top;\n",
              "    }\n",
              "\n",
              "    .dataframe thead th {\n",
              "        text-align: right;\n",
              "    }\n",
              "</style>\n",
              "<table border=\"1\" class=\"dataframe\">\n",
              "  <thead>\n",
              "    <tr style=\"text-align: right;\">\n",
              "      <th></th>\n",
              "      <th>location</th>\n",
              "      <th>date</th>\n",
              "      <th>total_cases</th>\n",
              "      <th>new_cases</th>\n",
              "      <th>total_deaths</th>\n",
              "      <th>new_deaths</th>\n",
              "      <th>new_tests</th>\n",
              "      <th>total_tests</th>\n",
              "      <th>total_vaccinations</th>\n",
              "      <th>people_vaccinated</th>\n",
              "      <th>people_fully_vaccinated</th>\n",
              "      <th>new_vaccinations</th>\n",
              "      <th>population</th>\n",
              "      <th>percent_population_vaccinated</th>\n",
              "      <th>percent_population_fully_vaccinated</th>\n",
              "    </tr>\n",
              "  </thead>\n",
              "  <tbody>\n",
              "    <tr>\n",
              "      <th>0</th>\n",
              "      <td>South Korea</td>\n",
              "      <td>2020-01-21</td>\n",
              "      <td>0.0</td>\n",
              "      <td>0.0</td>\n",
              "      <td>0.0</td>\n",
              "      <td>0.0</td>\n",
              "      <td>0.0</td>\n",
              "      <td>11.0</td>\n",
              "      <td>0.0</td>\n",
              "      <td>0.0</td>\n",
              "      <td>0.0</td>\n",
              "      <td>0.0</td>\n",
              "      <td>51269183.0</td>\n",
              "      <td>0.0</td>\n",
              "      <td>0.0</td>\n",
              "    </tr>\n",
              "    <tr>\n",
              "      <th>1</th>\n",
              "      <td>South Korea</td>\n",
              "      <td>2020-01-22</td>\n",
              "      <td>1.0</td>\n",
              "      <td>0.0</td>\n",
              "      <td>0.0</td>\n",
              "      <td>0.0</td>\n",
              "      <td>0.0</td>\n",
              "      <td>16.0</td>\n",
              "      <td>0.0</td>\n",
              "      <td>0.0</td>\n",
              "      <td>0.0</td>\n",
              "      <td>0.0</td>\n",
              "      <td>51269183.0</td>\n",
              "      <td>0.0</td>\n",
              "      <td>0.0</td>\n",
              "    </tr>\n",
              "    <tr>\n",
              "      <th>2</th>\n",
              "      <td>South Korea</td>\n",
              "      <td>2020-01-23</td>\n",
              "      <td>1.0</td>\n",
              "      <td>0.0</td>\n",
              "      <td>0.0</td>\n",
              "      <td>0.0</td>\n",
              "      <td>0.0</td>\n",
              "      <td>16.0</td>\n",
              "      <td>0.0</td>\n",
              "      <td>0.0</td>\n",
              "      <td>0.0</td>\n",
              "      <td>0.0</td>\n",
              "      <td>51269183.0</td>\n",
              "      <td>0.0</td>\n",
              "      <td>0.0</td>\n",
              "    </tr>\n",
              "    <tr>\n",
              "      <th>3</th>\n",
              "      <td>South Korea</td>\n",
              "      <td>2020-01-24</td>\n",
              "      <td>2.0</td>\n",
              "      <td>0.0</td>\n",
              "      <td>0.0</td>\n",
              "      <td>0.0</td>\n",
              "      <td>0.0</td>\n",
              "      <td>25.0</td>\n",
              "      <td>0.0</td>\n",
              "      <td>0.0</td>\n",
              "      <td>0.0</td>\n",
              "      <td>0.0</td>\n",
              "      <td>51269183.0</td>\n",
              "      <td>0.0</td>\n",
              "      <td>0.0</td>\n",
              "    </tr>\n",
              "    <tr>\n",
              "      <th>4</th>\n",
              "      <td>South Korea</td>\n",
              "      <td>2020-01-25</td>\n",
              "      <td>2.0</td>\n",
              "      <td>0.0</td>\n",
              "      <td>0.0</td>\n",
              "      <td>0.0</td>\n",
              "      <td>0.0</td>\n",
              "      <td>25.0</td>\n",
              "      <td>0.0</td>\n",
              "      <td>0.0</td>\n",
              "      <td>0.0</td>\n",
              "      <td>0.0</td>\n",
              "      <td>51269183.0</td>\n",
              "      <td>0.0</td>\n",
              "      <td>0.0</td>\n",
              "    </tr>\n",
              "  </tbody>\n",
              "</table>\n",
              "</div>\n",
              "      <button class=\"colab-df-convert\" onclick=\"convertToInteractive('df-c84892f2-9fa8-4a0f-85cb-0c9eb1e768a8')\"\n",
              "              title=\"Convert this dataframe to an interactive table.\"\n",
              "              style=\"display:none;\">\n",
              "        \n",
              "  <svg xmlns=\"http://www.w3.org/2000/svg\" height=\"24px\"viewBox=\"0 0 24 24\"\n",
              "       width=\"24px\">\n",
              "    <path d=\"M0 0h24v24H0V0z\" fill=\"none\"/>\n",
              "    <path d=\"M18.56 5.44l.94 2.06.94-2.06 2.06-.94-2.06-.94-.94-2.06-.94 2.06-2.06.94zm-11 1L8.5 8.5l.94-2.06 2.06-.94-2.06-.94L8.5 2.5l-.94 2.06-2.06.94zm10 10l.94 2.06.94-2.06 2.06-.94-2.06-.94-.94-2.06-.94 2.06-2.06.94z\"/><path d=\"M17.41 7.96l-1.37-1.37c-.4-.4-.92-.59-1.43-.59-.52 0-1.04.2-1.43.59L10.3 9.45l-7.72 7.72c-.78.78-.78 2.05 0 2.83L4 21.41c.39.39.9.59 1.41.59.51 0 1.02-.2 1.41-.59l7.78-7.78 2.81-2.81c.8-.78.8-2.07 0-2.86zM5.41 20L4 18.59l7.72-7.72 1.47 1.35L5.41 20z\"/>\n",
              "  </svg>\n",
              "      </button>\n",
              "      \n",
              "  <style>\n",
              "    .colab-df-container {\n",
              "      display:flex;\n",
              "      flex-wrap:wrap;\n",
              "      gap: 12px;\n",
              "    }\n",
              "\n",
              "    .colab-df-convert {\n",
              "      background-color: #E8F0FE;\n",
              "      border: none;\n",
              "      border-radius: 50%;\n",
              "      cursor: pointer;\n",
              "      display: none;\n",
              "      fill: #1967D2;\n",
              "      height: 32px;\n",
              "      padding: 0 0 0 0;\n",
              "      width: 32px;\n",
              "    }\n",
              "\n",
              "    .colab-df-convert:hover {\n",
              "      background-color: #E2EBFA;\n",
              "      box-shadow: 0px 1px 2px rgba(60, 64, 67, 0.3), 0px 1px 3px 1px rgba(60, 64, 67, 0.15);\n",
              "      fill: #174EA6;\n",
              "    }\n",
              "\n",
              "    [theme=dark] .colab-df-convert {\n",
              "      background-color: #3B4455;\n",
              "      fill: #D2E3FC;\n",
              "    }\n",
              "\n",
              "    [theme=dark] .colab-df-convert:hover {\n",
              "      background-color: #434B5C;\n",
              "      box-shadow: 0px 1px 3px 1px rgba(0, 0, 0, 0.15);\n",
              "      filter: drop-shadow(0px 1px 2px rgba(0, 0, 0, 0.3));\n",
              "      fill: #FFFFFF;\n",
              "    }\n",
              "  </style>\n",
              "\n",
              "      <script>\n",
              "        const buttonEl =\n",
              "          document.querySelector('#df-c84892f2-9fa8-4a0f-85cb-0c9eb1e768a8 button.colab-df-convert');\n",
              "        buttonEl.style.display =\n",
              "          google.colab.kernel.accessAllowed ? 'block' : 'none';\n",
              "\n",
              "        async function convertToInteractive(key) {\n",
              "          const element = document.querySelector('#df-c84892f2-9fa8-4a0f-85cb-0c9eb1e768a8');\n",
              "          const dataTable =\n",
              "            await google.colab.kernel.invokeFunction('convertToInteractive',\n",
              "                                                     [key], {});\n",
              "          if (!dataTable) return;\n",
              "\n",
              "          const docLinkHtml = 'Like what you see? Visit the ' +\n",
              "            '<a target=\"_blank\" href=https://colab.research.google.com/notebooks/data_table.ipynb>data table notebook</a>'\n",
              "            + ' to learn more about interactive tables.';\n",
              "          element.innerHTML = '';\n",
              "          dataTable['output_type'] = 'display_data';\n",
              "          await google.colab.output.renderOutput(dataTable, element);\n",
              "          const docLink = document.createElement('div');\n",
              "          docLink.innerHTML = docLinkHtml;\n",
              "          element.appendChild(docLink);\n",
              "        }\n",
              "      </script>\n",
              "    </div>\n",
              "  </div>\n",
              "  "
            ]
          },
          "metadata": {},
          "execution_count": 30
        }
      ]
    },
    {
      "cell_type": "code",
      "source": [
        "df_korea2= df_korea2.drop(columns=['location', 'total_cases', 'new_cases', 'total_deaths', 'new_deaths', 'new_tests'])"
      ],
      "metadata": {
        "id": "Ha_dqveyazcs"
      },
      "execution_count": 31,
      "outputs": []
    },
    {
      "cell_type": "code",
      "source": [
        "df_korea2 = df_korea2.iloc[1: , :]"
      ],
      "metadata": {
        "id": "sNYRlks8Z15P"
      },
      "execution_count": 32,
      "outputs": []
    },
    {
      "cell_type": "code",
      "source": [
        "df_korea2.head()"
      ],
      "metadata": {
        "colab": {
          "base_uri": "https://localhost:8080/",
          "height": 357
        },
        "id": "AH_NtyFPeE3j",
        "outputId": "f8728403-aa2d-4c07-fe39-8709f2572429"
      },
      "execution_count": 33,
      "outputs": [
        {
          "output_type": "execute_result",
          "data": {
            "text/plain": [
              "        date  total_tests  total_vaccinations  people_vaccinated  \\\n",
              "1 2020-01-22         16.0                 0.0                0.0   \n",
              "2 2020-01-23         16.0                 0.0                0.0   \n",
              "3 2020-01-24         25.0                 0.0                0.0   \n",
              "4 2020-01-25         25.0                 0.0                0.0   \n",
              "5 2020-01-26         48.0                 0.0                0.0   \n",
              "\n",
              "   people_fully_vaccinated  new_vaccinations  population  \\\n",
              "1                      0.0               0.0  51269183.0   \n",
              "2                      0.0               0.0  51269183.0   \n",
              "3                      0.0               0.0  51269183.0   \n",
              "4                      0.0               0.0  51269183.0   \n",
              "5                      0.0               0.0  51269183.0   \n",
              "\n",
              "   percent_population_vaccinated  percent_population_fully_vaccinated  \n",
              "1                            0.0                                  0.0  \n",
              "2                            0.0                                  0.0  \n",
              "3                            0.0                                  0.0  \n",
              "4                            0.0                                  0.0  \n",
              "5                            0.0                                  0.0  "
            ],
            "text/html": [
              "\n",
              "  <div id=\"df-90323cea-273c-43ff-8096-5edd1044815f\">\n",
              "    <div class=\"colab-df-container\">\n",
              "      <div>\n",
              "<style scoped>\n",
              "    .dataframe tbody tr th:only-of-type {\n",
              "        vertical-align: middle;\n",
              "    }\n",
              "\n",
              "    .dataframe tbody tr th {\n",
              "        vertical-align: top;\n",
              "    }\n",
              "\n",
              "    .dataframe thead th {\n",
              "        text-align: right;\n",
              "    }\n",
              "</style>\n",
              "<table border=\"1\" class=\"dataframe\">\n",
              "  <thead>\n",
              "    <tr style=\"text-align: right;\">\n",
              "      <th></th>\n",
              "      <th>date</th>\n",
              "      <th>total_tests</th>\n",
              "      <th>total_vaccinations</th>\n",
              "      <th>people_vaccinated</th>\n",
              "      <th>people_fully_vaccinated</th>\n",
              "      <th>new_vaccinations</th>\n",
              "      <th>population</th>\n",
              "      <th>percent_population_vaccinated</th>\n",
              "      <th>percent_population_fully_vaccinated</th>\n",
              "    </tr>\n",
              "  </thead>\n",
              "  <tbody>\n",
              "    <tr>\n",
              "      <th>1</th>\n",
              "      <td>2020-01-22</td>\n",
              "      <td>16.0</td>\n",
              "      <td>0.0</td>\n",
              "      <td>0.0</td>\n",
              "      <td>0.0</td>\n",
              "      <td>0.0</td>\n",
              "      <td>51269183.0</td>\n",
              "      <td>0.0</td>\n",
              "      <td>0.0</td>\n",
              "    </tr>\n",
              "    <tr>\n",
              "      <th>2</th>\n",
              "      <td>2020-01-23</td>\n",
              "      <td>16.0</td>\n",
              "      <td>0.0</td>\n",
              "      <td>0.0</td>\n",
              "      <td>0.0</td>\n",
              "      <td>0.0</td>\n",
              "      <td>51269183.0</td>\n",
              "      <td>0.0</td>\n",
              "      <td>0.0</td>\n",
              "    </tr>\n",
              "    <tr>\n",
              "      <th>3</th>\n",
              "      <td>2020-01-24</td>\n",
              "      <td>25.0</td>\n",
              "      <td>0.0</td>\n",
              "      <td>0.0</td>\n",
              "      <td>0.0</td>\n",
              "      <td>0.0</td>\n",
              "      <td>51269183.0</td>\n",
              "      <td>0.0</td>\n",
              "      <td>0.0</td>\n",
              "    </tr>\n",
              "    <tr>\n",
              "      <th>4</th>\n",
              "      <td>2020-01-25</td>\n",
              "      <td>25.0</td>\n",
              "      <td>0.0</td>\n",
              "      <td>0.0</td>\n",
              "      <td>0.0</td>\n",
              "      <td>0.0</td>\n",
              "      <td>51269183.0</td>\n",
              "      <td>0.0</td>\n",
              "      <td>0.0</td>\n",
              "    </tr>\n",
              "    <tr>\n",
              "      <th>5</th>\n",
              "      <td>2020-01-26</td>\n",
              "      <td>48.0</td>\n",
              "      <td>0.0</td>\n",
              "      <td>0.0</td>\n",
              "      <td>0.0</td>\n",
              "      <td>0.0</td>\n",
              "      <td>51269183.0</td>\n",
              "      <td>0.0</td>\n",
              "      <td>0.0</td>\n",
              "    </tr>\n",
              "  </tbody>\n",
              "</table>\n",
              "</div>\n",
              "      <button class=\"colab-df-convert\" onclick=\"convertToInteractive('df-90323cea-273c-43ff-8096-5edd1044815f')\"\n",
              "              title=\"Convert this dataframe to an interactive table.\"\n",
              "              style=\"display:none;\">\n",
              "        \n",
              "  <svg xmlns=\"http://www.w3.org/2000/svg\" height=\"24px\"viewBox=\"0 0 24 24\"\n",
              "       width=\"24px\">\n",
              "    <path d=\"M0 0h24v24H0V0z\" fill=\"none\"/>\n",
              "    <path d=\"M18.56 5.44l.94 2.06.94-2.06 2.06-.94-2.06-.94-.94-2.06-.94 2.06-2.06.94zm-11 1L8.5 8.5l.94-2.06 2.06-.94-2.06-.94L8.5 2.5l-.94 2.06-2.06.94zm10 10l.94 2.06.94-2.06 2.06-.94-2.06-.94-.94-2.06-.94 2.06-2.06.94z\"/><path d=\"M17.41 7.96l-1.37-1.37c-.4-.4-.92-.59-1.43-.59-.52 0-1.04.2-1.43.59L10.3 9.45l-7.72 7.72c-.78.78-.78 2.05 0 2.83L4 21.41c.39.39.9.59 1.41.59.51 0 1.02-.2 1.41-.59l7.78-7.78 2.81-2.81c.8-.78.8-2.07 0-2.86zM5.41 20L4 18.59l7.72-7.72 1.47 1.35L5.41 20z\"/>\n",
              "  </svg>\n",
              "      </button>\n",
              "      \n",
              "  <style>\n",
              "    .colab-df-container {\n",
              "      display:flex;\n",
              "      flex-wrap:wrap;\n",
              "      gap: 12px;\n",
              "    }\n",
              "\n",
              "    .colab-df-convert {\n",
              "      background-color: #E8F0FE;\n",
              "      border: none;\n",
              "      border-radius: 50%;\n",
              "      cursor: pointer;\n",
              "      display: none;\n",
              "      fill: #1967D2;\n",
              "      height: 32px;\n",
              "      padding: 0 0 0 0;\n",
              "      width: 32px;\n",
              "    }\n",
              "\n",
              "    .colab-df-convert:hover {\n",
              "      background-color: #E2EBFA;\n",
              "      box-shadow: 0px 1px 2px rgba(60, 64, 67, 0.3), 0px 1px 3px 1px rgba(60, 64, 67, 0.15);\n",
              "      fill: #174EA6;\n",
              "    }\n",
              "\n",
              "    [theme=dark] .colab-df-convert {\n",
              "      background-color: #3B4455;\n",
              "      fill: #D2E3FC;\n",
              "    }\n",
              "\n",
              "    [theme=dark] .colab-df-convert:hover {\n",
              "      background-color: #434B5C;\n",
              "      box-shadow: 0px 1px 3px 1px rgba(0, 0, 0, 0.15);\n",
              "      filter: drop-shadow(0px 1px 2px rgba(0, 0, 0, 0.3));\n",
              "      fill: #FFFFFF;\n",
              "    }\n",
              "  </style>\n",
              "\n",
              "      <script>\n",
              "        const buttonEl =\n",
              "          document.querySelector('#df-90323cea-273c-43ff-8096-5edd1044815f button.colab-df-convert');\n",
              "        buttonEl.style.display =\n",
              "          google.colab.kernel.accessAllowed ? 'block' : 'none';\n",
              "\n",
              "        async function convertToInteractive(key) {\n",
              "          const element = document.querySelector('#df-90323cea-273c-43ff-8096-5edd1044815f');\n",
              "          const dataTable =\n",
              "            await google.colab.kernel.invokeFunction('convertToInteractive',\n",
              "                                                     [key], {});\n",
              "          if (!dataTable) return;\n",
              "\n",
              "          const docLinkHtml = 'Like what you see? Visit the ' +\n",
              "            '<a target=\"_blank\" href=https://colab.research.google.com/notebooks/data_table.ipynb>data table notebook</a>'\n",
              "            + ' to learn more about interactive tables.';\n",
              "          element.innerHTML = '';\n",
              "          dataTable['output_type'] = 'display_data';\n",
              "          await google.colab.output.renderOutput(dataTable, element);\n",
              "          const docLink = document.createElement('div');\n",
              "          docLink.innerHTML = docLinkHtml;\n",
              "          element.appendChild(docLink);\n",
              "        }\n",
              "      </script>\n",
              "    </div>\n",
              "  </div>\n",
              "  "
            ]
          },
          "metadata": {},
          "execution_count": 33
        }
      ]
    },
    {
      "cell_type": "code",
      "source": [
        "df = pd.concat([df_korea.set_index('ObservationDate'), df_korea2.set_index('date')], axis=1)"
      ],
      "metadata": {
        "id": "m2vihDZ7eIxF"
      },
      "execution_count": 34,
      "outputs": []
    },
    {
      "cell_type": "code",
      "source": [
        "df = df.reset_index().rename(columns={'index': 'Date'})"
      ],
      "metadata": {
        "id": "2yB3XKp0eO_s"
      },
      "execution_count": 35,
      "outputs": []
    },
    {
      "cell_type": "code",
      "source": [
        "df.head()"
      ],
      "metadata": {
        "colab": {
          "base_uri": "https://localhost:8080/",
          "height": 357
        },
        "id": "ys2nX_5vgRI7",
        "outputId": "8f3fa880-e7db-452c-9020-b664b6709d7d"
      },
      "execution_count": 36,
      "outputs": [
        {
          "output_type": "execute_result",
          "data": {
            "text/plain": [
              "        Date Country/Region  Confirmed  Deaths  Recovered  Percent_Confirmed  \\\n",
              "0 2020-01-22    South Korea        1.0     0.0        0.0                NaN   \n",
              "1 2020-01-23    South Korea        1.0     0.0        0.0                0.0   \n",
              "2 2020-01-24    South Korea        2.0     0.0        0.0                1.0   \n",
              "3 2020-01-25    South Korea        2.0     0.0        0.0                0.0   \n",
              "4 2020-01-26    South Korea        3.0     0.0        0.0                0.5   \n",
              "\n",
              "   Percent_Deaths  total_tests  total_vaccinations  people_vaccinated  \\\n",
              "0             NaN         16.0                 0.0                0.0   \n",
              "1             NaN         16.0                 0.0                0.0   \n",
              "2             NaN         25.0                 0.0                0.0   \n",
              "3             NaN         25.0                 0.0                0.0   \n",
              "4             NaN         48.0                 0.0                0.0   \n",
              "\n",
              "   people_fully_vaccinated  new_vaccinations  population  \\\n",
              "0                      0.0               0.0  51269183.0   \n",
              "1                      0.0               0.0  51269183.0   \n",
              "2                      0.0               0.0  51269183.0   \n",
              "3                      0.0               0.0  51269183.0   \n",
              "4                      0.0               0.0  51269183.0   \n",
              "\n",
              "   percent_population_vaccinated  percent_population_fully_vaccinated  \n",
              "0                            0.0                                  0.0  \n",
              "1                            0.0                                  0.0  \n",
              "2                            0.0                                  0.0  \n",
              "3                            0.0                                  0.0  \n",
              "4                            0.0                                  0.0  "
            ],
            "text/html": [
              "\n",
              "  <div id=\"df-273c74b0-1ed1-4299-ba15-c0718a78e2ce\">\n",
              "    <div class=\"colab-df-container\">\n",
              "      <div>\n",
              "<style scoped>\n",
              "    .dataframe tbody tr th:only-of-type {\n",
              "        vertical-align: middle;\n",
              "    }\n",
              "\n",
              "    .dataframe tbody tr th {\n",
              "        vertical-align: top;\n",
              "    }\n",
              "\n",
              "    .dataframe thead th {\n",
              "        text-align: right;\n",
              "    }\n",
              "</style>\n",
              "<table border=\"1\" class=\"dataframe\">\n",
              "  <thead>\n",
              "    <tr style=\"text-align: right;\">\n",
              "      <th></th>\n",
              "      <th>Date</th>\n",
              "      <th>Country/Region</th>\n",
              "      <th>Confirmed</th>\n",
              "      <th>Deaths</th>\n",
              "      <th>Recovered</th>\n",
              "      <th>Percent_Confirmed</th>\n",
              "      <th>Percent_Deaths</th>\n",
              "      <th>total_tests</th>\n",
              "      <th>total_vaccinations</th>\n",
              "      <th>people_vaccinated</th>\n",
              "      <th>people_fully_vaccinated</th>\n",
              "      <th>new_vaccinations</th>\n",
              "      <th>population</th>\n",
              "      <th>percent_population_vaccinated</th>\n",
              "      <th>percent_population_fully_vaccinated</th>\n",
              "    </tr>\n",
              "  </thead>\n",
              "  <tbody>\n",
              "    <tr>\n",
              "      <th>0</th>\n",
              "      <td>2020-01-22</td>\n",
              "      <td>South Korea</td>\n",
              "      <td>1.0</td>\n",
              "      <td>0.0</td>\n",
              "      <td>0.0</td>\n",
              "      <td>NaN</td>\n",
              "      <td>NaN</td>\n",
              "      <td>16.0</td>\n",
              "      <td>0.0</td>\n",
              "      <td>0.0</td>\n",
              "      <td>0.0</td>\n",
              "      <td>0.0</td>\n",
              "      <td>51269183.0</td>\n",
              "      <td>0.0</td>\n",
              "      <td>0.0</td>\n",
              "    </tr>\n",
              "    <tr>\n",
              "      <th>1</th>\n",
              "      <td>2020-01-23</td>\n",
              "      <td>South Korea</td>\n",
              "      <td>1.0</td>\n",
              "      <td>0.0</td>\n",
              "      <td>0.0</td>\n",
              "      <td>0.0</td>\n",
              "      <td>NaN</td>\n",
              "      <td>16.0</td>\n",
              "      <td>0.0</td>\n",
              "      <td>0.0</td>\n",
              "      <td>0.0</td>\n",
              "      <td>0.0</td>\n",
              "      <td>51269183.0</td>\n",
              "      <td>0.0</td>\n",
              "      <td>0.0</td>\n",
              "    </tr>\n",
              "    <tr>\n",
              "      <th>2</th>\n",
              "      <td>2020-01-24</td>\n",
              "      <td>South Korea</td>\n",
              "      <td>2.0</td>\n",
              "      <td>0.0</td>\n",
              "      <td>0.0</td>\n",
              "      <td>1.0</td>\n",
              "      <td>NaN</td>\n",
              "      <td>25.0</td>\n",
              "      <td>0.0</td>\n",
              "      <td>0.0</td>\n",
              "      <td>0.0</td>\n",
              "      <td>0.0</td>\n",
              "      <td>51269183.0</td>\n",
              "      <td>0.0</td>\n",
              "      <td>0.0</td>\n",
              "    </tr>\n",
              "    <tr>\n",
              "      <th>3</th>\n",
              "      <td>2020-01-25</td>\n",
              "      <td>South Korea</td>\n",
              "      <td>2.0</td>\n",
              "      <td>0.0</td>\n",
              "      <td>0.0</td>\n",
              "      <td>0.0</td>\n",
              "      <td>NaN</td>\n",
              "      <td>25.0</td>\n",
              "      <td>0.0</td>\n",
              "      <td>0.0</td>\n",
              "      <td>0.0</td>\n",
              "      <td>0.0</td>\n",
              "      <td>51269183.0</td>\n",
              "      <td>0.0</td>\n",
              "      <td>0.0</td>\n",
              "    </tr>\n",
              "    <tr>\n",
              "      <th>4</th>\n",
              "      <td>2020-01-26</td>\n",
              "      <td>South Korea</td>\n",
              "      <td>3.0</td>\n",
              "      <td>0.0</td>\n",
              "      <td>0.0</td>\n",
              "      <td>0.5</td>\n",
              "      <td>NaN</td>\n",
              "      <td>48.0</td>\n",
              "      <td>0.0</td>\n",
              "      <td>0.0</td>\n",
              "      <td>0.0</td>\n",
              "      <td>0.0</td>\n",
              "      <td>51269183.0</td>\n",
              "      <td>0.0</td>\n",
              "      <td>0.0</td>\n",
              "    </tr>\n",
              "  </tbody>\n",
              "</table>\n",
              "</div>\n",
              "      <button class=\"colab-df-convert\" onclick=\"convertToInteractive('df-273c74b0-1ed1-4299-ba15-c0718a78e2ce')\"\n",
              "              title=\"Convert this dataframe to an interactive table.\"\n",
              "              style=\"display:none;\">\n",
              "        \n",
              "  <svg xmlns=\"http://www.w3.org/2000/svg\" height=\"24px\"viewBox=\"0 0 24 24\"\n",
              "       width=\"24px\">\n",
              "    <path d=\"M0 0h24v24H0V0z\" fill=\"none\"/>\n",
              "    <path d=\"M18.56 5.44l.94 2.06.94-2.06 2.06-.94-2.06-.94-.94-2.06-.94 2.06-2.06.94zm-11 1L8.5 8.5l.94-2.06 2.06-.94-2.06-.94L8.5 2.5l-.94 2.06-2.06.94zm10 10l.94 2.06.94-2.06 2.06-.94-2.06-.94-.94-2.06-.94 2.06-2.06.94z\"/><path d=\"M17.41 7.96l-1.37-1.37c-.4-.4-.92-.59-1.43-.59-.52 0-1.04.2-1.43.59L10.3 9.45l-7.72 7.72c-.78.78-.78 2.05 0 2.83L4 21.41c.39.39.9.59 1.41.59.51 0 1.02-.2 1.41-.59l7.78-7.78 2.81-2.81c.8-.78.8-2.07 0-2.86zM5.41 20L4 18.59l7.72-7.72 1.47 1.35L5.41 20z\"/>\n",
              "  </svg>\n",
              "      </button>\n",
              "      \n",
              "  <style>\n",
              "    .colab-df-container {\n",
              "      display:flex;\n",
              "      flex-wrap:wrap;\n",
              "      gap: 12px;\n",
              "    }\n",
              "\n",
              "    .colab-df-convert {\n",
              "      background-color: #E8F0FE;\n",
              "      border: none;\n",
              "      border-radius: 50%;\n",
              "      cursor: pointer;\n",
              "      display: none;\n",
              "      fill: #1967D2;\n",
              "      height: 32px;\n",
              "      padding: 0 0 0 0;\n",
              "      width: 32px;\n",
              "    }\n",
              "\n",
              "    .colab-df-convert:hover {\n",
              "      background-color: #E2EBFA;\n",
              "      box-shadow: 0px 1px 2px rgba(60, 64, 67, 0.3), 0px 1px 3px 1px rgba(60, 64, 67, 0.15);\n",
              "      fill: #174EA6;\n",
              "    }\n",
              "\n",
              "    [theme=dark] .colab-df-convert {\n",
              "      background-color: #3B4455;\n",
              "      fill: #D2E3FC;\n",
              "    }\n",
              "\n",
              "    [theme=dark] .colab-df-convert:hover {\n",
              "      background-color: #434B5C;\n",
              "      box-shadow: 0px 1px 3px 1px rgba(0, 0, 0, 0.15);\n",
              "      filter: drop-shadow(0px 1px 2px rgba(0, 0, 0, 0.3));\n",
              "      fill: #FFFFFF;\n",
              "    }\n",
              "  </style>\n",
              "\n",
              "      <script>\n",
              "        const buttonEl =\n",
              "          document.querySelector('#df-273c74b0-1ed1-4299-ba15-c0718a78e2ce button.colab-df-convert');\n",
              "        buttonEl.style.display =\n",
              "          google.colab.kernel.accessAllowed ? 'block' : 'none';\n",
              "\n",
              "        async function convertToInteractive(key) {\n",
              "          const element = document.querySelector('#df-273c74b0-1ed1-4299-ba15-c0718a78e2ce');\n",
              "          const dataTable =\n",
              "            await google.colab.kernel.invokeFunction('convertToInteractive',\n",
              "                                                     [key], {});\n",
              "          if (!dataTable) return;\n",
              "\n",
              "          const docLinkHtml = 'Like what you see? Visit the ' +\n",
              "            '<a target=\"_blank\" href=https://colab.research.google.com/notebooks/data_table.ipynb>data table notebook</a>'\n",
              "            + ' to learn more about interactive tables.';\n",
              "          element.innerHTML = '';\n",
              "          dataTable['output_type'] = 'display_data';\n",
              "          await google.colab.output.renderOutput(dataTable, element);\n",
              "          const docLink = document.createElement('div');\n",
              "          docLink.innerHTML = docLinkHtml;\n",
              "          element.appendChild(docLink);\n",
              "        }\n",
              "      </script>\n",
              "    </div>\n",
              "  </div>\n",
              "  "
            ]
          },
          "metadata": {},
          "execution_count": 36
        }
      ]
    },
    {
      "cell_type": "code",
      "source": [
        "df.tail()"
      ],
      "metadata": {
        "colab": {
          "base_uri": "https://localhost:8080/",
          "height": 357
        },
        "id": "eXaQ94xbR0EK",
        "outputId": "ced4369a-ec8f-455a-d3ff-5013f58da2e1"
      },
      "execution_count": 37,
      "outputs": [
        {
          "output_type": "execute_result",
          "data": {
            "text/plain": [
              "          Date Country/Region  Confirmed  Deaths  Recovered  \\\n",
              "489 2021-05-25    South Korea   137682.0  1940.0   127582.0   \n",
              "490 2021-05-26    South Korea   138311.0  1943.0   128180.0   \n",
              "491 2021-05-27    South Korea   138898.0  1946.0   128761.0   \n",
              "492 2021-05-28    South Korea   139431.0  1951.0   129739.0   \n",
              "493 2021-05-29    South Korea   139910.0  1957.0   130381.0   \n",
              "\n",
              "     Percent_Confirmed  Percent_Deaths  total_tests  total_vaccinations  \\\n",
              "489           0.005103        0.001032          NaN                 NaN   \n",
              "490           0.004568        0.001546          NaN                 NaN   \n",
              "491           0.004244        0.001544          NaN                 NaN   \n",
              "492           0.003837        0.002569          NaN                 NaN   \n",
              "493           0.003435        0.003075          NaN                 NaN   \n",
              "\n",
              "     people_vaccinated  people_fully_vaccinated  new_vaccinations  population  \\\n",
              "489                NaN                      NaN               NaN         NaN   \n",
              "490                NaN                      NaN               NaN         NaN   \n",
              "491                NaN                      NaN               NaN         NaN   \n",
              "492                NaN                      NaN               NaN         NaN   \n",
              "493                NaN                      NaN               NaN         NaN   \n",
              "\n",
              "     percent_population_vaccinated  percent_population_fully_vaccinated  \n",
              "489                            NaN                                  NaN  \n",
              "490                            NaN                                  NaN  \n",
              "491                            NaN                                  NaN  \n",
              "492                            NaN                                  NaN  \n",
              "493                            NaN                                  NaN  "
            ],
            "text/html": [
              "\n",
              "  <div id=\"df-ab527c14-dfb1-4fe8-affd-7e33fe61d027\">\n",
              "    <div class=\"colab-df-container\">\n",
              "      <div>\n",
              "<style scoped>\n",
              "    .dataframe tbody tr th:only-of-type {\n",
              "        vertical-align: middle;\n",
              "    }\n",
              "\n",
              "    .dataframe tbody tr th {\n",
              "        vertical-align: top;\n",
              "    }\n",
              "\n",
              "    .dataframe thead th {\n",
              "        text-align: right;\n",
              "    }\n",
              "</style>\n",
              "<table border=\"1\" class=\"dataframe\">\n",
              "  <thead>\n",
              "    <tr style=\"text-align: right;\">\n",
              "      <th></th>\n",
              "      <th>Date</th>\n",
              "      <th>Country/Region</th>\n",
              "      <th>Confirmed</th>\n",
              "      <th>Deaths</th>\n",
              "      <th>Recovered</th>\n",
              "      <th>Percent_Confirmed</th>\n",
              "      <th>Percent_Deaths</th>\n",
              "      <th>total_tests</th>\n",
              "      <th>total_vaccinations</th>\n",
              "      <th>people_vaccinated</th>\n",
              "      <th>people_fully_vaccinated</th>\n",
              "      <th>new_vaccinations</th>\n",
              "      <th>population</th>\n",
              "      <th>percent_population_vaccinated</th>\n",
              "      <th>percent_population_fully_vaccinated</th>\n",
              "    </tr>\n",
              "  </thead>\n",
              "  <tbody>\n",
              "    <tr>\n",
              "      <th>489</th>\n",
              "      <td>2021-05-25</td>\n",
              "      <td>South Korea</td>\n",
              "      <td>137682.0</td>\n",
              "      <td>1940.0</td>\n",
              "      <td>127582.0</td>\n",
              "      <td>0.005103</td>\n",
              "      <td>0.001032</td>\n",
              "      <td>NaN</td>\n",
              "      <td>NaN</td>\n",
              "      <td>NaN</td>\n",
              "      <td>NaN</td>\n",
              "      <td>NaN</td>\n",
              "      <td>NaN</td>\n",
              "      <td>NaN</td>\n",
              "      <td>NaN</td>\n",
              "    </tr>\n",
              "    <tr>\n",
              "      <th>490</th>\n",
              "      <td>2021-05-26</td>\n",
              "      <td>South Korea</td>\n",
              "      <td>138311.0</td>\n",
              "      <td>1943.0</td>\n",
              "      <td>128180.0</td>\n",
              "      <td>0.004568</td>\n",
              "      <td>0.001546</td>\n",
              "      <td>NaN</td>\n",
              "      <td>NaN</td>\n",
              "      <td>NaN</td>\n",
              "      <td>NaN</td>\n",
              "      <td>NaN</td>\n",
              "      <td>NaN</td>\n",
              "      <td>NaN</td>\n",
              "      <td>NaN</td>\n",
              "    </tr>\n",
              "    <tr>\n",
              "      <th>491</th>\n",
              "      <td>2021-05-27</td>\n",
              "      <td>South Korea</td>\n",
              "      <td>138898.0</td>\n",
              "      <td>1946.0</td>\n",
              "      <td>128761.0</td>\n",
              "      <td>0.004244</td>\n",
              "      <td>0.001544</td>\n",
              "      <td>NaN</td>\n",
              "      <td>NaN</td>\n",
              "      <td>NaN</td>\n",
              "      <td>NaN</td>\n",
              "      <td>NaN</td>\n",
              "      <td>NaN</td>\n",
              "      <td>NaN</td>\n",
              "      <td>NaN</td>\n",
              "    </tr>\n",
              "    <tr>\n",
              "      <th>492</th>\n",
              "      <td>2021-05-28</td>\n",
              "      <td>South Korea</td>\n",
              "      <td>139431.0</td>\n",
              "      <td>1951.0</td>\n",
              "      <td>129739.0</td>\n",
              "      <td>0.003837</td>\n",
              "      <td>0.002569</td>\n",
              "      <td>NaN</td>\n",
              "      <td>NaN</td>\n",
              "      <td>NaN</td>\n",
              "      <td>NaN</td>\n",
              "      <td>NaN</td>\n",
              "      <td>NaN</td>\n",
              "      <td>NaN</td>\n",
              "      <td>NaN</td>\n",
              "    </tr>\n",
              "    <tr>\n",
              "      <th>493</th>\n",
              "      <td>2021-05-29</td>\n",
              "      <td>South Korea</td>\n",
              "      <td>139910.0</td>\n",
              "      <td>1957.0</td>\n",
              "      <td>130381.0</td>\n",
              "      <td>0.003435</td>\n",
              "      <td>0.003075</td>\n",
              "      <td>NaN</td>\n",
              "      <td>NaN</td>\n",
              "      <td>NaN</td>\n",
              "      <td>NaN</td>\n",
              "      <td>NaN</td>\n",
              "      <td>NaN</td>\n",
              "      <td>NaN</td>\n",
              "      <td>NaN</td>\n",
              "    </tr>\n",
              "  </tbody>\n",
              "</table>\n",
              "</div>\n",
              "      <button class=\"colab-df-convert\" onclick=\"convertToInteractive('df-ab527c14-dfb1-4fe8-affd-7e33fe61d027')\"\n",
              "              title=\"Convert this dataframe to an interactive table.\"\n",
              "              style=\"display:none;\">\n",
              "        \n",
              "  <svg xmlns=\"http://www.w3.org/2000/svg\" height=\"24px\"viewBox=\"0 0 24 24\"\n",
              "       width=\"24px\">\n",
              "    <path d=\"M0 0h24v24H0V0z\" fill=\"none\"/>\n",
              "    <path d=\"M18.56 5.44l.94 2.06.94-2.06 2.06-.94-2.06-.94-.94-2.06-.94 2.06-2.06.94zm-11 1L8.5 8.5l.94-2.06 2.06-.94-2.06-.94L8.5 2.5l-.94 2.06-2.06.94zm10 10l.94 2.06.94-2.06 2.06-.94-2.06-.94-.94-2.06-.94 2.06-2.06.94z\"/><path d=\"M17.41 7.96l-1.37-1.37c-.4-.4-.92-.59-1.43-.59-.52 0-1.04.2-1.43.59L10.3 9.45l-7.72 7.72c-.78.78-.78 2.05 0 2.83L4 21.41c.39.39.9.59 1.41.59.51 0 1.02-.2 1.41-.59l7.78-7.78 2.81-2.81c.8-.78.8-2.07 0-2.86zM5.41 20L4 18.59l7.72-7.72 1.47 1.35L5.41 20z\"/>\n",
              "  </svg>\n",
              "      </button>\n",
              "      \n",
              "  <style>\n",
              "    .colab-df-container {\n",
              "      display:flex;\n",
              "      flex-wrap:wrap;\n",
              "      gap: 12px;\n",
              "    }\n",
              "\n",
              "    .colab-df-convert {\n",
              "      background-color: #E8F0FE;\n",
              "      border: none;\n",
              "      border-radius: 50%;\n",
              "      cursor: pointer;\n",
              "      display: none;\n",
              "      fill: #1967D2;\n",
              "      height: 32px;\n",
              "      padding: 0 0 0 0;\n",
              "      width: 32px;\n",
              "    }\n",
              "\n",
              "    .colab-df-convert:hover {\n",
              "      background-color: #E2EBFA;\n",
              "      box-shadow: 0px 1px 2px rgba(60, 64, 67, 0.3), 0px 1px 3px 1px rgba(60, 64, 67, 0.15);\n",
              "      fill: #174EA6;\n",
              "    }\n",
              "\n",
              "    [theme=dark] .colab-df-convert {\n",
              "      background-color: #3B4455;\n",
              "      fill: #D2E3FC;\n",
              "    }\n",
              "\n",
              "    [theme=dark] .colab-df-convert:hover {\n",
              "      background-color: #434B5C;\n",
              "      box-shadow: 0px 1px 3px 1px rgba(0, 0, 0, 0.15);\n",
              "      filter: drop-shadow(0px 1px 2px rgba(0, 0, 0, 0.3));\n",
              "      fill: #FFFFFF;\n",
              "    }\n",
              "  </style>\n",
              "\n",
              "      <script>\n",
              "        const buttonEl =\n",
              "          document.querySelector('#df-ab527c14-dfb1-4fe8-affd-7e33fe61d027 button.colab-df-convert');\n",
              "        buttonEl.style.display =\n",
              "          google.colab.kernel.accessAllowed ? 'block' : 'none';\n",
              "\n",
              "        async function convertToInteractive(key) {\n",
              "          const element = document.querySelector('#df-ab527c14-dfb1-4fe8-affd-7e33fe61d027');\n",
              "          const dataTable =\n",
              "            await google.colab.kernel.invokeFunction('convertToInteractive',\n",
              "                                                     [key], {});\n",
              "          if (!dataTable) return;\n",
              "\n",
              "          const docLinkHtml = 'Like what you see? Visit the ' +\n",
              "            '<a target=\"_blank\" href=https://colab.research.google.com/notebooks/data_table.ipynb>data table notebook</a>'\n",
              "            + ' to learn more about interactive tables.';\n",
              "          element.innerHTML = '';\n",
              "          dataTable['output_type'] = 'display_data';\n",
              "          await google.colab.output.renderOutput(dataTable, element);\n",
              "          const docLink = document.createElement('div');\n",
              "          docLink.innerHTML = docLinkHtml;\n",
              "          element.appendChild(docLink);\n",
              "        }\n",
              "      </script>\n",
              "    </div>\n",
              "  </div>\n",
              "  "
            ]
          },
          "metadata": {},
          "execution_count": 37
        }
      ]
    },
    {
      "cell_type": "code",
      "source": [
        "#Number of Confirmed/Recovered cases\n",
        "sns.set_theme(style = 'ticks')\n",
        "sns.set_context('notebook')\n",
        "\n",
        "\n",
        "fig = plt.figure(figsize=(10,5))\n",
        "ax = fig.add_subplot(111)\n",
        "ax.plot(df.Date, df.Confirmed,'darkblue', label = 'Confirmed')\n",
        "ax.plot(df.Date, df.Recovered,'green', label = 'Recovered')\n",
        "\n",
        "plt.axvline(dt.datetime(2021,2,26), color='red')\n",
        "\n",
        "ax.annotate('First Vaccine in\\n South Korea', xy=(dt.datetime(2021,2,26),15000),  xycoords='data',\n",
        "             xytext=(-30, 0), textcoords='offset points',\n",
        "             size=11, ha='right', va='center',\n",
        "             bbox=dict(boxstyle='round', alpha=0.1),\n",
        "             arrowprops=dict(arrowstyle='wedge,tail_width=0.5', alpha=0.1))\n",
        "\n",
        "ax.set_xlabel('Date')\n",
        "ax.set_ylabel('Confirmed Cases')\n",
        "ax.set_title('Number of Confirmed/Recovered Cases')\n",
        "fig.legend(loc=1, bbox_to_anchor=(0.2,1), bbox_transform=ax.transAxes)"
      ],
      "metadata": {
        "colab": {
          "base_uri": "https://localhost:8080/",
          "height": 372
        },
        "id": "j0XJ4tW6R3Dl",
        "outputId": "8fb0769d-425c-42c0-871e-8a482693dc47"
      },
      "execution_count": 38,
      "outputs": [
        {
          "output_type": "execute_result",
          "data": {
            "text/plain": [
              "<matplotlib.legend.Legend at 0x7ff4293fc7d0>"
            ]
          },
          "metadata": {},
          "execution_count": 38
        },
        {
          "output_type": "display_data",
          "data": {
            "text/plain": [
              "<Figure size 720x360 with 1 Axes>"
            ],
            "image/png": "[encoded data removed]"
          },
          "metadata": {}
        }
      ]
    },
    {
      "cell_type": "code",
      "source": [
        "#Number of Deaths\n",
        "sns.set_theme(style = 'ticks')\n",
        "sns.set_context('notebook')\n",
        "\n",
        "\n",
        "fig = plt.figure(figsize=(10,5))\n",
        "ax = fig.add_subplot(111)\n",
        "ax.plot(df.Date, df.Deaths,'orange', label = 'Deaths')\n",
        "\n",
        "plt.axvline(dt.datetime(2021,2,26), color='red')\n",
        "\n",
        "ax.annotate('First Vaccine in\\n South Korea', xy=(dt.datetime(2021,2,26),250),  xycoords='data',\n",
        "             xytext=(-30, 0), textcoords='offset points',\n",
        "             size=11, ha='right', va='center',\n",
        "             bbox=dict(boxstyle='round', alpha=0.1),\n",
        "             arrowprops=dict(arrowstyle='wedge,tail_width=0.5', alpha=0.1))\n",
        "\n",
        "ax.set_xlabel('Date')\n",
        "ax.set_ylabel('Deaths')\n",
        "ax.set_title('Number of Deaths')\n",
        "fig.legend(loc=1, bbox_to_anchor=(0.17,1), bbox_transform=ax.transAxes)"
      ],
      "metadata": {
        "colab": {
          "base_uri": "https://localhost:8080/",
          "height": 372
        },
        "id": "V0oL0e0GSIlX",
        "outputId": "ee15a927-e7f8-4edf-c2b8-89233003c94f"
      },
      "execution_count": 39,
      "outputs": [
        {
          "output_type": "execute_result",
          "data": {
            "text/plain": [
              "<matplotlib.legend.Legend at 0x7ff428f05250>"
            ]
          },
          "metadata": {},
          "execution_count": 39
        },
        {
          "output_type": "display_data",
          "data": {
            "text/plain": [
              "<Figure size 720x360 with 1 Axes>"
            ],
            "image/png": "[encoded data removed]"
          },
          "metadata": {}
        }
      ]
    },
    {
      "cell_type": "code",
      "source": [
        "#Percent of Population Vaccinated/Fully Vaccinated\n",
        "sns.set_theme(style = 'ticks')\n",
        "sns.set_context('notebook')\n",
        "\n",
        "\n",
        "fig = plt.figure(figsize=(10,5))\n",
        "ax = fig.add_subplot(111)\n",
        "ax.plot(df.Date, df.percent_population_vaccinated,'pink', label = 'Percent Population Vaccinated')\n",
        "ax.plot(df.Date, df.percent_population_fully_vaccinated,'brown', label = 'Percent Population Fully Vaccinated')\n",
        "\n",
        "plt.axvline(dt.datetime(2021,2,26), color='red')\n",
        "\n",
        "ax.annotate('First Vaccine in\\n South Korea', xy=(dt.datetime(2021,2,26),0.015),  xycoords='data',\n",
        "             xytext=(-30, 0), textcoords='offset points',\n",
        "             size=11, ha='right', va='center',\n",
        "             bbox=dict(boxstyle='round', alpha=0.1),\n",
        "             arrowprops=dict(arrowstyle='wedge,tail_width=0.5', alpha=0.1))\n",
        "\n",
        "ax.set_xlabel('Date')\n",
        "ax.set_ylabel('Percent of Vaccination')\n",
        "ax.set_title('Percent of Population Vaccinated')\n",
        "fig.legend(loc=1, bbox_to_anchor=(0.45,1), bbox_transform=ax.transAxes)"
      ],
      "metadata": {
        "colab": {
          "base_uri": "https://localhost:8080/",
          "height": 372
        },
        "id": "wDwISaJrSeoY",
        "outputId": "fde665a7-9105-4020-cd95-b75a7158eab3"
      },
      "execution_count": 40,
      "outputs": [
        {
          "output_type": "execute_result",
          "data": {
            "text/plain": [
              "<matplotlib.legend.Legend at 0x7ff428bb9e50>"
            ]
          },
          "metadata": {},
          "execution_count": 40
        },
        {
          "output_type": "display_data",
          "data": {
            "text/plain": [
              "<Figure size 720x360 with 1 Axes>"
            ],
            "image/png": "[encoded data removed]"
          },
          "metadata": {}
        }
      ]
    },
    {
      "cell_type": "markdown",
      "source": [
        "\n",
        "\n",
        "---\n",
        "\n"
      ],
      "metadata": {
        "id": "NhW9tKftgJN5"
      }
    },
    {
      "cell_type": "markdown",
      "source": [
        "# **Predictions**"
      ],
      "metadata": {
        "id": "2jWX2jHKgKtg"
      }
    },
    {
      "cell_type": "markdown",
      "source": [
        "**Prediction for Confirmed Cases**"
      ],
      "metadata": {
        "id": "JiING7T9fZAS"
      }
    },
    {
      "cell_type": "code",
      "source": [
        "df.isna().sum()"
      ],
      "metadata": {
        "colab": {
          "base_uri": "https://localhost:8080/"
        },
        "id": "DCK_3FAlb0NO",
        "outputId": "2b15f69e-030e-4e5e-8822-d5ea71678f52"
      },
      "execution_count": 41,
      "outputs": [
        {
          "output_type": "execute_result",
          "data": {
            "text/plain": [
              "Date                                    0\n",
              "Country/Region                          0\n",
              "Confirmed                               0\n",
              "Deaths                                  0\n",
              "Recovered                               0\n",
              "Percent_Confirmed                       1\n",
              "Percent_Deaths                         29\n",
              "total_tests                            36\n",
              "total_vaccinations                     36\n",
              "people_vaccinated                      36\n",
              "people_fully_vaccinated                36\n",
              "new_vaccinations                       36\n",
              "population                             36\n",
              "percent_population_vaccinated          36\n",
              "percent_population_fully_vaccinated    36\n",
              "dtype: int64"
            ]
          },
          "metadata": {},
          "execution_count": 41
        }
      ]
    },
    {
      "cell_type": "code",
      "source": [
        "pred_df_case = df[['Date','Confirmed']]\n",
        "pred_df_case = pred_df_case.rename(columns={'Date':'ds', 'Confirmed': 'y'})\n",
        "\n",
        "model = Prophet()\n",
        "model.fit(pred_df_case)"
      ],
      "metadata": {
        "id": "u-2wHzC8cUP2",
        "colab": {
          "base_uri": "https://localhost:8080/"
        },
        "outputId": "86e6f561-7ab1-499d-9a8a-e77f8d85d63f"
      },
      "execution_count": 42,
      "outputs": [
        {
          "output_type": "stream",
          "name": "stderr",
          "text": [
            "INFO:fbprophet:Disabling yearly seasonality. Run prophet with yearly_seasonality=True to override this.\n",
            "INFO:fbprophet:Disabling daily seasonality. Run prophet with daily_seasonality=True to override this.\n"
          ]
        },
        {
          "output_type": "execute_result",
          "data": {
            "text/plain": [
              "<fbprophet.forecaster.Prophet at 0x7ff429403050>"
            ]
          },
          "metadata": {},
          "execution_count": 42
        }
      ]
    },
    {
      "cell_type": "code",
      "source": [
        "future = model.make_future_dataframe(periods=94)\n",
        "future.tail()"
      ],
      "metadata": {
        "id": "HqaxxZo9dFSb",
        "colab": {
          "base_uri": "https://localhost:8080/",
          "height": 206
        },
        "outputId": "83ed7ea9-dc74-44ec-d8ab-1b9534b98d57"
      },
      "execution_count": 43,
      "outputs": [
        {
          "output_type": "execute_result",
          "data": {
            "text/plain": [
              "            ds\n",
              "583 2021-08-27\n",
              "584 2021-08-28\n",
              "585 2021-08-29\n",
              "586 2021-08-30\n",
              "587 2021-08-31"
            ],
            "text/html": [
              "\n",
              "  <div id=\"df-b9ce28c9-7235-4ba1-8d17-bb5f8bd8b0b5\">\n",
              "    <div class=\"colab-df-container\">\n",
              "      <div>\n",
              "<style scoped>\n",
              "    .dataframe tbody tr th:only-of-type {\n",
              "        vertical-align: middle;\n",
              "    }\n",
              "\n",
              "    .dataframe tbody tr th {\n",
              "        vertical-align: top;\n",
              "    }\n",
              "\n",
              "    .dataframe thead th {\n",
              "        text-align: right;\n",
              "    }\n",
              "</style>\n",
              "<table border=\"1\" class=\"dataframe\">\n",
              "  <thead>\n",
              "    <tr style=\"text-align: right;\">\n",
              "      <th></th>\n",
              "      <th>ds</th>\n",
              "    </tr>\n",
              "  </thead>\n",
              "  <tbody>\n",
              "    <tr>\n",
              "      <th>583</th>\n",
              "      <td>2021-08-27</td>\n",
              "    </tr>\n",
              "    <tr>\n",
              "      <th>584</th>\n",
              "      <td>2021-08-28</td>\n",
              "    </tr>\n",
              "    <tr>\n",
              "      <th>585</th>\n",
              "      <td>2021-08-29</td>\n",
              "    </tr>\n",
              "    <tr>\n",
              "      <th>586</th>\n",
              "      <td>2021-08-30</td>\n",
              "    </tr>\n",
              "    <tr>\n",
              "      <th>587</th>\n",
              "      <td>2021-08-31</td>\n",
              "    </tr>\n",
              "  </tbody>\n",
              "</table>\n",
              "</div>\n",
              "      <button class=\"colab-df-convert\" onclick=\"convertToInteractive('df-b9ce28c9-7235-4ba1-8d17-bb5f8bd8b0b5')\"\n",
              "              title=\"Convert this dataframe to an interactive table.\"\n",
              "              style=\"display:none;\">\n",
              "        \n",
              "  <svg xmlns=\"http://www.w3.org/2000/svg\" height=\"24px\"viewBox=\"0 0 24 24\"\n",
              "       width=\"24px\">\n",
              "    <path d=\"M0 0h24v24H0V0z\" fill=\"none\"/>\n",
              "    <path d=\"M18.56 5.44l.94 2.06.94-2.06 2.06-.94-2.06-.94-.94-2.06-.94 2.06-2.06.94zm-11 1L8.5 8.5l.94-2.06 2.06-.94-2.06-.94L8.5 2.5l-.94 2.06-2.06.94zm10 10l.94 2.06.94-2.06 2.06-.94-2.06-.94-.94-2.06-.94 2.06-2.06.94z\"/><path d=\"M17.41 7.96l-1.37-1.37c-.4-.4-.92-.59-1.43-.59-.52 0-1.04.2-1.43.59L10.3 9.45l-7.72 7.72c-.78.78-.78 2.05 0 2.83L4 21.41c.39.39.9.59 1.41.59.51 0 1.02-.2 1.41-.59l7.78-7.78 2.81-2.81c.8-.78.8-2.07 0-2.86zM5.41 20L4 18.59l7.72-7.72 1.47 1.35L5.41 20z\"/>\n",
              "  </svg>\n",
              "      </button>\n",
              "      \n",
              "  <style>\n",
              "    .colab-df-container {\n",
              "      display:flex;\n",
              "      flex-wrap:wrap;\n",
              "      gap: 12px;\n",
              "    }\n",
              "\n",
              "    .colab-df-convert {\n",
              "      background-color: #E8F0FE;\n",
              "      border: none;\n",
              "      border-radius: 50%;\n",
              "      cursor: pointer;\n",
              "      display: none;\n",
              "      fill: #1967D2;\n",
              "      height: 32px;\n",
              "      padding: 0 0 0 0;\n",
              "      width: 32px;\n",
              "    }\n",
              "\n",
              "    .colab-df-convert:hover {\n",
              "      background-color: #E2EBFA;\n",
              "      box-shadow: 0px 1px 2px rgba(60, 64, 67, 0.3), 0px 1px 3px 1px rgba(60, 64, 67, 0.15);\n",
              "      fill: #174EA6;\n",
              "    }\n",
              "\n",
              "    [theme=dark] .colab-df-convert {\n",
              "      background-color: #3B4455;\n",
              "      fill: #D2E3FC;\n",
              "    }\n",
              "\n",
              "    [theme=dark] .colab-df-convert:hover {\n",
              "      background-color: #434B5C;\n",
              "      box-shadow: 0px 1px 3px 1px rgba(0, 0, 0, 0.15);\n",
              "      filter: drop-shadow(0px 1px 2px rgba(0, 0, 0, 0.3));\n",
              "      fill: #FFFFFF;\n",
              "    }\n",
              "  </style>\n",
              "\n",
              "      <script>\n",
              "        const buttonEl =\n",
              "          document.querySelector('#df-b9ce28c9-7235-4ba1-8d17-bb5f8bd8b0b5 button.colab-df-convert');\n",
              "        buttonEl.style.display =\n",
              "          google.colab.kernel.accessAllowed ? 'block' : 'none';\n",
              "\n",
              "        async function convertToInteractive(key) {\n",
              "          const element = document.querySelector('#df-b9ce28c9-7235-4ba1-8d17-bb5f8bd8b0b5');\n",
              "          const dataTable =\n",
              "            await google.colab.kernel.invokeFunction('convertToInteractive',\n",
              "                                                     [key], {});\n",
              "          if (!dataTable) return;\n",
              "\n",
              "          const docLinkHtml = 'Like what you see? Visit the ' +\n",
              "            '<a target=\"_blank\" href=https://colab.research.google.com/notebooks/data_table.ipynb>data table notebook</a>'\n",
              "            + ' to learn more about interactive tables.';\n",
              "          element.innerHTML = '';\n",
              "          dataTable['output_type'] = 'display_data';\n",
              "          await google.colab.output.renderOutput(dataTable, element);\n",
              "          const docLink = document.createElement('div');\n",
              "          docLink.innerHTML = docLinkHtml;\n",
              "          element.appendChild(docLink);\n",
              "        }\n",
              "      </script>\n",
              "    </div>\n",
              "  </div>\n",
              "  "
            ]
          },
          "metadata": {},
          "execution_count": 43
        }
      ]
    },
    {
      "cell_type": "code",
      "source": [
        "forecast = model.predict(future)\n",
        "forecast[['ds', 'yhat', 'yhat_lower', 'yhat_upper']].tail()"
      ],
      "metadata": {
        "colab": {
          "base_uri": "https://localhost:8080/",
          "height": 206
        },
        "id": "owVRMJrtden7",
        "outputId": "dbdebd0e-ae3e-4d18-85e6-a57d507a0a55"
      },
      "execution_count": 44,
      "outputs": [
        {
          "output_type": "execute_result",
          "data": {
            "text/plain": [
              "            ds           yhat     yhat_lower     yhat_upper\n",
              "583 2021-08-27  187416.943326  166490.522727  207475.250484\n",
              "584 2021-08-28  187965.585210  166565.656872  208411.571667\n",
              "585 2021-08-29  188449.714898  166645.126557  209906.801048\n",
              "586 2021-08-30  188961.321377  166835.110968  210073.998056\n",
              "587 2021-08-31  189535.536458  166560.942742  211075.366109"
            ],
            "text/html": [
              "\n",
              "  <div id=\"df-5ba2244f-ae50-46a7-9db5-62fa8ea03a5b\">\n",
              "    <div class=\"colab-df-container\">\n",
              "      <div>\n",
              "<style scoped>\n",
              "    .dataframe tbody tr th:only-of-type {\n",
              "        vertical-align: middle;\n",
              "    }\n",
              "\n",
              "    .dataframe tbody tr th {\n",
              "        vertical-align: top;\n",
              "    }\n",
              "\n",
              "    .dataframe thead th {\n",
              "        text-align: right;\n",
              "    }\n",
              "</style>\n",
              "<table border=\"1\" class=\"dataframe\">\n",
              "  <thead>\n",
              "    <tr style=\"text-align: right;\">\n",
              "      <th></th>\n",
              "      <th>ds</th>\n",
              "      <th>yhat</th>\n",
              "      <th>yhat_lower</th>\n",
              "      <th>yhat_upper</th>\n",
              "    </tr>\n",
              "  </thead>\n",
              "  <tbody>\n",
              "    <tr>\n",
              "      <th>583</th>\n",
              "      <td>2021-08-27</td>\n",
              "      <td>187416.943326</td>\n",
              "      <td>166490.522727</td>\n",
              "      <td>207475.250484</td>\n",
              "    </tr>\n",
              "    <tr>\n",
              "      <th>584</th>\n",
              "      <td>2021-08-28</td>\n",
              "      <td>187965.585210</td>\n",
              "      <td>166565.656872</td>\n",
              "      <td>208411.571667</td>\n",
              "    </tr>\n",
              "    <tr>\n",
              "      <th>585</th>\n",
              "      <td>2021-08-29</td>\n",
              "      <td>188449.714898</td>\n",
              "      <td>166645.126557</td>\n",
              "      <td>209906.801048</td>\n",
              "    </tr>\n",
              "    <tr>\n",
              "      <th>586</th>\n",
              "      <td>2021-08-30</td>\n",
              "      <td>188961.321377</td>\n",
              "      <td>166835.110968</td>\n",
              "      <td>210073.998056</td>\n",
              "    </tr>\n",
              "    <tr>\n",
              "      <th>587</th>\n",
              "      <td>2021-08-31</td>\n",
              "      <td>189535.536458</td>\n",
              "      <td>166560.942742</td>\n",
              "      <td>211075.366109</td>\n",
              "    </tr>\n",
              "  </tbody>\n",
              "</table>\n",
              "</div>\n",
              "      <button class=\"colab-df-convert\" onclick=\"convertToInteractive('df-5ba2244f-ae50-46a7-9db5-62fa8ea03a5b')\"\n",
              "              title=\"Convert this dataframe to an interactive table.\"\n",
              "              style=\"display:none;\">\n",
              "        \n",
              "  <svg xmlns=\"http://www.w3.org/2000/svg\" height=\"24px\"viewBox=\"0 0 24 24\"\n",
              "       width=\"24px\">\n",
              "    <path d=\"M0 0h24v24H0V0z\" fill=\"none\"/>\n",
              "    <path d=\"M18.56 5.44l.94 2.06.94-2.06 2.06-.94-2.06-.94-.94-2.06-.94 2.06-2.06.94zm-11 1L8.5 8.5l.94-2.06 2.06-.94-2.06-.94L8.5 2.5l-.94 2.06-2.06.94zm10 10l.94 2.06.94-2.06 2.06-.94-2.06-.94-.94-2.06-.94 2.06-2.06.94z\"/><path d=\"M17.41 7.96l-1.37-1.37c-.4-.4-.92-.59-1.43-.59-.52 0-1.04.2-1.43.59L10.3 9.45l-7.72 7.72c-.78.78-.78 2.05 0 2.83L4 21.41c.39.39.9.59 1.41.59.51 0 1.02-.2 1.41-.59l7.78-7.78 2.81-2.81c.8-.78.8-2.07 0-2.86zM5.41 20L4 18.59l7.72-7.72 1.47 1.35L5.41 20z\"/>\n",
              "  </svg>\n",
              "      </button>\n",
              "      \n",
              "  <style>\n",
              "    .colab-df-container {\n",
              "      display:flex;\n",
              "      flex-wrap:wrap;\n",
              "      gap: 12px;\n",
              "    }\n",
              "\n",
              "    .colab-df-convert {\n",
              "      background-color: #E8F0FE;\n",
              "      border: none;\n",
              "      border-radius: 50%;\n",
              "      cursor: pointer;\n",
              "      display: none;\n",
              "      fill: #1967D2;\n",
              "      height: 32px;\n",
              "      padding: 0 0 0 0;\n",
              "      width: 32px;\n",
              "    }\n",
              "\n",
              "    .colab-df-convert:hover {\n",
              "      background-color: #E2EBFA;\n",
              "      box-shadow: 0px 1px 2px rgba(60, 64, 67, 0.3), 0px 1px 3px 1px rgba(60, 64, 67, 0.15);\n",
              "      fill: #174EA6;\n",
              "    }\n",
              "\n",
              "    [theme=dark] .colab-df-convert {\n",
              "      background-color: #3B4455;\n",
              "      fill: #D2E3FC;\n",
              "    }\n",
              "\n",
              "    [theme=dark] .colab-df-convert:hover {\n",
              "      background-color: #434B5C;\n",
              "      box-shadow: 0px 1px 3px 1px rgba(0, 0, 0, 0.15);\n",
              "      filter: drop-shadow(0px 1px 2px rgba(0, 0, 0, 0.3));\n",
              "      fill: #FFFFFF;\n",
              "    }\n",
              "  </style>\n",
              "\n",
              "      <script>\n",
              "        const buttonEl =\n",
              "          document.querySelector('#df-5ba2244f-ae50-46a7-9db5-62fa8ea03a5b button.colab-df-convert');\n",
              "        buttonEl.style.display =\n",
              "          google.colab.kernel.accessAllowed ? 'block' : 'none';\n",
              "\n",
              "        async function convertToInteractive(key) {\n",
              "          const element = document.querySelector('#df-5ba2244f-ae50-46a7-9db5-62fa8ea03a5b');\n",
              "          const dataTable =\n",
              "            await google.colab.kernel.invokeFunction('convertToInteractive',\n",
              "                                                     [key], {});\n",
              "          if (!dataTable) return;\n",
              "\n",
              "          const docLinkHtml = 'Like what you see? Visit the ' +\n",
              "            '<a target=\"_blank\" href=https://colab.research.google.com/notebooks/data_table.ipynb>data table notebook</a>'\n",
              "            + ' to learn more about interactive tables.';\n",
              "          element.innerHTML = '';\n",
              "          dataTable['output_type'] = 'display_data';\n",
              "          await google.colab.output.renderOutput(dataTable, element);\n",
              "          const docLink = document.createElement('div');\n",
              "          docLink.innerHTML = docLinkHtml;\n",
              "          element.appendChild(docLink);\n",
              "        }\n",
              "      </script>\n",
              "    </div>\n",
              "  </div>\n",
              "  "
            ]
          },
          "metadata": {},
          "execution_count": 44
        }
      ]
    },
    {
      "cell_type": "code",
      "source": [
        "sns.set_theme(style = 'ticks')\n",
        "sns.set_context('notebook')\n",
        "\n",
        "\n",
        "fig = plt.figure(figsize=(10,5))\n",
        "ax = fig.add_subplot(111)\n",
        "model.plot(forecast, xlabel='Date', ylabel='Total Confirmed', ax=ax)\n",
        "\n",
        "plt.axvline(dt.datetime(2021,2,26), color='red')\n",
        "ax.annotate('First Vaccine in\\n South Korea', xy=(dt.datetime(2021,2,26),100000),  xycoords='data',\n",
        "             xytext=(-30, 0), textcoords='offset points',\n",
        "             size=11, ha='right', va='center',\n",
        "             bbox=dict(boxstyle='round', alpha=0.1),\n",
        "             arrowprops=dict(arrowstyle='wedge,tail_width=0.5', alpha=0.1))\n",
        "\n",
        "ax.set_title('Predictions for Number of Confirmed Cases in Aug 31st')\n",
        "fig.show()"
      ],
      "metadata": {
        "colab": {
          "base_uri": "https://localhost:8080/",
          "height": 381
        },
        "id": "AeIuSrrudjR3",
        "outputId": "5900cf3e-b25c-44eb-8cb7-3344d644261a"
      },
      "execution_count": 45,
      "outputs": [
        {
          "output_type": "display_data",
          "data": {
            "text/plain": [
              "<Figure size 720x360 with 1 Axes>"
            ],
            "image/png": "[encoded data removed]"
          },
          "metadata": {}
        }
      ]
    },
    {
      "cell_type": "markdown",
      "source": [
        "**Prediction for Percent Confirmed**"
      ],
      "metadata": {
        "id": "gDbPeBnb9H0w"
      }
    },
    {
      "cell_type": "code",
      "source": [
        "pred_df_per_case = df[['Date','Percent_Confirmed']]\n",
        "pred_df_per_case = pred_df_per_case.rename(columns={'Date':'ds', 'Percent_Confirmed': 'y'})\n",
        "\n",
        "model = Prophet()\n",
        "model.fit(pred_df_per_case)"
      ],
      "metadata": {
        "colab": {
          "base_uri": "https://localhost:8080/"
        },
        "id": "ji50BWTJ86xT",
        "outputId": "be0a7ec2-655f-463d-b3dc-8cf7fe6ede2b"
      },
      "execution_count": 46,
      "outputs": [
        {
          "output_type": "stream",
          "name": "stderr",
          "text": [
            "INFO:fbprophet:Disabling yearly seasonality. Run prophet with yearly_seasonality=True to override this.\n",
            "INFO:fbprophet:Disabling daily seasonality. Run prophet with daily_seasonality=True to override this.\n"
          ]
        },
        {
          "output_type": "execute_result",
          "data": {
            "text/plain": [
              "<fbprophet.forecaster.Prophet at 0x7ff42941e850>"
            ]
          },
          "metadata": {},
          "execution_count": 46
        }
      ]
    },
    {
      "cell_type": "code",
      "source": [
        "future_per_case = model.make_future_dataframe(periods=94)\n",
        "future_per_case.tail()"
      ],
      "metadata": {
        "colab": {
          "base_uri": "https://localhost:8080/",
          "height": 206
        },
        "id": "_YR0nDlJ9EfF",
        "outputId": "6280c40e-b116-4e5c-caff-bdc5aaeae3b2"
      },
      "execution_count": 47,
      "outputs": [
        {
          "output_type": "execute_result",
          "data": {
            "text/plain": [
              "            ds\n",
              "583 2021-08-27\n",
              "584 2021-08-28\n",
              "585 2021-08-29\n",
              "586 2021-08-30\n",
              "587 2021-08-31"
            ],
            "text/html": [
              "\n",
              "  <div id=\"df-da004287-2096-4c5c-a564-17f2a59cb508\">\n",
              "    <div class=\"colab-df-container\">\n",
              "      <div>\n",
              "<style scoped>\n",
              "    .dataframe tbody tr th:only-of-type {\n",
              "        vertical-align: middle;\n",
              "    }\n",
              "\n",
              "    .dataframe tbody tr th {\n",
              "        vertical-align: top;\n",
              "    }\n",
              "\n",
              "    .dataframe thead th {\n",
              "        text-align: right;\n",
              "    }\n",
              "</style>\n",
              "<table border=\"1\" class=\"dataframe\">\n",
              "  <thead>\n",
              "    <tr style=\"text-align: right;\">\n",
              "      <th></th>\n",
              "      <th>ds</th>\n",
              "    </tr>\n",
              "  </thead>\n",
              "  <tbody>\n",
              "    <tr>\n",
              "      <th>583</th>\n",
              "      <td>2021-08-27</td>\n",
              "    </tr>\n",
              "    <tr>\n",
              "      <th>584</th>\n",
              "      <td>2021-08-28</td>\n",
              "    </tr>\n",
              "    <tr>\n",
              "      <th>585</th>\n",
              "      <td>2021-08-29</td>\n",
              "    </tr>\n",
              "    <tr>\n",
              "      <th>586</th>\n",
              "      <td>2021-08-30</td>\n",
              "    </tr>\n",
              "    <tr>\n",
              "      <th>587</th>\n",
              "      <td>2021-08-31</td>\n",
              "    </tr>\n",
              "  </tbody>\n",
              "</table>\n",
              "</div>\n",
              "      <button class=\"colab-df-convert\" onclick=\"convertToInteractive('df-da004287-2096-4c5c-a564-17f2a59cb508')\"\n",
              "              title=\"Convert this dataframe to an interactive table.\"\n",
              "              style=\"display:none;\">\n",
              "        \n",
              "  <svg xmlns=\"http://www.w3.org/2000/svg\" height=\"24px\"viewBox=\"0 0 24 24\"\n",
              "       width=\"24px\">\n",
              "    <path d=\"M0 0h24v24H0V0z\" fill=\"none\"/>\n",
              "    <path d=\"M18.56 5.44l.94 2.06.94-2.06 2.06-.94-2.06-.94-.94-2.06-.94 2.06-2.06.94zm-11 1L8.5 8.5l.94-2.06 2.06-.94-2.06-.94L8.5 2.5l-.94 2.06-2.06.94zm10 10l.94 2.06.94-2.06 2.06-.94-2.06-.94-.94-2.06-.94 2.06-2.06.94z\"/><path d=\"M17.41 7.96l-1.37-1.37c-.4-.4-.92-.59-1.43-.59-.52 0-1.04.2-1.43.59L10.3 9.45l-7.72 7.72c-.78.78-.78 2.05 0 2.83L4 21.41c.39.39.9.59 1.41.59.51 0 1.02-.2 1.41-.59l7.78-7.78 2.81-2.81c.8-.78.8-2.07 0-2.86zM5.41 20L4 18.59l7.72-7.72 1.47 1.35L5.41 20z\"/>\n",
              "  </svg>\n",
              "      </button>\n",
              "      \n",
              "  <style>\n",
              "    .colab-df-container {\n",
              "      display:flex;\n",
              "      flex-wrap:wrap;\n",
              "      gap: 12px;\n",
              "    }\n",
              "\n",
              "    .colab-df-convert {\n",
              "      background-color: #E8F0FE;\n",
              "      border: none;\n",
              "      border-radius: 50%;\n",
              "      cursor: pointer;\n",
              "      display: none;\n",
              "      fill: #1967D2;\n",
              "      height: 32px;\n",
              "      padding: 0 0 0 0;\n",
              "      width: 32px;\n",
              "    }\n",
              "\n",
              "    .colab-df-convert:hover {\n",
              "      background-color: #E2EBFA;\n",
              "      box-shadow: 0px 1px 2px rgba(60, 64, 67, 0.3), 0px 1px 3px 1px rgba(60, 64, 67, 0.15);\n",
              "      fill: #174EA6;\n",
              "    }\n",
              "\n",
              "    [theme=dark] .colab-df-convert {\n",
              "      background-color: #3B4455;\n",
              "      fill: #D2E3FC;\n",
              "    }\n",
              "\n",
              "    [theme=dark] .colab-df-convert:hover {\n",
              "      background-color: #434B5C;\n",
              "      box-shadow: 0px 1px 3px 1px rgba(0, 0, 0, 0.15);\n",
              "      filter: drop-shadow(0px 1px 2px rgba(0, 0, 0, 0.3));\n",
              "      fill: #FFFFFF;\n",
              "    }\n",
              "  </style>\n",
              "\n",
              "      <script>\n",
              "        const buttonEl =\n",
              "          document.querySelector('#df-da004287-2096-4c5c-a564-17f2a59cb508 button.colab-df-convert');\n",
              "        buttonEl.style.display =\n",
              "          google.colab.kernel.accessAllowed ? 'block' : 'none';\n",
              "\n",
              "        async function convertToInteractive(key) {\n",
              "          const element = document.querySelector('#df-da004287-2096-4c5c-a564-17f2a59cb508');\n",
              "          const dataTable =\n",
              "            await google.colab.kernel.invokeFunction('convertToInteractive',\n",
              "                                                     [key], {});\n",
              "          if (!dataTable) return;\n",
              "\n",
              "          const docLinkHtml = 'Like what you see? Visit the ' +\n",
              "            '<a target=\"_blank\" href=https://colab.research.google.com/notebooks/data_table.ipynb>data table notebook</a>'\n",
              "            + ' to learn more about interactive tables.';\n",
              "          element.innerHTML = '';\n",
              "          dataTable['output_type'] = 'display_data';\n",
              "          await google.colab.output.renderOutput(dataTable, element);\n",
              "          const docLink = document.createElement('div');\n",
              "          docLink.innerHTML = docLinkHtml;\n",
              "          element.appendChild(docLink);\n",
              "        }\n",
              "      </script>\n",
              "    </div>\n",
              "  </div>\n",
              "  "
            ]
          },
          "metadata": {},
          "execution_count": 47
        }
      ]
    },
    {
      "cell_type": "code",
      "source": [
        "forecast_per_case = model.predict(future_per_case)\n",
        "forecast_per_case[['ds', 'yhat', 'yhat_lower', 'yhat_upper']].tail()"
      ],
      "metadata": {
        "colab": {
          "base_uri": "https://localhost:8080/",
          "height": 206
        },
        "id": "Qwsld2hY9FxX",
        "outputId": "fa3a5270-244c-4311-a29f-01762205d505"
      },
      "execution_count": 48,
      "outputs": [
        {
          "output_type": "execute_result",
          "data": {
            "text/plain": [
              "            ds      yhat  yhat_lower  yhat_upper\n",
              "583 2021-08-27  0.043641   -0.141100    0.221058\n",
              "584 2021-08-28  0.008381   -0.183453    0.200856\n",
              "585 2021-08-29  0.005198   -0.174799    0.181151\n",
              "586 2021-08-30 -0.000459   -0.181313    0.181182\n",
              "587 2021-08-31 -0.006015   -0.194329    0.167874"
            ],
            "text/html": [
              "\n",
              "  <div id=\"df-a133559f-7bbf-4977-a0de-efad1f5ed6a9\">\n",
              "    <div class=\"colab-df-container\">\n",
              "      <div>\n",
              "<style scoped>\n",
              "    .dataframe tbody tr th:only-of-type {\n",
              "        vertical-align: middle;\n",
              "    }\n",
              "\n",
              "    .dataframe tbody tr th {\n",
              "        vertical-align: top;\n",
              "    }\n",
              "\n",
              "    .dataframe thead th {\n",
              "        text-align: right;\n",
              "    }\n",
              "</style>\n",
              "<table border=\"1\" class=\"dataframe\">\n",
              "  <thead>\n",
              "    <tr style=\"text-align: right;\">\n",
              "      <th></th>\n",
              "      <th>ds</th>\n",
              "      <th>yhat</th>\n",
              "      <th>yhat_lower</th>\n",
              "      <th>yhat_upper</th>\n",
              "    </tr>\n",
              "  </thead>\n",
              "  <tbody>\n",
              "    <tr>\n",
              "      <th>583</th>\n",
              "      <td>2021-08-27</td>\n",
              "      <td>0.043641</td>\n",
              "      <td>-0.141100</td>\n",
              "      <td>0.221058</td>\n",
              "    </tr>\n",
              "    <tr>\n",
              "      <th>584</th>\n",
              "      <td>2021-08-28</td>\n",
              "      <td>0.008381</td>\n",
              "      <td>-0.183453</td>\n",
              "      <td>0.200856</td>\n",
              "    </tr>\n",
              "    <tr>\n",
              "      <th>585</th>\n",
              "      <td>2021-08-29</td>\n",
              "      <td>0.005198</td>\n",
              "      <td>-0.174799</td>\n",
              "      <td>0.181151</td>\n",
              "    </tr>\n",
              "    <tr>\n",
              "      <th>586</th>\n",
              "      <td>2021-08-30</td>\n",
              "      <td>-0.000459</td>\n",
              "      <td>-0.181313</td>\n",
              "      <td>0.181182</td>\n",
              "    </tr>\n",
              "    <tr>\n",
              "      <th>587</th>\n",
              "      <td>2021-08-31</td>\n",
              "      <td>-0.006015</td>\n",
              "      <td>-0.194329</td>\n",
              "      <td>0.167874</td>\n",
              "    </tr>\n",
              "  </tbody>\n",
              "</table>\n",
              "</div>\n",
              "      <button class=\"colab-df-convert\" onclick=\"convertToInteractive('df-a133559f-7bbf-4977-a0de-efad1f5ed6a9')\"\n",
              "              title=\"Convert this dataframe to an interactive table.\"\n",
              "              style=\"display:none;\">\n",
              "        \n",
              "  <svg xmlns=\"http://www.w3.org/2000/svg\" height=\"24px\"viewBox=\"0 0 24 24\"\n",
              "       width=\"24px\">\n",
              "    <path d=\"M0 0h24v24H0V0z\" fill=\"none\"/>\n",
              "    <path d=\"M18.56 5.44l.94 2.06.94-2.06 2.06-.94-2.06-.94-.94-2.06-.94 2.06-2.06.94zm-11 1L8.5 8.5l.94-2.06 2.06-.94-2.06-.94L8.5 2.5l-.94 2.06-2.06.94zm10 10l.94 2.06.94-2.06 2.06-.94-2.06-.94-.94-2.06-.94 2.06-2.06.94z\"/><path d=\"M17.41 7.96l-1.37-1.37c-.4-.4-.92-.59-1.43-.59-.52 0-1.04.2-1.43.59L10.3 9.45l-7.72 7.72c-.78.78-.78 2.05 0 2.83L4 21.41c.39.39.9.59 1.41.59.51 0 1.02-.2 1.41-.59l7.78-7.78 2.81-2.81c.8-.78.8-2.07 0-2.86zM5.41 20L4 18.59l7.72-7.72 1.47 1.35L5.41 20z\"/>\n",
              "  </svg>\n",
              "      </button>\n",
              "      \n",
              "  <style>\n",
              "    .colab-df-container {\n",
              "      display:flex;\n",
              "      flex-wrap:wrap;\n",
              "      gap: 12px;\n",
              "    }\n",
              "\n",
              "    .colab-df-convert {\n",
              "      background-color: #E8F0FE;\n",
              "      border: none;\n",
              "      border-radius: 50%;\n",
              "      cursor: pointer;\n",
              "      display: none;\n",
              "      fill: #1967D2;\n",
              "      height: 32px;\n",
              "      padding: 0 0 0 0;\n",
              "      width: 32px;\n",
              "    }\n",
              "\n",
              "    .colab-df-convert:hover {\n",
              "      background-color: #E2EBFA;\n",
              "      box-shadow: 0px 1px 2px rgba(60, 64, 67, 0.3), 0px 1px 3px 1px rgba(60, 64, 67, 0.15);\n",
              "      fill: #174EA6;\n",
              "    }\n",
              "\n",
              "    [theme=dark] .colab-df-convert {\n",
              "      background-color: #3B4455;\n",
              "      fill: #D2E3FC;\n",
              "    }\n",
              "\n",
              "    [theme=dark] .colab-df-convert:hover {\n",
              "      background-color: #434B5C;\n",
              "      box-shadow: 0px 1px 3px 1px rgba(0, 0, 0, 0.15);\n",
              "      filter: drop-shadow(0px 1px 2px rgba(0, 0, 0, 0.3));\n",
              "      fill: #FFFFFF;\n",
              "    }\n",
              "  </style>\n",
              "\n",
              "      <script>\n",
              "        const buttonEl =\n",
              "          document.querySelector('#df-a133559f-7bbf-4977-a0de-efad1f5ed6a9 button.colab-df-convert');\n",
              "        buttonEl.style.display =\n",
              "          google.colab.kernel.accessAllowed ? 'block' : 'none';\n",
              "\n",
              "        async function convertToInteractive(key) {\n",
              "          const element = document.querySelector('#df-a133559f-7bbf-4977-a0de-efad1f5ed6a9');\n",
              "          const dataTable =\n",
              "            await google.colab.kernel.invokeFunction('convertToInteractive',\n",
              "                                                     [key], {});\n",
              "          if (!dataTable) return;\n",
              "\n",
              "          const docLinkHtml = 'Like what you see? Visit the ' +\n",
              "            '<a target=\"_blank\" href=https://colab.research.google.com/notebooks/data_table.ipynb>data table notebook</a>'\n",
              "            + ' to learn more about interactive tables.';\n",
              "          element.innerHTML = '';\n",
              "          dataTable['output_type'] = 'display_data';\n",
              "          await google.colab.output.renderOutput(dataTable, element);\n",
              "          const docLink = document.createElement('div');\n",
              "          docLink.innerHTML = docLinkHtml;\n",
              "          element.appendChild(docLink);\n",
              "        }\n",
              "      </script>\n",
              "    </div>\n",
              "  </div>\n",
              "  "
            ]
          },
          "metadata": {},
          "execution_count": 48
        }
      ]
    },
    {
      "cell_type": "code",
      "source": [
        "sns.set_theme(style = 'ticks')\n",
        "sns.set_context('notebook')\n",
        "\n",
        "\n",
        "fig = plt.figure(figsize=(10,5))\n",
        "ax = fig.add_subplot(111)\n",
        "model.plot(forecast_per_case, xlabel='Date', ylabel='Percent Confirmed', ax=ax)\n",
        "\n",
        "plt.axvline(dt.datetime(2021,2,26), color='red')\n",
        "ax.annotate('First Vaccine in\\n South Korea', xy=(dt.datetime(2021,2,26),0.5),  xycoords='data',\n",
        "             xytext=(-30, 0), textcoords='offset points',\n",
        "             size=11, ha='right', va='center',\n",
        "             bbox=dict(boxstyle='round', alpha=0.1),\n",
        "             arrowprops=dict(arrowstyle='wedge,tail_width=0.5', alpha=0.1))\n",
        "\n",
        "ax.set_title('Predictions for Percent of Confirmed Cases in Aug 31st')\n",
        "fig.show()"
      ],
      "metadata": {
        "colab": {
          "base_uri": "https://localhost:8080/",
          "height": 381
        },
        "id": "GBiYTU8w9HU_",
        "outputId": "2601265d-e982-4fb6-934e-ef336657e12b"
      },
      "execution_count": 49,
      "outputs": [
        {
          "output_type": "display_data",
          "data": {
            "text/plain": [
              "<Figure size 720x360 with 1 Axes>"
            ],
            "image/png": "[encoded data removed]"
          },
          "metadata": {}
        }
      ]
    },
    {
      "cell_type": "markdown",
      "source": [
        "**Prediction for Deaths**"
      ],
      "metadata": {
        "id": "K1-G4Q8MfWdM"
      }
    },
    {
      "cell_type": "code",
      "source": [
        "pred_df_death = df[['Date','Deaths']]\n",
        "pred_df_death = pred_df_death.rename(columns={'Date':'ds', 'Deaths': 'y'})\n",
        "model = Prophet()\n",
        "model.fit(pred_df_death)"
      ],
      "metadata": {
        "id": "X0OK5Wr4d2X5",
        "colab": {
          "base_uri": "https://localhost:8080/"
        },
        "outputId": "b62f1248-1f63-4c81-f7ab-0d2a2f9c1306"
      },
      "execution_count": 50,
      "outputs": [
        {
          "output_type": "stream",
          "name": "stderr",
          "text": [
            "INFO:fbprophet:Disabling yearly seasonality. Run prophet with yearly_seasonality=True to override this.\n",
            "INFO:fbprophet:Disabling daily seasonality. Run prophet with daily_seasonality=True to override this.\n"
          ]
        },
        {
          "output_type": "execute_result",
          "data": {
            "text/plain": [
              "<fbprophet.forecaster.Prophet at 0x7ff4242f60d0>"
            ]
          },
          "metadata": {},
          "execution_count": 50
        }
      ]
    },
    {
      "cell_type": "code",
      "source": [
        "future_death = model.make_future_dataframe(periods=94)\n",
        "future_death.tail()"
      ],
      "metadata": {
        "colab": {
          "base_uri": "https://localhost:8080/",
          "height": 206
        },
        "id": "QzvSpbALemtl",
        "outputId": "5dca3e8e-eb2f-4b8c-aa33-26d24a1814ec"
      },
      "execution_count": 51,
      "outputs": [
        {
          "output_type": "execute_result",
          "data": {
            "text/plain": [
              "            ds\n",
              "583 2021-08-27\n",
              "584 2021-08-28\n",
              "585 2021-08-29\n",
              "586 2021-08-30\n",
              "587 2021-08-31"
            ],
            "text/html": [
              "\n",
              "  <div id=\"df-14560200-48bf-4416-a9f1-659e0254aede\">\n",
              "    <div class=\"colab-df-container\">\n",
              "      <div>\n",
              "<style scoped>\n",
              "    .dataframe tbody tr th:only-of-type {\n",
              "        vertical-align: middle;\n",
              "    }\n",
              "\n",
              "    .dataframe tbody tr th {\n",
              "        vertical-align: top;\n",
              "    }\n",
              "\n",
              "    .dataframe thead th {\n",
              "        text-align: right;\n",
              "    }\n",
              "</style>\n",
              "<table border=\"1\" class=\"dataframe\">\n",
              "  <thead>\n",
              "    <tr style=\"text-align: right;\">\n",
              "      <th></th>\n",
              "      <th>ds</th>\n",
              "    </tr>\n",
              "  </thead>\n",
              "  <tbody>\n",
              "    <tr>\n",
              "      <th>583</th>\n",
              "      <td>2021-08-27</td>\n",
              "    </tr>\n",
              "    <tr>\n",
              "      <th>584</th>\n",
              "      <td>2021-08-28</td>\n",
              "    </tr>\n",
              "    <tr>\n",
              "      <th>585</th>\n",
              "      <td>2021-08-29</td>\n",
              "    </tr>\n",
              "    <tr>\n",
              "      <th>586</th>\n",
              "      <td>2021-08-30</td>\n",
              "    </tr>\n",
              "    <tr>\n",
              "      <th>587</th>\n",
              "      <td>2021-08-31</td>\n",
              "    </tr>\n",
              "  </tbody>\n",
              "</table>\n",
              "</div>\n",
              "      <button class=\"colab-df-convert\" onclick=\"convertToInteractive('df-14560200-48bf-4416-a9f1-659e0254aede')\"\n",
              "              title=\"Convert this dataframe to an interactive table.\"\n",
              "              style=\"display:none;\">\n",
              "        \n",
              "  <svg xmlns=\"http://www.w3.org/2000/svg\" height=\"24px\"viewBox=\"0 0 24 24\"\n",
              "       width=\"24px\">\n",
              "    <path d=\"M0 0h24v24H0V0z\" fill=\"none\"/>\n",
              "    <path d=\"M18.56 5.44l.94 2.06.94-2.06 2.06-.94-2.06-.94-.94-2.06-.94 2.06-2.06.94zm-11 1L8.5 8.5l.94-2.06 2.06-.94-2.06-.94L8.5 2.5l-.94 2.06-2.06.94zm10 10l.94 2.06.94-2.06 2.06-.94-2.06-.94-.94-2.06-.94 2.06-2.06.94z\"/><path d=\"M17.41 7.96l-1.37-1.37c-.4-.4-.92-.59-1.43-.59-.52 0-1.04.2-1.43.59L10.3 9.45l-7.72 7.72c-.78.78-.78 2.05 0 2.83L4 21.41c.39.39.9.59 1.41.59.51 0 1.02-.2 1.41-.59l7.78-7.78 2.81-2.81c.8-.78.8-2.07 0-2.86zM5.41 20L4 18.59l7.72-7.72 1.47 1.35L5.41 20z\"/>\n",
              "  </svg>\n",
              "      </button>\n",
              "      \n",
              "  <style>\n",
              "    .colab-df-container {\n",
              "      display:flex;\n",
              "      flex-wrap:wrap;\n",
              "      gap: 12px;\n",
              "    }\n",
              "\n",
              "    .colab-df-convert {\n",
              "      background-color: #E8F0FE;\n",
              "      border: none;\n",
              "      border-radius: 50%;\n",
              "      cursor: pointer;\n",
              "      display: none;\n",
              "      fill: #1967D2;\n",
              "      height: 32px;\n",
              "      padding: 0 0 0 0;\n",
              "      width: 32px;\n",
              "    }\n",
              "\n",
              "    .colab-df-convert:hover {\n",
              "      background-color: #E2EBFA;\n",
              "      box-shadow: 0px 1px 2px rgba(60, 64, 67, 0.3), 0px 1px 3px 1px rgba(60, 64, 67, 0.15);\n",
              "      fill: #174EA6;\n",
              "    }\n",
              "\n",
              "    [theme=dark] .colab-df-convert {\n",
              "      background-color: #3B4455;\n",
              "      fill: #D2E3FC;\n",
              "    }\n",
              "\n",
              "    [theme=dark] .colab-df-convert:hover {\n",
              "      background-color: #434B5C;\n",
              "      box-shadow: 0px 1px 3px 1px rgba(0, 0, 0, 0.15);\n",
              "      filter: drop-shadow(0px 1px 2px rgba(0, 0, 0, 0.3));\n",
              "      fill: #FFFFFF;\n",
              "    }\n",
              "  </style>\n",
              "\n",
              "      <script>\n",
              "        const buttonEl =\n",
              "          document.querySelector('#df-14560200-48bf-4416-a9f1-659e0254aede button.colab-df-convert');\n",
              "        buttonEl.style.display =\n",
              "          google.colab.kernel.accessAllowed ? 'block' : 'none';\n",
              "\n",
              "        async function convertToInteractive(key) {\n",
              "          const element = document.querySelector('#df-14560200-48bf-4416-a9f1-659e0254aede');\n",
              "          const dataTable =\n",
              "            await google.colab.kernel.invokeFunction('convertToInteractive',\n",
              "                                                     [key], {});\n",
              "          if (!dataTable) return;\n",
              "\n",
              "          const docLinkHtml = 'Like what you see? Visit the ' +\n",
              "            '<a target=\"_blank\" href=https://colab.research.google.com/notebooks/data_table.ipynb>data table notebook</a>'\n",
              "            + ' to learn more about interactive tables.';\n",
              "          element.innerHTML = '';\n",
              "          dataTable['output_type'] = 'display_data';\n",
              "          await google.colab.output.renderOutput(dataTable, element);\n",
              "          const docLink = document.createElement('div');\n",
              "          docLink.innerHTML = docLinkHtml;\n",
              "          element.appendChild(docLink);\n",
              "        }\n",
              "      </script>\n",
              "    </div>\n",
              "  </div>\n",
              "  "
            ]
          },
          "metadata": {},
          "execution_count": 51
        }
      ]
    },
    {
      "cell_type": "code",
      "source": [
        "forecast_death = model.predict(future_death)\n",
        "forecast_death[['ds', 'yhat', 'yhat_lower', 'yhat_upper']].tail()"
      ],
      "metadata": {
        "colab": {
          "base_uri": "https://localhost:8080/",
          "height": 206
        },
        "id": "iY282GcMerRk",
        "outputId": "3160a94a-6868-4024-ef24-4eb89293bd6e"
      },
      "execution_count": 52,
      "outputs": [
        {
          "output_type": "execute_result",
          "data": {
            "text/plain": [
              "            ds         yhat   yhat_lower   yhat_upper\n",
              "583 2021-08-27  2302.627564  1914.471320  2705.260810\n",
              "584 2021-08-28  2305.945939  1904.692376  2718.018593\n",
              "585 2021-08-29  2309.182673  1909.507296  2727.443464\n",
              "586 2021-08-30  2313.604073  1903.382010  2732.674913\n",
              "587 2021-08-31  2317.406443  1901.895730  2750.200122"
            ],
            "text/html": [
              "\n",
              "  <div id=\"df-383575d6-c36f-4096-82ab-f8ea3ec52cfb\">\n",
              "    <div class=\"colab-df-container\">\n",
              "      <div>\n",
              "<style scoped>\n",
              "    .dataframe tbody tr th:only-of-type {\n",
              "        vertical-align: middle;\n",
              "    }\n",
              "\n",
              "    .dataframe tbody tr th {\n",
              "        vertical-align: top;\n",
              "    }\n",
              "\n",
              "    .dataframe thead th {\n",
              "        text-align: right;\n",
              "    }\n",
              "</style>\n",
              "<table border=\"1\" class=\"dataframe\">\n",
              "  <thead>\n",
              "    <tr style=\"text-align: right;\">\n",
              "      <th></th>\n",
              "      <th>ds</th>\n",
              "      <th>yhat</th>\n",
              "      <th>yhat_lower</th>\n",
              "      <th>yhat_upper</th>\n",
              "    </tr>\n",
              "  </thead>\n",
              "  <tbody>\n",
              "    <tr>\n",
              "      <th>583</th>\n",
              "      <td>2021-08-27</td>\n",
              "      <td>2302.627564</td>\n",
              "      <td>1914.471320</td>\n",
              "      <td>2705.260810</td>\n",
              "    </tr>\n",
              "    <tr>\n",
              "      <th>584</th>\n",
              "      <td>2021-08-28</td>\n",
              "      <td>2305.945939</td>\n",
              "      <td>1904.692376</td>\n",
              "      <td>2718.018593</td>\n",
              "    </tr>\n",
              "    <tr>\n",
              "      <th>585</th>\n",
              "      <td>2021-08-29</td>\n",
              "      <td>2309.182673</td>\n",
              "      <td>1909.507296</td>\n",
              "      <td>2727.443464</td>\n",
              "    </tr>\n",
              "    <tr>\n",
              "      <th>586</th>\n",
              "      <td>2021-08-30</td>\n",
              "      <td>2313.604073</td>\n",
              "      <td>1903.382010</td>\n",
              "      <td>2732.674913</td>\n",
              "    </tr>\n",
              "    <tr>\n",
              "      <th>587</th>\n",
              "      <td>2021-08-31</td>\n",
              "      <td>2317.406443</td>\n",
              "      <td>1901.895730</td>\n",
              "      <td>2750.200122</td>\n",
              "    </tr>\n",
              "  </tbody>\n",
              "</table>\n",
              "</div>\n",
              "      <button class=\"colab-df-convert\" onclick=\"convertToInteractive('df-383575d6-c36f-4096-82ab-f8ea3ec52cfb')\"\n",
              "              title=\"Convert this dataframe to an interactive table.\"\n",
              "              style=\"display:none;\">\n",
              "        \n",
              "  <svg xmlns=\"http://www.w3.org/2000/svg\" height=\"24px\"viewBox=\"0 0 24 24\"\n",
              "       width=\"24px\">\n",
              "    <path d=\"M0 0h24v24H0V0z\" fill=\"none\"/>\n",
              "    <path d=\"M18.56 5.44l.94 2.06.94-2.06 2.06-.94-2.06-.94-.94-2.06-.94 2.06-2.06.94zm-11 1L8.5 8.5l.94-2.06 2.06-.94-2.06-.94L8.5 2.5l-.94 2.06-2.06.94zm10 10l.94 2.06.94-2.06 2.06-.94-2.06-.94-.94-2.06-.94 2.06-2.06.94z\"/><path d=\"M17.41 7.96l-1.37-1.37c-.4-.4-.92-.59-1.43-.59-.52 0-1.04.2-1.43.59L10.3 9.45l-7.72 7.72c-.78.78-.78 2.05 0 2.83L4 21.41c.39.39.9.59 1.41.59.51 0 1.02-.2 1.41-.59l7.78-7.78 2.81-2.81c.8-.78.8-2.07 0-2.86zM5.41 20L4 18.59l7.72-7.72 1.47 1.35L5.41 20z\"/>\n",
              "  </svg>\n",
              "      </button>\n",
              "      \n",
              "  <style>\n",
              "    .colab-df-container {\n",
              "      display:flex;\n",
              "      flex-wrap:wrap;\n",
              "      gap: 12px;\n",
              "    }\n",
              "\n",
              "    .colab-df-convert {\n",
              "      background-color: #E8F0FE;\n",
              "      border: none;\n",
              "      border-radius: 50%;\n",
              "      cursor: pointer;\n",
              "      display: none;\n",
              "      fill: #1967D2;\n",
              "      height: 32px;\n",
              "      padding: 0 0 0 0;\n",
              "      width: 32px;\n",
              "    }\n",
              "\n",
              "    .colab-df-convert:hover {\n",
              "      background-color: #E2EBFA;\n",
              "      box-shadow: 0px 1px 2px rgba(60, 64, 67, 0.3), 0px 1px 3px 1px rgba(60, 64, 67, 0.15);\n",
              "      fill: #174EA6;\n",
              "    }\n",
              "\n",
              "    [theme=dark] .colab-df-convert {\n",
              "      background-color: #3B4455;\n",
              "      fill: #D2E3FC;\n",
              "    }\n",
              "\n",
              "    [theme=dark] .colab-df-convert:hover {\n",
              "      background-color: #434B5C;\n",
              "      box-shadow: 0px 1px 3px 1px rgba(0, 0, 0, 0.15);\n",
              "      filter: drop-shadow(0px 1px 2px rgba(0, 0, 0, 0.3));\n",
              "      fill: #FFFFFF;\n",
              "    }\n",
              "  </style>\n",
              "\n",
              "      <script>\n",
              "        const buttonEl =\n",
              "          document.querySelector('#df-383575d6-c36f-4096-82ab-f8ea3ec52cfb button.colab-df-convert');\n",
              "        buttonEl.style.display =\n",
              "          google.colab.kernel.accessAllowed ? 'block' : 'none';\n",
              "\n",
              "        async function convertToInteractive(key) {\n",
              "          const element = document.querySelector('#df-383575d6-c36f-4096-82ab-f8ea3ec52cfb');\n",
              "          const dataTable =\n",
              "            await google.colab.kernel.invokeFunction('convertToInteractive',\n",
              "                                                     [key], {});\n",
              "          if (!dataTable) return;\n",
              "\n",
              "          const docLinkHtml = 'Like what you see? Visit the ' +\n",
              "            '<a target=\"_blank\" href=https://colab.research.google.com/notebooks/data_table.ipynb>data table notebook</a>'\n",
              "            + ' to learn more about interactive tables.';\n",
              "          element.innerHTML = '';\n",
              "          dataTable['output_type'] = 'display_data';\n",
              "          await google.colab.output.renderOutput(dataTable, element);\n",
              "          const docLink = document.createElement('div');\n",
              "          docLink.innerHTML = docLinkHtml;\n",
              "          element.appendChild(docLink);\n",
              "        }\n",
              "      </script>\n",
              "    </div>\n",
              "  </div>\n",
              "  "
            ]
          },
          "metadata": {},
          "execution_count": 52
        }
      ]
    },
    {
      "cell_type": "code",
      "source": [
        "sns.set_theme(style = 'ticks')\n",
        "sns.set_context('notebook')\n",
        "\n",
        "\n",
        "fig = plt.figure(figsize=(10,5))\n",
        "ax = fig.add_subplot(111)\n",
        "model.plot(forecast_death, xlabel='Date', ylabel='Total Deaths', ax=ax)\n",
        "\n",
        "plt.axvline(dt.datetime(2021,2,26), color='red')\n",
        "ax.annotate('First Vaccine in\\n South Korea', xy=(dt.datetime(2021,2,26),2000),  xycoords='data',\n",
        "             xytext=(-30, 0), textcoords='offset points',\n",
        "             size=11, ha='right', va='center',\n",
        "             bbox=dict(boxstyle='round', alpha=0.1),\n",
        "             arrowprops=dict(arrowstyle='wedge,tail_width=0.5', alpha=0.1))\n",
        "\n",
        "ax.set_title('Predictions for Number of Deaths in Aug 31st')\n",
        "fig.show()"
      ],
      "metadata": {
        "colab": {
          "base_uri": "https://localhost:8080/",
          "height": 381
        },
        "id": "6toclfZsewcs",
        "outputId": "47e8c1c6-a9e5-4c55-f095-3399480242e4"
      },
      "execution_count": 53,
      "outputs": [
        {
          "output_type": "display_data",
          "data": {
            "text/plain": [
              "<Figure size 720x360 with 1 Axes>"
            ],
            "image/png": "[encoded data removed]"
          },
          "metadata": {}
        }
      ]
    },
    {
      "cell_type": "markdown",
      "source": [
        "**Prediction for Percent_Deaths**"
      ],
      "metadata": {
        "id": "-eXVt6aE972M"
      }
    },
    {
      "cell_type": "code",
      "source": [
        "df['Percent_Deaths'] = df['Percent_Deaths'].replace([np.inf, -np.inf], np.nan).dropna(axis=0)\n",
        "df['Percent_Deaths'].dropna(inplace=True)"
      ],
      "metadata": {
        "id": "3lGbaFQ3-hfd"
      },
      "execution_count": 54,
      "outputs": []
    },
    {
      "cell_type": "code",
      "source": [
        "pred_df_per_death = df[['Date','Percent_Deaths']]\n",
        "pred_df_per_death = pred_df_per_death.rename(columns={'Date':'ds', 'Percent_Deaths': 'y'})"
      ],
      "metadata": {
        "id": "cHsvaUEP9_ac"
      },
      "execution_count": 55,
      "outputs": []
    },
    {
      "cell_type": "code",
      "source": [
        "model = Prophet()\n",
        "model.fit(pred_df_per_death)"
      ],
      "metadata": {
        "colab": {
          "base_uri": "https://localhost:8080/"
        },
        "id": "kHy5SmES-f1E",
        "outputId": "5a4e3ab1-e15b-4769-b77a-7956e00542c7"
      },
      "execution_count": 56,
      "outputs": [
        {
          "output_type": "stream",
          "name": "stderr",
          "text": [
            "INFO:fbprophet:Disabling yearly seasonality. Run prophet with yearly_seasonality=True to override this.\n",
            "INFO:fbprophet:Disabling daily seasonality. Run prophet with daily_seasonality=True to override this.\n"
          ]
        },
        {
          "output_type": "execute_result",
          "data": {
            "text/plain": [
              "<fbprophet.forecaster.Prophet at 0x7ff424288f10>"
            ]
          },
          "metadata": {},
          "execution_count": 56
        }
      ]
    },
    {
      "cell_type": "code",
      "source": [
        "future_per_death = model.make_future_dataframe(periods=94)\n",
        "future_per_death.tail()"
      ],
      "metadata": {
        "colab": {
          "base_uri": "https://localhost:8080/",
          "height": 206
        },
        "id": "FzDDpXag-Gi0",
        "outputId": "980b5f50-2ca0-418d-b9f5-34f2023dffc1"
      },
      "execution_count": 57,
      "outputs": [
        {
          "output_type": "execute_result",
          "data": {
            "text/plain": [
              "            ds\n",
              "583 2021-08-27\n",
              "584 2021-08-28\n",
              "585 2021-08-29\n",
              "586 2021-08-30\n",
              "587 2021-08-31"
            ],
            "text/html": [
              "\n",
              "  <div id=\"df-bde72226-3e02-4484-af1b-1447e995521f\">\n",
              "    <div class=\"colab-df-container\">\n",
              "      <div>\n",
              "<style scoped>\n",
              "    .dataframe tbody tr th:only-of-type {\n",
              "        vertical-align: middle;\n",
              "    }\n",
              "\n",
              "    .dataframe tbody tr th {\n",
              "        vertical-align: top;\n",
              "    }\n",
              "\n",
              "    .dataframe thead th {\n",
              "        text-align: right;\n",
              "    }\n",
              "</style>\n",
              "<table border=\"1\" class=\"dataframe\">\n",
              "  <thead>\n",
              "    <tr style=\"text-align: right;\">\n",
              "      <th></th>\n",
              "      <th>ds</th>\n",
              "    </tr>\n",
              "  </thead>\n",
              "  <tbody>\n",
              "    <tr>\n",
              "      <th>583</th>\n",
              "      <td>2021-08-27</td>\n",
              "    </tr>\n",
              "    <tr>\n",
              "      <th>584</th>\n",
              "      <td>2021-08-28</td>\n",
              "    </tr>\n",
              "    <tr>\n",
              "      <th>585</th>\n",
              "      <td>2021-08-29</td>\n",
              "    </tr>\n",
              "    <tr>\n",
              "      <th>586</th>\n",
              "      <td>2021-08-30</td>\n",
              "    </tr>\n",
              "    <tr>\n",
              "      <th>587</th>\n",
              "      <td>2021-08-31</td>\n",
              "    </tr>\n",
              "  </tbody>\n",
              "</table>\n",
              "</div>\n",
              "      <button class=\"colab-df-convert\" onclick=\"convertToInteractive('df-bde72226-3e02-4484-af1b-1447e995521f')\"\n",
              "              title=\"Convert this dataframe to an interactive table.\"\n",
              "              style=\"display:none;\">\n",
              "        \n",
              "  <svg xmlns=\"http://www.w3.org/2000/svg\" height=\"24px\"viewBox=\"0 0 24 24\"\n",
              "       width=\"24px\">\n",
              "    <path d=\"M0 0h24v24H0V0z\" fill=\"none\"/>\n",
              "    <path d=\"M18.56 5.44l.94 2.06.94-2.06 2.06-.94-2.06-.94-.94-2.06-.94 2.06-2.06.94zm-11 1L8.5 8.5l.94-2.06 2.06-.94-2.06-.94L8.5 2.5l-.94 2.06-2.06.94zm10 10l.94 2.06.94-2.06 2.06-.94-2.06-.94-.94-2.06-.94 2.06-2.06.94z\"/><path d=\"M17.41 7.96l-1.37-1.37c-.4-.4-.92-.59-1.43-.59-.52 0-1.04.2-1.43.59L10.3 9.45l-7.72 7.72c-.78.78-.78 2.05 0 2.83L4 21.41c.39.39.9.59 1.41.59.51 0 1.02-.2 1.41-.59l7.78-7.78 2.81-2.81c.8-.78.8-2.07 0-2.86zM5.41 20L4 18.59l7.72-7.72 1.47 1.35L5.41 20z\"/>\n",
              "  </svg>\n",
              "      </button>\n",
              "      \n",
              "  <style>\n",
              "    .colab-df-container {\n",
              "      display:flex;\n",
              "      flex-wrap:wrap;\n",
              "      gap: 12px;\n",
              "    }\n",
              "\n",
              "    .colab-df-convert {\n",
              "      background-color: #E8F0FE;\n",
              "      border: none;\n",
              "      border-radius: 50%;\n",
              "      cursor: pointer;\n",
              "      display: none;\n",
              "      fill: #1967D2;\n",
              "      height: 32px;\n",
              "      padding: 0 0 0 0;\n",
              "      width: 32px;\n",
              "    }\n",
              "\n",
              "    .colab-df-convert:hover {\n",
              "      background-color: #E2EBFA;\n",
              "      box-shadow: 0px 1px 2px rgba(60, 64, 67, 0.3), 0px 1px 3px 1px rgba(60, 64, 67, 0.15);\n",
              "      fill: #174EA6;\n",
              "    }\n",
              "\n",
              "    [theme=dark] .colab-df-convert {\n",
              "      background-color: #3B4455;\n",
              "      fill: #D2E3FC;\n",
              "    }\n",
              "\n",
              "    [theme=dark] .colab-df-convert:hover {\n",
              "      background-color: #434B5C;\n",
              "      box-shadow: 0px 1px 3px 1px rgba(0, 0, 0, 0.15);\n",
              "      filter: drop-shadow(0px 1px 2px rgba(0, 0, 0, 0.3));\n",
              "      fill: #FFFFFF;\n",
              "    }\n",
              "  </style>\n",
              "\n",
              "      <script>\n",
              "        const buttonEl =\n",
              "          document.querySelector('#df-bde72226-3e02-4484-af1b-1447e995521f button.colab-df-convert');\n",
              "        buttonEl.style.display =\n",
              "          google.colab.kernel.accessAllowed ? 'block' : 'none';\n",
              "\n",
              "        async function convertToInteractive(key) {\n",
              "          const element = document.querySelector('#df-bde72226-3e02-4484-af1b-1447e995521f');\n",
              "          const dataTable =\n",
              "            await google.colab.kernel.invokeFunction('convertToInteractive',\n",
              "                                                     [key], {});\n",
              "          if (!dataTable) return;\n",
              "\n",
              "          const docLinkHtml = 'Like what you see? Visit the ' +\n",
              "            '<a target=\"_blank\" href=https://colab.research.google.com/notebooks/data_table.ipynb>data table notebook</a>'\n",
              "            + ' to learn more about interactive tables.';\n",
              "          element.innerHTML = '';\n",
              "          dataTable['output_type'] = 'display_data';\n",
              "          await google.colab.output.renderOutput(dataTable, element);\n",
              "          const docLink = document.createElement('div');\n",
              "          docLink.innerHTML = docLinkHtml;\n",
              "          element.appendChild(docLink);\n",
              "        }\n",
              "      </script>\n",
              "    </div>\n",
              "  </div>\n",
              "  "
            ]
          },
          "metadata": {},
          "execution_count": 57
        }
      ]
    },
    {
      "cell_type": "code",
      "source": [
        "forecast_per_death = model.predict(future_per_death)\n",
        "forecast_per_death[['ds', 'yhat', 'yhat_lower', 'yhat_upper']].tail()"
      ],
      "metadata": {
        "colab": {
          "base_uri": "https://localhost:8080/",
          "height": 206
        },
        "id": "XoOSHtzK-H-y",
        "outputId": "f8ef6ed9-83f3-4e7b-b52d-15bd0ab4ca1e"
      },
      "execution_count": 58,
      "outputs": [
        {
          "output_type": "execute_result",
          "data": {
            "text/plain": [
              "            ds      yhat  yhat_lower  yhat_upper\n",
              "583 2021-08-27  0.012069   -0.119784    0.135549\n",
              "584 2021-08-28 -0.000725   -0.127754    0.116936\n",
              "585 2021-08-29  0.027898   -0.100118    0.163508\n",
              "586 2021-08-30  0.011902   -0.116236    0.145452\n",
              "587 2021-08-31  0.001177   -0.134398    0.131947"
            ],
            "text/html": [
              "\n",
              "  <div id=\"df-f90858ac-86ff-4568-86aa-c198c47db7e5\">\n",
              "    <div class=\"colab-df-container\">\n",
              "      <div>\n",
              "<style scoped>\n",
              "    .dataframe tbody tr th:only-of-type {\n",
              "        vertical-align: middle;\n",
              "    }\n",
              "\n",
              "    .dataframe tbody tr th {\n",
              "        vertical-align: top;\n",
              "    }\n",
              "\n",
              "    .dataframe thead th {\n",
              "        text-align: right;\n",
              "    }\n",
              "</style>\n",
              "<table border=\"1\" class=\"dataframe\">\n",
              "  <thead>\n",
              "    <tr style=\"text-align: right;\">\n",
              "      <th></th>\n",
              "      <th>ds</th>\n",
              "      <th>yhat</th>\n",
              "      <th>yhat_lower</th>\n",
              "      <th>yhat_upper</th>\n",
              "    </tr>\n",
              "  </thead>\n",
              "  <tbody>\n",
              "    <tr>\n",
              "      <th>583</th>\n",
              "      <td>2021-08-27</td>\n",
              "      <td>0.012069</td>\n",
              "      <td>-0.119784</td>\n",
              "      <td>0.135549</td>\n",
              "    </tr>\n",
              "    <tr>\n",
              "      <th>584</th>\n",
              "      <td>2021-08-28</td>\n",
              "      <td>-0.000725</td>\n",
              "      <td>-0.127754</td>\n",
              "      <td>0.116936</td>\n",
              "    </tr>\n",
              "    <tr>\n",
              "      <th>585</th>\n",
              "      <td>2021-08-29</td>\n",
              "      <td>0.027898</td>\n",
              "      <td>-0.100118</td>\n",
              "      <td>0.163508</td>\n",
              "    </tr>\n",
              "    <tr>\n",
              "      <th>586</th>\n",
              "      <td>2021-08-30</td>\n",
              "      <td>0.011902</td>\n",
              "      <td>-0.116236</td>\n",
              "      <td>0.145452</td>\n",
              "    </tr>\n",
              "    <tr>\n",
              "      <th>587</th>\n",
              "      <td>2021-08-31</td>\n",
              "      <td>0.001177</td>\n",
              "      <td>-0.134398</td>\n",
              "      <td>0.131947</td>\n",
              "    </tr>\n",
              "  </tbody>\n",
              "</table>\n",
              "</div>\n",
              "      <button class=\"colab-df-convert\" onclick=\"convertToInteractive('df-f90858ac-86ff-4568-86aa-c198c47db7e5')\"\n",
              "              title=\"Convert this dataframe to an interactive table.\"\n",
              "              style=\"display:none;\">\n",
              "        \n",
              "  <svg xmlns=\"http://www.w3.org/2000/svg\" height=\"24px\"viewBox=\"0 0 24 24\"\n",
              "       width=\"24px\">\n",
              "    <path d=\"M0 0h24v24H0V0z\" fill=\"none\"/>\n",
              "    <path d=\"M18.56 5.44l.94 2.06.94-2.06 2.06-.94-2.06-.94-.94-2.06-.94 2.06-2.06.94zm-11 1L8.5 8.5l.94-2.06 2.06-.94-2.06-.94L8.5 2.5l-.94 2.06-2.06.94zm10 10l.94 2.06.94-2.06 2.06-.94-2.06-.94-.94-2.06-.94 2.06-2.06.94z\"/><path d=\"M17.41 7.96l-1.37-1.37c-.4-.4-.92-.59-1.43-.59-.52 0-1.04.2-1.43.59L10.3 9.45l-7.72 7.72c-.78.78-.78 2.05 0 2.83L4 21.41c.39.39.9.59 1.41.59.51 0 1.02-.2 1.41-.59l7.78-7.78 2.81-2.81c.8-.78.8-2.07 0-2.86zM5.41 20L4 18.59l7.72-7.72 1.47 1.35L5.41 20z\"/>\n",
              "  </svg>\n",
              "      </button>\n",
              "      \n",
              "  <style>\n",
              "    .colab-df-container {\n",
              "      display:flex;\n",
              "      flex-wrap:wrap;\n",
              "      gap: 12px;\n",
              "    }\n",
              "\n",
              "    .colab-df-convert {\n",
              "      background-color: #E8F0FE;\n",
              "      border: none;\n",
              "      border-radius: 50%;\n",
              "      cursor: pointer;\n",
              "      display: none;\n",
              "      fill: #1967D2;\n",
              "      height: 32px;\n",
              "      padding: 0 0 0 0;\n",
              "      width: 32px;\n",
              "    }\n",
              "\n",
              "    .colab-df-convert:hover {\n",
              "      background-color: #E2EBFA;\n",
              "      box-shadow: 0px 1px 2px rgba(60, 64, 67, 0.3), 0px 1px 3px 1px rgba(60, 64, 67, 0.15);\n",
              "      fill: #174EA6;\n",
              "    }\n",
              "\n",
              "    [theme=dark] .colab-df-convert {\n",
              "      background-color: #3B4455;\n",
              "      fill: #D2E3FC;\n",
              "    }\n",
              "\n",
              "    [theme=dark] .colab-df-convert:hover {\n",
              "      background-color: #434B5C;\n",
              "      box-shadow: 0px 1px 3px 1px rgba(0, 0, 0, 0.15);\n",
              "      filter: drop-shadow(0px 1px 2px rgba(0, 0, 0, 0.3));\n",
              "      fill: #FFFFFF;\n",
              "    }\n",
              "  </style>\n",
              "\n",
              "      <script>\n",
              "        const buttonEl =\n",
              "          document.querySelector('#df-f90858ac-86ff-4568-86aa-c198c47db7e5 button.colab-df-convert');\n",
              "        buttonEl.style.display =\n",
              "          google.colab.kernel.accessAllowed ? 'block' : 'none';\n",
              "\n",
              "        async function convertToInteractive(key) {\n",
              "          const element = document.querySelector('#df-f90858ac-86ff-4568-86aa-c198c47db7e5');\n",
              "          const dataTable =\n",
              "            await google.colab.kernel.invokeFunction('convertToInteractive',\n",
              "                                                     [key], {});\n",
              "          if (!dataTable) return;\n",
              "\n",
              "          const docLinkHtml = 'Like what you see? Visit the ' +\n",
              "            '<a target=\"_blank\" href=https://colab.research.google.com/notebooks/data_table.ipynb>data table notebook</a>'\n",
              "            + ' to learn more about interactive tables.';\n",
              "          element.innerHTML = '';\n",
              "          dataTable['output_type'] = 'display_data';\n",
              "          await google.colab.output.renderOutput(dataTable, element);\n",
              "          const docLink = document.createElement('div');\n",
              "          docLink.innerHTML = docLinkHtml;\n",
              "          element.appendChild(docLink);\n",
              "        }\n",
              "      </script>\n",
              "    </div>\n",
              "  </div>\n",
              "  "
            ]
          },
          "metadata": {},
          "execution_count": 58
        }
      ]
    },
    {
      "cell_type": "code",
      "source": [
        "sns.set_theme(style = 'ticks')\n",
        "sns.set_context('notebook')\n",
        "\n",
        "\n",
        "fig = plt.figure(figsize=(10,5))\n",
        "ax = fig.add_subplot(111)\n",
        "model.plot(forecast_per_death, xlabel='Date', ylabel='Total Confirmed', ax=ax)\n",
        "\n",
        "plt.axvline(dt.datetime(2021,2,26), color='red')\n",
        "ax.annotate('First Vaccine in\\n South Korea', xy=(dt.datetime(2021,2,26),0.5),  xycoords='data',\n",
        "             xytext=(-30, 0), textcoords='offset points',\n",
        "             size=11, ha='right', va='center',\n",
        "             bbox=dict(boxstyle='round', alpha=0.1),\n",
        "             arrowprops=dict(arrowstyle='wedge,tail_width=0.5', alpha=0.1))\n",
        "\n",
        "ax.set_title('Predictions for Percent of Deaths in Aug 31st')\n",
        "fig.show()"
      ],
      "metadata": {
        "colab": {
          "base_uri": "https://localhost:8080/",
          "height": 381
        },
        "id": "22_K3kYT9-hZ",
        "outputId": "a6346307-743a-4b98-b629-48f465360b4c"
      },
      "execution_count": 59,
      "outputs": [
        {
          "output_type": "display_data",
          "data": {
            "text/plain": [
              "<Figure size 720x360 with 1 Axes>"
            ],
            "image/png": "[encoded data removed]"
          },
          "metadata": {}
        }
      ]
    },
    {
      "cell_type": "markdown",
      "source": [
        "**Prediction for Recoveries**"
      ],
      "metadata": {
        "id": "t-Pirum7fTy0"
      }
    },
    {
      "cell_type": "code",
      "source": [
        "pred_df_rec = df[['Date','Recovered']]\n",
        "pred_df_rec = pred_df_rec.rename(columns={'Date':'ds', 'Recovered': 'y'})"
      ],
      "metadata": {
        "id": "kdAq7d36eQQ-"
      },
      "execution_count": 60,
      "outputs": []
    },
    {
      "cell_type": "code",
      "source": [
        "model = Prophet()\n",
        "model.fit(pred_df_rec)"
      ],
      "metadata": {
        "colab": {
          "base_uri": "https://localhost:8080/"
        },
        "id": "t0zte67eejJs",
        "outputId": "ffe73c74-11e2-457b-bdf5-27d057d5478c"
      },
      "execution_count": 61,
      "outputs": [
        {
          "output_type": "stream",
          "name": "stderr",
          "text": [
            "INFO:fbprophet:Disabling yearly seasonality. Run prophet with yearly_seasonality=True to override this.\n",
            "INFO:fbprophet:Disabling daily seasonality. Run prophet with daily_seasonality=True to override this.\n"
          ]
        },
        {
          "output_type": "execute_result",
          "data": {
            "text/plain": [
              "<fbprophet.forecaster.Prophet at 0x7ff424d3ec90>"
            ]
          },
          "metadata": {},
          "execution_count": 61
        }
      ]
    },
    {
      "cell_type": "code",
      "source": [
        "future_rec = model.make_future_dataframe(periods=94)\n",
        "future_rec.tail()"
      ],
      "metadata": {
        "colab": {
          "base_uri": "https://localhost:8080/",
          "height": 206
        },
        "id": "a-ndkLCafC_7",
        "outputId": "a96f2ec9-9da3-4b20-ce92-cd6e1856c602"
      },
      "execution_count": 62,
      "outputs": [
        {
          "output_type": "execute_result",
          "data": {
            "text/plain": [
              "            ds\n",
              "583 2021-08-27\n",
              "584 2021-08-28\n",
              "585 2021-08-29\n",
              "586 2021-08-30\n",
              "587 2021-08-31"
            ],
            "text/html": [
              "\n",
              "  <div id=\"df-68fdad0d-273d-4f62-9d9a-0e8b1cf7e732\">\n",
              "    <div class=\"colab-df-container\">\n",
              "      <div>\n",
              "<style scoped>\n",
              "    .dataframe tbody tr th:only-of-type {\n",
              "        vertical-align: middle;\n",
              "    }\n",
              "\n",
              "    .dataframe tbody tr th {\n",
              "        vertical-align: top;\n",
              "    }\n",
              "\n",
              "    .dataframe thead th {\n",
              "        text-align: right;\n",
              "    }\n",
              "</style>\n",
              "<table border=\"1\" class=\"dataframe\">\n",
              "  <thead>\n",
              "    <tr style=\"text-align: right;\">\n",
              "      <th></th>\n",
              "      <th>ds</th>\n",
              "    </tr>\n",
              "  </thead>\n",
              "  <tbody>\n",
              "    <tr>\n",
              "      <th>583</th>\n",
              "      <td>2021-08-27</td>\n",
              "    </tr>\n",
              "    <tr>\n",
              "      <th>584</th>\n",
              "      <td>2021-08-28</td>\n",
              "    </tr>\n",
              "    <tr>\n",
              "      <th>585</th>\n",
              "      <td>2021-08-29</td>\n",
              "    </tr>\n",
              "    <tr>\n",
              "      <th>586</th>\n",
              "      <td>2021-08-30</td>\n",
              "    </tr>\n",
              "    <tr>\n",
              "      <th>587</th>\n",
              "      <td>2021-08-31</td>\n",
              "    </tr>\n",
              "  </tbody>\n",
              "</table>\n",
              "</div>\n",
              "      <button class=\"colab-df-convert\" onclick=\"convertToInteractive('df-68fdad0d-273d-4f62-9d9a-0e8b1cf7e732')\"\n",
              "              title=\"Convert this dataframe to an interactive table.\"\n",
              "              style=\"display:none;\">\n",
              "        \n",
              "  <svg xmlns=\"http://www.w3.org/2000/svg\" height=\"24px\"viewBox=\"0 0 24 24\"\n",
              "       width=\"24px\">\n",
              "    <path d=\"M0 0h24v24H0V0z\" fill=\"none\"/>\n",
              "    <path d=\"M18.56 5.44l.94 2.06.94-2.06 2.06-.94-2.06-.94-.94-2.06-.94 2.06-2.06.94zm-11 1L8.5 8.5l.94-2.06 2.06-.94-2.06-.94L8.5 2.5l-.94 2.06-2.06.94zm10 10l.94 2.06.94-2.06 2.06-.94-2.06-.94-.94-2.06-.94 2.06-2.06.94z\"/><path d=\"M17.41 7.96l-1.37-1.37c-.4-.4-.92-.59-1.43-.59-.52 0-1.04.2-1.43.59L10.3 9.45l-7.72 7.72c-.78.78-.78 2.05 0 2.83L4 21.41c.39.39.9.59 1.41.59.51 0 1.02-.2 1.41-.59l7.78-7.78 2.81-2.81c.8-.78.8-2.07 0-2.86zM5.41 20L4 18.59l7.72-7.72 1.47 1.35L5.41 20z\"/>\n",
              "  </svg>\n",
              "      </button>\n",
              "      \n",
              "  <style>\n",
              "    .colab-df-container {\n",
              "      display:flex;\n",
              "      flex-wrap:wrap;\n",
              "      gap: 12px;\n",
              "    }\n",
              "\n",
              "    .colab-df-convert {\n",
              "      background-color: #E8F0FE;\n",
              "      border: none;\n",
              "      border-radius: 50%;\n",
              "      cursor: pointer;\n",
              "      display: none;\n",
              "      fill: #1967D2;\n",
              "      height: 32px;\n",
              "      padding: 0 0 0 0;\n",
              "      width: 32px;\n",
              "    }\n",
              "\n",
              "    .colab-df-convert:hover {\n",
              "      background-color: #E2EBFA;\n",
              "      box-shadow: 0px 1px 2px rgba(60, 64, 67, 0.3), 0px 1px 3px 1px rgba(60, 64, 67, 0.15);\n",
              "      fill: #174EA6;\n",
              "    }\n",
              "\n",
              "    [theme=dark] .colab-df-convert {\n",
              "      background-color: #3B4455;\n",
              "      fill: #D2E3FC;\n",
              "    }\n",
              "\n",
              "    [theme=dark] .colab-df-convert:hover {\n",
              "      background-color: #434B5C;\n",
              "      box-shadow: 0px 1px 3px 1px rgba(0, 0, 0, 0.15);\n",
              "      filter: drop-shadow(0px 1px 2px rgba(0, 0, 0, 0.3));\n",
              "      fill: #FFFFFF;\n",
              "    }\n",
              "  </style>\n",
              "\n",
              "      <script>\n",
              "        const buttonEl =\n",
              "          document.querySelector('#df-68fdad0d-273d-4f62-9d9a-0e8b1cf7e732 button.colab-df-convert');\n",
              "        buttonEl.style.display =\n",
              "          google.colab.kernel.accessAllowed ? 'block' : 'none';\n",
              "\n",
              "        async function convertToInteractive(key) {\n",
              "          const element = document.querySelector('#df-68fdad0d-273d-4f62-9d9a-0e8b1cf7e732');\n",
              "          const dataTable =\n",
              "            await google.colab.kernel.invokeFunction('convertToInteractive',\n",
              "                                                     [key], {});\n",
              "          if (!dataTable) return;\n",
              "\n",
              "          const docLinkHtml = 'Like what you see? Visit the ' +\n",
              "            '<a target=\"_blank\" href=https://colab.research.google.com/notebooks/data_table.ipynb>data table notebook</a>'\n",
              "            + ' to learn more about interactive tables.';\n",
              "          element.innerHTML = '';\n",
              "          dataTable['output_type'] = 'display_data';\n",
              "          await google.colab.output.renderOutput(dataTable, element);\n",
              "          const docLink = document.createElement('div');\n",
              "          docLink.innerHTML = docLinkHtml;\n",
              "          element.appendChild(docLink);\n",
              "        }\n",
              "      </script>\n",
              "    </div>\n",
              "  </div>\n",
              "  "
            ]
          },
          "metadata": {},
          "execution_count": 62
        }
      ]
    },
    {
      "cell_type": "code",
      "source": [
        "forecast_rec = model.predict(future_rec)\n",
        "forecast_rec[['ds', 'yhat', 'yhat_lower', 'yhat_upper']].tail()"
      ],
      "metadata": {
        "colab": {
          "base_uri": "https://localhost:8080/",
          "height": 206
        },
        "id": "gePH884LfG8j",
        "outputId": "c9f3f631-060a-4ba9-f154-1ba7f93e6fb7"
      },
      "execution_count": 63,
      "outputs": [
        {
          "output_type": "execute_result",
          "data": {
            "text/plain": [
              "            ds           yhat     yhat_lower     yhat_upper\n",
              "583 2021-08-27  176038.767871  157702.115860  193886.091755\n",
              "584 2021-08-28  176546.765297  158355.640806  194789.290634\n",
              "585 2021-08-29  177002.029247  158395.666851  195602.242024\n",
              "586 2021-08-30  177588.077645  158952.225267  196716.903944\n",
              "587 2021-08-31  178149.191217  158899.777536  197574.994552"
            ],
            "text/html": [
              "\n",
              "  <div id=\"df-8e38fe12-c627-482f-a3a7-36722b712222\">\n",
              "    <div class=\"colab-df-container\">\n",
              "      <div>\n",
              "<style scoped>\n",
              "    .dataframe tbody tr th:only-of-type {\n",
              "        vertical-align: middle;\n",
              "    }\n",
              "\n",
              "    .dataframe tbody tr th {\n",
              "        vertical-align: top;\n",
              "    }\n",
              "\n",
              "    .dataframe thead th {\n",
              "        text-align: right;\n",
              "    }\n",
              "</style>\n",
              "<table border=\"1\" class=\"dataframe\">\n",
              "  <thead>\n",
              "    <tr style=\"text-align: right;\">\n",
              "      <th></th>\n",
              "      <th>ds</th>\n",
              "      <th>yhat</th>\n",
              "      <th>yhat_lower</th>\n",
              "      <th>yhat_upper</th>\n",
              "    </tr>\n",
              "  </thead>\n",
              "  <tbody>\n",
              "    <tr>\n",
              "      <th>583</th>\n",
              "      <td>2021-08-27</td>\n",
              "      <td>176038.767871</td>\n",
              "      <td>157702.115860</td>\n",
              "      <td>193886.091755</td>\n",
              "    </tr>\n",
              "    <tr>\n",
              "      <th>584</th>\n",
              "      <td>2021-08-28</td>\n",
              "      <td>176546.765297</td>\n",
              "      <td>158355.640806</td>\n",
              "      <td>194789.290634</td>\n",
              "    </tr>\n",
              "    <tr>\n",
              "      <th>585</th>\n",
              "      <td>2021-08-29</td>\n",
              "      <td>177002.029247</td>\n",
              "      <td>158395.666851</td>\n",
              "      <td>195602.242024</td>\n",
              "    </tr>\n",
              "    <tr>\n",
              "      <th>586</th>\n",
              "      <td>2021-08-30</td>\n",
              "      <td>177588.077645</td>\n",
              "      <td>158952.225267</td>\n",
              "      <td>196716.903944</td>\n",
              "    </tr>\n",
              "    <tr>\n",
              "      <th>587</th>\n",
              "      <td>2021-08-31</td>\n",
              "      <td>178149.191217</td>\n",
              "      <td>158899.777536</td>\n",
              "      <td>197574.994552</td>\n",
              "    </tr>\n",
              "  </tbody>\n",
              "</table>\n",
              "</div>\n",
              "      <button class=\"colab-df-convert\" onclick=\"convertToInteractive('df-8e38fe12-c627-482f-a3a7-36722b712222')\"\n",
              "              title=\"Convert this dataframe to an interactive table.\"\n",
              "              style=\"display:none;\">\n",
              "        \n",
              "  <svg xmlns=\"http://www.w3.org/2000/svg\" height=\"24px\"viewBox=\"0 0 24 24\"\n",
              "       width=\"24px\">\n",
              "    <path d=\"M0 0h24v24H0V0z\" fill=\"none\"/>\n",
              "    <path d=\"M18.56 5.44l.94 2.06.94-2.06 2.06-.94-2.06-.94-.94-2.06-.94 2.06-2.06.94zm-11 1L8.5 8.5l.94-2.06 2.06-.94-2.06-.94L8.5 2.5l-.94 2.06-2.06.94zm10 10l.94 2.06.94-2.06 2.06-.94-2.06-.94-.94-2.06-.94 2.06-2.06.94z\"/><path d=\"M17.41 7.96l-1.37-1.37c-.4-.4-.92-.59-1.43-.59-.52 0-1.04.2-1.43.59L10.3 9.45l-7.72 7.72c-.78.78-.78 2.05 0 2.83L4 21.41c.39.39.9.59 1.41.59.51 0 1.02-.2 1.41-.59l7.78-7.78 2.81-2.81c.8-.78.8-2.07 0-2.86zM5.41 20L4 18.59l7.72-7.72 1.47 1.35L5.41 20z\"/>\n",
              "  </svg>\n",
              "      </button>\n",
              "      \n",
              "  <style>\n",
              "    .colab-df-container {\n",
              "      display:flex;\n",
              "      flex-wrap:wrap;\n",
              "      gap: 12px;\n",
              "    }\n",
              "\n",
              "    .colab-df-convert {\n",
              "      background-color: #E8F0FE;\n",
              "      border: none;\n",
              "      border-radius: 50%;\n",
              "      cursor: pointer;\n",
              "      display: none;\n",
              "      fill: #1967D2;\n",
              "      height: 32px;\n",
              "      padding: 0 0 0 0;\n",
              "      width: 32px;\n",
              "    }\n",
              "\n",
              "    .colab-df-convert:hover {\n",
              "      background-color: #E2EBFA;\n",
              "      box-shadow: 0px 1px 2px rgba(60, 64, 67, 0.3), 0px 1px 3px 1px rgba(60, 64, 67, 0.15);\n",
              "      fill: #174EA6;\n",
              "    }\n",
              "\n",
              "    [theme=dark] .colab-df-convert {\n",
              "      background-color: #3B4455;\n",
              "      fill: #D2E3FC;\n",
              "    }\n",
              "\n",
              "    [theme=dark] .colab-df-convert:hover {\n",
              "      background-color: #434B5C;\n",
              "      box-shadow: 0px 1px 3px 1px rgba(0, 0, 0, 0.15);\n",
              "      filter: drop-shadow(0px 1px 2px rgba(0, 0, 0, 0.3));\n",
              "      fill: #FFFFFF;\n",
              "    }\n",
              "  </style>\n",
              "\n",
              "      <script>\n",
              "        const buttonEl =\n",
              "          document.querySelector('#df-8e38fe12-c627-482f-a3a7-36722b712222 button.colab-df-convert');\n",
              "        buttonEl.style.display =\n",
              "          google.colab.kernel.accessAllowed ? 'block' : 'none';\n",
              "\n",
              "        async function convertToInteractive(key) {\n",
              "          const element = document.querySelector('#df-8e38fe12-c627-482f-a3a7-36722b712222');\n",
              "          const dataTable =\n",
              "            await google.colab.kernel.invokeFunction('convertToInteractive',\n",
              "                                                     [key], {});\n",
              "          if (!dataTable) return;\n",
              "\n",
              "          const docLinkHtml = 'Like what you see? Visit the ' +\n",
              "            '<a target=\"_blank\" href=https://colab.research.google.com/notebooks/data_table.ipynb>data table notebook</a>'\n",
              "            + ' to learn more about interactive tables.';\n",
              "          element.innerHTML = '';\n",
              "          dataTable['output_type'] = 'display_data';\n",
              "          await google.colab.output.renderOutput(dataTable, element);\n",
              "          const docLink = document.createElement('div');\n",
              "          docLink.innerHTML = docLinkHtml;\n",
              "          element.appendChild(docLink);\n",
              "        }\n",
              "      </script>\n",
              "    </div>\n",
              "  </div>\n",
              "  "
            ]
          },
          "metadata": {},
          "execution_count": 63
        }
      ]
    },
    {
      "cell_type": "code",
      "source": [
        "sns.set_theme(style = 'ticks')\n",
        "sns.set_context('notebook')\n",
        "\n",
        "\n",
        "fig = plt.figure(figsize=(10,5))\n",
        "ax = fig.add_subplot(111)\n",
        "model.plot(forecast_rec, xlabel='Date', ylabel='Total Recoveries', ax=ax)\n",
        "\n",
        "plt.axvline(dt.datetime(2021,2,26), color='red')\n",
        "ax.annotate('First Vaccine in\\n South Korea', xy=(dt.datetime(2021,2,26),100000),  xycoords='data',\n",
        "             xytext=(-30, 0), textcoords='offset points',\n",
        "             size=11, ha='right', va='center',\n",
        "             bbox=dict(boxstyle='round', alpha=0.1),\n",
        "             arrowprops=dict(arrowstyle='wedge,tail_width=0.5', alpha=0.1))\n",
        "\n",
        "ax.set_title('Predictions for Number of Total Recoveries in Aug 31st')\n",
        "fig.show()"
      ],
      "metadata": {
        "colab": {
          "base_uri": "https://localhost:8080/",
          "height": 381
        },
        "id": "Hb0lut8jfJjg",
        "outputId": "8450cb57-3a42-4a56-86e9-1e4aa9937349"
      },
      "execution_count": 64,
      "outputs": [
        {
          "output_type": "display_data",
          "data": {
            "text/plain": [
              "<Figure size 720x360 with 1 Axes>"
            ],
            "image/png": "[encoded data removed]"
          },
          "metadata": {}
        }
      ]
    },
    {
      "cell_type": "markdown",
      "source": [
        "\n",
        "\n",
        "---\n",
        "\n"
      ],
      "metadata": {
        "id": "6TWq3vXpgEpq"
      }
    },
    {
      "cell_type": "markdown",
      "source": [
        "# Calculating Vaccine Impact"
      ],
      "metadata": {
        "id": "W4FaaEFi14Dc"
      }
    },
    {
      "cell_type": "code",
      "source": [
        "first_day = df.iloc[0]\n",
        "first_vaccine = df.loc[df['Date'] == '2021-02-26']\n",
        "last_day = df.iloc[-1]"
      ],
      "metadata": {
        "id": "Z0qpPwEC12Sa"
      },
      "execution_count": 65,
      "outputs": []
    },
    {
      "cell_type": "code",
      "source": [
        "first_vaccine"
      ],
      "metadata": {
        "colab": {
          "base_uri": "https://localhost:8080/",
          "height": 162
        },
        "id": "FIiv9iwy2VIj",
        "outputId": "d434d5f7-cdeb-463a-c167-afd5df10b7a8"
      },
      "execution_count": 66,
      "outputs": [
        {
          "output_type": "execute_result",
          "data": {
            "text/plain": [
              "          Date Country/Region  Confirmed  Deaths  Recovered  \\\n",
              "401 2021-02-26    South Korea    89321.0  1595.0    80333.0   \n",
              "\n",
              "     Percent_Confirmed  Percent_Deaths  total_tests  total_vaccinations  \\\n",
              "401           0.004487        0.006309    6521124.0             18489.0   \n",
              "\n",
              "     people_vaccinated  people_fully_vaccinated  new_vaccinations  population  \\\n",
              "401            18489.0                      0.0           18489.0  51269183.0   \n",
              "\n",
              "     percent_population_vaccinated  percent_population_fully_vaccinated  \n",
              "401                       0.000361                                  0.0  "
            ],
            "text/html": [
              "\n",
              "  <div id=\"df-bac4734a-35da-4c14-965b-b028063cfd1f\">\n",
              "    <div class=\"colab-df-container\">\n",
              "      <div>\n",
              "<style scoped>\n",
              "    .dataframe tbody tr th:only-of-type {\n",
              "        vertical-align: middle;\n",
              "    }\n",
              "\n",
              "    .dataframe tbody tr th {\n",
              "        vertical-align: top;\n",
              "    }\n",
              "\n",
              "    .dataframe thead th {\n",
              "        text-align: right;\n",
              "    }\n",
              "</style>\n",
              "<table border=\"1\" class=\"dataframe\">\n",
              "  <thead>\n",
              "    <tr style=\"text-align: right;\">\n",
              "      <th></th>\n",
              "      <th>Date</th>\n",
              "      <th>Country/Region</th>\n",
              "      <th>Confirmed</th>\n",
              "      <th>Deaths</th>\n",
              "      <th>Recovered</th>\n",
              "      <th>Percent_Confirmed</th>\n",
              "      <th>Percent_Deaths</th>\n",
              "      <th>total_tests</th>\n",
              "      <th>total_vaccinations</th>\n",
              "      <th>people_vaccinated</th>\n",
              "      <th>people_fully_vaccinated</th>\n",
              "      <th>new_vaccinations</th>\n",
              "      <th>population</th>\n",
              "      <th>percent_population_vaccinated</th>\n",
              "      <th>percent_population_fully_vaccinated</th>\n",
              "    </tr>\n",
              "  </thead>\n",
              "  <tbody>\n",
              "    <tr>\n",
              "      <th>401</th>\n",
              "      <td>2021-02-26</td>\n",
              "      <td>South Korea</td>\n",
              "      <td>89321.0</td>\n",
              "      <td>1595.0</td>\n",
              "      <td>80333.0</td>\n",
              "      <td>0.004487</td>\n",
              "      <td>0.006309</td>\n",
              "      <td>6521124.0</td>\n",
              "      <td>18489.0</td>\n",
              "      <td>18489.0</td>\n",
              "      <td>0.0</td>\n",
              "      <td>18489.0</td>\n",
              "      <td>51269183.0</td>\n",
              "      <td>0.000361</td>\n",
              "      <td>0.0</td>\n",
              "    </tr>\n",
              "  </tbody>\n",
              "</table>\n",
              "</div>\n",
              "      <button class=\"colab-df-convert\" onclick=\"convertToInteractive('df-bac4734a-35da-4c14-965b-b028063cfd1f')\"\n",
              "              title=\"Convert this dataframe to an interactive table.\"\n",
              "              style=\"display:none;\">\n",
              "        \n",
              "  <svg xmlns=\"http://www.w3.org/2000/svg\" height=\"24px\"viewBox=\"0 0 24 24\"\n",
              "       width=\"24px\">\n",
              "    <path d=\"M0 0h24v24H0V0z\" fill=\"none\"/>\n",
              "    <path d=\"M18.56 5.44l.94 2.06.94-2.06 2.06-.94-2.06-.94-.94-2.06-.94 2.06-2.06.94zm-11 1L8.5 8.5l.94-2.06 2.06-.94-2.06-.94L8.5 2.5l-.94 2.06-2.06.94zm10 10l.94 2.06.94-2.06 2.06-.94-2.06-.94-.94-2.06-.94 2.06-2.06.94z\"/><path d=\"M17.41 7.96l-1.37-1.37c-.4-.4-.92-.59-1.43-.59-.52 0-1.04.2-1.43.59L10.3 9.45l-7.72 7.72c-.78.78-.78 2.05 0 2.83L4 21.41c.39.39.9.59 1.41.59.51 0 1.02-.2 1.41-.59l7.78-7.78 2.81-2.81c.8-.78.8-2.07 0-2.86zM5.41 20L4 18.59l7.72-7.72 1.47 1.35L5.41 20z\"/>\n",
              "  </svg>\n",
              "      </button>\n",
              "      \n",
              "  <style>\n",
              "    .colab-df-container {\n",
              "      display:flex;\n",
              "      flex-wrap:wrap;\n",
              "      gap: 12px;\n",
              "    }\n",
              "\n",
              "    .colab-df-convert {\n",
              "      background-color: #E8F0FE;\n",
              "      border: none;\n",
              "      border-radius: 50%;\n",
              "      cursor: pointer;\n",
              "      display: none;\n",
              "      fill: #1967D2;\n",
              "      height: 32px;\n",
              "      padding: 0 0 0 0;\n",
              "      width: 32px;\n",
              "    }\n",
              "\n",
              "    .colab-df-convert:hover {\n",
              "      background-color: #E2EBFA;\n",
              "      box-shadow: 0px 1px 2px rgba(60, 64, 67, 0.3), 0px 1px 3px 1px rgba(60, 64, 67, 0.15);\n",
              "      fill: #174EA6;\n",
              "    }\n",
              "\n",
              "    [theme=dark] .colab-df-convert {\n",
              "      background-color: #3B4455;\n",
              "      fill: #D2E3FC;\n",
              "    }\n",
              "\n",
              "    [theme=dark] .colab-df-convert:hover {\n",
              "      background-color: #434B5C;\n",
              "      box-shadow: 0px 1px 3px 1px rgba(0, 0, 0, 0.15);\n",
              "      filter: drop-shadow(0px 1px 2px rgba(0, 0, 0, 0.3));\n",
              "      fill: #FFFFFF;\n",
              "    }\n",
              "  </style>\n",
              "\n",
              "      <script>\n",
              "        const buttonEl =\n",
              "          document.querySelector('#df-bac4734a-35da-4c14-965b-b028063cfd1f button.colab-df-convert');\n",
              "        buttonEl.style.display =\n",
              "          google.colab.kernel.accessAllowed ? 'block' : 'none';\n",
              "\n",
              "        async function convertToInteractive(key) {\n",
              "          const element = document.querySelector('#df-bac4734a-35da-4c14-965b-b028063cfd1f');\n",
              "          const dataTable =\n",
              "            await google.colab.kernel.invokeFunction('convertToInteractive',\n",
              "                                                     [key], {});\n",
              "          if (!dataTable) return;\n",
              "\n",
              "          const docLinkHtml = 'Like what you see? Visit the ' +\n",
              "            '<a target=\"_blank\" href=https://colab.research.google.com/notebooks/data_table.ipynb>data table notebook</a>'\n",
              "            + ' to learn more about interactive tables.';\n",
              "          element.innerHTML = '';\n",
              "          dataTable['output_type'] = 'display_data';\n",
              "          await google.colab.output.renderOutput(dataTable, element);\n",
              "          const docLink = document.createElement('div');\n",
              "          docLink.innerHTML = docLinkHtml;\n",
              "          element.appendChild(docLink);\n",
              "        }\n",
              "      </script>\n",
              "    </div>\n",
              "  </div>\n",
              "  "
            ]
          },
          "metadata": {},
          "execution_count": 66
        }
      ]
    },
    {
      "cell_type": "code",
      "source": [
        "first_day"
      ],
      "metadata": {
        "colab": {
          "base_uri": "https://localhost:8080/"
        },
        "id": "qB_DGVVw2qfk",
        "outputId": "2ff78e40-e8ab-4c5a-a952-7a6d48adcc8c"
      },
      "execution_count": 67,
      "outputs": [
        {
          "output_type": "execute_result",
          "data": {
            "text/plain": [
              "Date                                   2020-01-22 00:00:00\n",
              "Country/Region                                 South Korea\n",
              "Confirmed                                              1.0\n",
              "Deaths                                                 0.0\n",
              "Recovered                                              0.0\n",
              "Percent_Confirmed                                      NaN\n",
              "Percent_Deaths                                         NaN\n",
              "total_tests                                           16.0\n",
              "total_vaccinations                                     0.0\n",
              "people_vaccinated                                      0.0\n",
              "people_fully_vaccinated                                0.0\n",
              "new_vaccinations                                       0.0\n",
              "population                                      51269183.0\n",
              "percent_population_vaccinated                          0.0\n",
              "percent_population_fully_vaccinated                    0.0\n",
              "Name: 0, dtype: object"
            ]
          },
          "metadata": {},
          "execution_count": 67
        }
      ]
    },
    {
      "cell_type": "code",
      "source": [
        "last_day"
      ],
      "metadata": {
        "colab": {
          "base_uri": "https://localhost:8080/"
        },
        "id": "6hrtiast2tZm",
        "outputId": "db3cc00c-1cf2-4459-f6cb-a618415fd6bc"
      },
      "execution_count": 68,
      "outputs": [
        {
          "output_type": "execute_result",
          "data": {
            "text/plain": [
              "Date                                   2021-05-29 00:00:00\n",
              "Country/Region                                 South Korea\n",
              "Confirmed                                         139910.0\n",
              "Deaths                                              1957.0\n",
              "Recovered                                         130381.0\n",
              "Percent_Confirmed                                 0.003435\n",
              "Percent_Deaths                                    0.003075\n",
              "total_tests                                            NaN\n",
              "total_vaccinations                                     NaN\n",
              "people_vaccinated                                      NaN\n",
              "people_fully_vaccinated                                NaN\n",
              "new_vaccinations                                       NaN\n",
              "population                                             NaN\n",
              "percent_population_vaccinated                          NaN\n",
              "percent_population_fully_vaccinated                    NaN\n",
              "Name: 493, dtype: object"
            ]
          },
          "metadata": {},
          "execution_count": 68
        }
      ]
    },
    {
      "cell_type": "code",
      "source": [
        "pre_vaccine_confirmed= forecast_per_case['yhat_upper'].iloc[0:401]\n",
        "post_vaccine_confirmed= forecast_per_case['yhat_upper'].iloc[401:493]\n",
        "future_post_vaccine_confirmed= forecast_per_case['yhat_upper'].iloc[401:587]"
      ],
      "metadata": {
        "id": "avKj90AvVKcK"
      },
      "execution_count": 69,
      "outputs": []
    },
    {
      "cell_type": "code",
      "source": [
        "pre_vaccine_confirmed.describe()"
      ],
      "metadata": {
        "colab": {
          "base_uri": "https://localhost:8080/"
        },
        "id": "G0HROPM37uUd",
        "outputId": "d4a2726d-e385-4164-d0fc-8b441573e067"
      },
      "execution_count": 70,
      "outputs": [
        {
          "output_type": "execute_result",
          "data": {
            "text/plain": [
              "count    401.000000\n",
              "mean       0.222626\n",
              "std        0.068478\n",
              "min        0.155321\n",
              "25%        0.178126\n",
              "50%        0.193353\n",
              "75%        0.231690\n",
              "max        0.474002\n",
              "Name: yhat_upper, dtype: float64"
            ]
          },
          "metadata": {},
          "execution_count": 70
        }
      ]
    },
    {
      "cell_type": "code",
      "source": [
        "post_vaccine_confirmed.describe()"
      ],
      "metadata": {
        "colab": {
          "base_uri": "https://localhost:8080/"
        },
        "id": "lOCJe90O8FLB",
        "outputId": "0113871a-b7e2-4902-fab3-a9bcc873499f"
      },
      "execution_count": 71,
      "outputs": [
        {
          "output_type": "execute_result",
          "data": {
            "text/plain": [
              "count    92.000000\n",
              "mean      0.192890\n",
              "std       0.017739\n",
              "min       0.166847\n",
              "25%       0.179973\n",
              "50%       0.187542\n",
              "75%       0.204058\n",
              "max       0.235304\n",
              "Name: yhat_upper, dtype: float64"
            ]
          },
          "metadata": {},
          "execution_count": 71
        }
      ]
    },
    {
      "cell_type": "code",
      "source": [
        "future_post_vaccine_confirmed.describe()"
      ],
      "metadata": {
        "colab": {
          "base_uri": "https://localhost:8080/"
        },
        "id": "6azmzHPiVnlu",
        "outputId": "e99e4113-a11c-473a-d254-4d065e1b0f8a"
      },
      "execution_count": 72,
      "outputs": [
        {
          "output_type": "execute_result",
          "data": {
            "text/plain": [
              "count    186.000000\n",
              "mean       0.193530\n",
              "std        0.018288\n",
              "min        0.157673\n",
              "25%        0.180600\n",
              "50%        0.188121\n",
              "75%        0.205715\n",
              "max        0.243302\n",
              "Name: yhat_upper, dtype: float64"
            ]
          },
          "metadata": {},
          "execution_count": 72
        }
      ]
    },
    {
      "cell_type": "code",
      "source": [
        "#Percentage Decrease = decrease / original * 100\n",
        "pre_vaccine_confirmed_percentage = 0.2218\n",
        "post_vaccine_confirmed_percentage = 0.1929\n",
        "future_vaccine_confirmed_percentage = 0.1943\n",
        "\n",
        "vaccine_impact_confirmed= ((pre_vaccine_confirmed_percentage-post_vaccine_confirmed_percentage)/pre_vaccine_confirmed_percentage)*100\n",
        "future_vaccine_impact_confirmed= ((pre_vaccine_confirmed_percentage-future_vaccine_confirmed_percentage)/pre_vaccine_confirmed_percentage)*100\n",
        "print(r'6/30', vaccine_impact_confirmed)\n",
        "print(r'8/31', future_vaccine_impact_confirmed)"
      ],
      "metadata": {
        "colab": {
          "base_uri": "https://localhost:8080/"
        },
        "id": "11Uw8Tq2_8xm",
        "outputId": "ec18ff9b-450b-4519-b24a-cd4b624d2382"
      },
      "execution_count": 73,
      "outputs": [
        {
          "output_type": "stream",
          "name": "stdout",
          "text": [
            "6/30 13.029756537421106\n",
            "8/31 12.398557258791703\n"
          ]
        }
      ]
    },
    {
      "cell_type": "code",
      "source": [
        "pre_vaccine_death = forecast_per_death['yhat_upper'].iloc[0:401]\n",
        "post_vaccine_death = forecast_per_death['yhat_upper'].iloc[401:493]\n",
        "future_vaccine_death = forecast_per_death['yhat_upper'].iloc[401:587]"
      ],
      "metadata": {
        "id": "tFM_NbgS_kFZ"
      },
      "execution_count": 74,
      "outputs": []
    },
    {
      "cell_type": "code",
      "source": [
        "pre_vaccine_death.describe()"
      ],
      "metadata": {
        "colab": {
          "base_uri": "https://localhost:8080/"
        },
        "id": "9ELy8Wcb_0X9",
        "outputId": "e44ae308-d878-401b-afb1-6f494b2bf127"
      },
      "execution_count": 75,
      "outputs": [
        {
          "output_type": "execute_result",
          "data": {
            "text/plain": [
              "count    401.000000\n",
              "mean       0.166698\n",
              "std        0.083390\n",
              "min        0.104365\n",
              "25%        0.121876\n",
              "50%        0.131108\n",
              "75%        0.152834\n",
              "max        0.457916\n",
              "Name: yhat_upper, dtype: float64"
            ]
          },
          "metadata": {},
          "execution_count": 75
        }
      ]
    },
    {
      "cell_type": "code",
      "source": [
        "post_vaccine_death.describe()"
      ],
      "metadata": {
        "colab": {
          "base_uri": "https://localhost:8080/"
        },
        "id": "DedIXmbQ_5QE",
        "outputId": "d691b519-0473-4f0f-9e30-d8c62cd5f612"
      },
      "execution_count": 76,
      "outputs": [
        {
          "output_type": "execute_result",
          "data": {
            "text/plain": [
              "count    92.000000\n",
              "mean      0.130939\n",
              "std       0.011436\n",
              "min       0.109488\n",
              "25%       0.122794\n",
              "50%       0.128802\n",
              "75%       0.136314\n",
              "max       0.161398\n",
              "Name: yhat_upper, dtype: float64"
            ]
          },
          "metadata": {},
          "execution_count": 76
        }
      ]
    },
    {
      "cell_type": "code",
      "source": [
        "future_vaccine_death.describe()"
      ],
      "metadata": {
        "colab": {
          "base_uri": "https://localhost:8080/"
        },
        "id": "La4WenC0Wc-W",
        "outputId": "9b4c78d8-a3a7-4428-d19c-2aad29c58b66"
      },
      "execution_count": 77,
      "outputs": [
        {
          "output_type": "execute_result",
          "data": {
            "text/plain": [
              "count    186.000000\n",
              "mean       0.132392\n",
              "std        0.011245\n",
              "min        0.109106\n",
              "25%        0.124657\n",
              "50%        0.130697\n",
              "75%        0.138812\n",
              "max        0.167189\n",
              "Name: yhat_upper, dtype: float64"
            ]
          },
          "metadata": {},
          "execution_count": 77
        }
      ]
    },
    {
      "cell_type": "code",
      "source": [
        "pre_vaccine_death_percentage = 0.1664\n",
        "post_vaccine_death_percentage = 0.1309\n",
        "future_vaccine_death_percentage = 0.1319\n",
        "\n",
        "vaccine_impact_death = ((pre_vaccine_death_percentage-post_vaccine_death_percentage)/pre_vaccine_death_percentage) *100\n",
        "future_vaccine_impact_death = ((pre_vaccine_death_percentage-future_vaccine_death_percentage)/pre_vaccine_death_percentage) *100\n",
        " \n",
        "print(r'6/30', vaccine_impact_death)\n",
        "print(r'8/31', future_vaccine_impact_death)"
      ],
      "metadata": {
        "colab": {
          "base_uri": "https://localhost:8080/"
        },
        "id": "gh7f754_AkX1",
        "outputId": "b4a8b3e0-5904-49f0-e63e-224ec3c719a0"
      },
      "execution_count": 78,
      "outputs": [
        {
          "output_type": "stream",
          "name": "stdout",
          "text": [
            "6/30 21.334134615384617\n",
            "8/31 20.73317307692308\n"
          ]
        }
      ]
    },
    {
      "cell_type": "markdown",
      "source": [
        "First Day of Vaccination in Korea = 2021-02-26\n",
        "\n",
        "Last Day of Prediction = 2021-08-31\n",
        "\n",
        "\n",
        "Average:\n",
        "\n",
        "***Vaccine Impact Percent Decrease on Confirmed Cases = 13.03%*\n",
        "\n",
        "***Vaccine Impact Percent Decrease on Deaths = 21.33%*\n",
        "\n",
        "\n",
        "***Vaccine Impact Percent Decrease on Confirmed Cases (Future 8/31)= 12.40%*\n",
        "\n",
        "***Vaccine Impact Percent Decrease on Deaths (Future 8/31)= 20.73%*"
      ],
      "metadata": {
        "id": "rFc9ldr-BVZS"
      }
    },
    {
      "cell_type": "markdown",
      "source": [
        "\n",
        "\n",
        "---\n",
        "\n"
      ],
      "metadata": {
        "id": "2tk4mQhGgBp6"
      }
    },
    {
      "cell_type": "markdown",
      "source": [
        "**Age/Gender Dataset**"
      ],
      "metadata": {
        "id": "HVK_qjrwbzxE"
      }
    },
    {
      "cell_type": "code",
      "source": [
        "df3 =pd.read_csv('/content/gdrive/My Drive/DataSets/Covid19GenAgeCaseInf_20220628.csv')"
      ],
      "metadata": {
        "id": "7mLz5W1UqDhx"
      },
      "execution_count": 79,
      "outputs": []
    },
    {
      "cell_type": "code",
      "source": [
        "print(df3.shape)\n",
        "df3.info()"
      ],
      "metadata": {
        "colab": {
          "base_uri": "https://localhost:8080/"
        },
        "id": "2RCbXT4TqRrC",
        "outputId": "9035d78b-7a4a-4e37-f28d-9ab0b79ce4d1"
      },
      "execution_count": 80,
      "outputs": [
        {
          "output_type": "stream",
          "name": "stdout",
          "text": [
            "(8472, 9)\n",
            "<class 'pandas.core.frame.DataFrame'>\n",
            "RangeIndex: 8472 entries, 0 to 8471\n",
            "Data columns (total 9 columns):\n",
            " #   Column        Non-Null Count  Dtype  \n",
            "---  ------        --------------  -----  \n",
            " 0   seq           8472 non-null   int64  \n",
            " 1   gubun         8472 non-null   object \n",
            " 2   confCase      8472 non-null   int64  \n",
            " 3   confCaseRate  8472 non-null   float64\n",
            " 4   death         6983 non-null   float64\n",
            " 5   deathRate     8409 non-null   float64\n",
            " 6   criticalRate  6806 non-null   float64\n",
            " 7   createDt      8472 non-null   object \n",
            " 8   updateDt      4 non-null      object \n",
            "dtypes: float64(4), int64(2), object(3)\n",
            "memory usage: 595.8+ KB\n"
          ]
        }
      ]
    },
    {
      "cell_type": "code",
      "source": [
        "df3.head(20)"
      ],
      "metadata": {
        "colab": {
          "base_uri": "https://localhost:8080/",
          "height": 677
        },
        "id": "jz6mvVOdqYiS",
        "outputId": "63f74fb9-cd59-45be-d0f8-664224fd2abb"
      },
      "execution_count": 81,
      "outputs": [
        {
          "output_type": "execute_result",
          "data": {
            "text/plain": [
              "    seq  gubun  confCase  confCaseRate  death  deathRate  criticalRate  \\\n",
              "0     1     남성      3905         39.90   82.0      50.62          2.10   \n",
              "1     2     여성      5881         60.10   80.0      49.38          1.36   \n",
              "2     3  80 이상       442          4.52   82.0      50.62         18.55   \n",
              "3     4  70-79       651          6.65   46.0      28.40          7.07   \n",
              "4     5  60-69      1235         12.62   22.0      13.58          1.78   \n",
              "5     6  50-59      1851         18.91   10.0       6.17          0.54   \n",
              "6     7  40-49      1312         13.41    1.0       0.62          0.08   \n",
              "7     8  30-39      1012         10.34    1.0       0.62          0.10   \n",
              "8     9  20-29      2656         27.14    NaN        NaN           NaN   \n",
              "9    10  10-19       515          5.26    NaN        NaN           NaN   \n",
              "10   11    0-9       112          1.14    NaN        NaN           NaN   \n",
              "11   12     남성      4138         40.05  101.0      52.60          2.44   \n",
              "12   13     여성      6193         59.95   91.0      47.40          1.47   \n",
              "13   14  80 이상       466          4.51   93.0      48.44         19.96   \n",
              "14   15  70-79       689          6.67   57.0      29.69          8.27   \n",
              "15   16  60-69      1304         12.62   26.0      13.54          1.99   \n",
              "16   17  50-59      1909         18.48   13.0       6.77          0.68   \n",
              "17   18  40-49      1382         13.38    2.0       1.04          0.14   \n",
              "18   19  30-39      1092         10.57    1.0       0.52          0.09   \n",
              "19   20  20-29      2819         27.29    NaN        NaN           NaN   \n",
              "\n",
              "                  createDt updateDt  \n",
              "0   2020-04-02 19:02:48.48      NaN  \n",
              "1   2020-04-02 19:02:48.48      NaN  \n",
              "2   2020-04-02 19:02:48.48      NaN  \n",
              "3   2020-04-02 19:02:48.48      NaN  \n",
              "4   2020-04-02 19:02:48.48      NaN  \n",
              "5   2020-04-02 19:02:48.48      NaN  \n",
              "6   2020-04-02 19:02:48.48      NaN  \n",
              "7   2020-04-02 19:02:48.48      NaN  \n",
              "8   2020-04-02 19:02:48.48      NaN  \n",
              "9   2020-04-02 19:02:48.48      NaN  \n",
              "10  2020-04-02 19:02:48.48      NaN  \n",
              "11  2020-04-07 19:32:08.08      NaN  \n",
              "12  2020-04-07 19:32:08.08      NaN  \n",
              "13  2020-04-07 19:32:08.08      NaN  \n",
              "14  2020-04-07 19:32:08.08      NaN  \n",
              "15  2020-04-07 19:32:08.08      NaN  \n",
              "16  2020-04-07 19:32:08.08      NaN  \n",
              "17  2020-04-07 19:32:08.08      NaN  \n",
              "18  2020-04-07 19:32:08.08      NaN  \n",
              "19  2020-04-07 19:32:08.08      NaN  "
            ],
            "text/html": [
              "\n",
              "  <div id=\"df-1b67e7ca-b684-4390-9d8d-528c44024af7\">\n",
              "    <div class=\"colab-df-container\">\n",
              "      <div>\n",
              "<style scoped>\n",
              "    .dataframe tbody tr th:only-of-type {\n",
              "        vertical-align: middle;\n",
              "    }\n",
              "\n",
              "    .dataframe tbody tr th {\n",
              "        vertical-align: top;\n",
              "    }\n",
              "\n",
              "    .dataframe thead th {\n",
              "        text-align: right;\n",
              "    }\n",
              "</style>\n",
              "<table border=\"1\" class=\"dataframe\">\n",
              "  <thead>\n",
              "    <tr style=\"text-align: right;\">\n",
              "      <th></th>\n",
              "      <th>seq</th>\n",
              "      <th>gubun</th>\n",
              "      <th>confCase</th>\n",
              "      <th>confCaseRate</th>\n",
              "      <th>death</th>\n",
              "      <th>deathRate</th>\n",
              "      <th>criticalRate</th>\n",
              "      <th>createDt</th>\n",
              "      <th>updateDt</th>\n",
              "    </tr>\n",
              "  </thead>\n",
              "  <tbody>\n",
              "    <tr>\n",
              "      <th>0</th>\n",
              "      <td>1</td>\n",
              "      <td>남성</td>\n",
              "      <td>3905</td>\n",
              "      <td>39.90</td>\n",
              "      <td>82.0</td>\n",
              "      <td>50.62</td>\n",
              "      <td>2.10</td>\n",
              "      <td>2020-04-02 19:02:48.48</td>\n",
              "      <td>NaN</td>\n",
              "    </tr>\n",
              "    <tr>\n",
              "      <th>1</th>\n",
              "      <td>2</td>\n",
              "      <td>여성</td>\n",
              "      <td>5881</td>\n",
              "      <td>60.10</td>\n",
              "      <td>80.0</td>\n",
              "      <td>49.38</td>\n",
              "      <td>1.36</td>\n",
              "      <td>2020-04-02 19:02:48.48</td>\n",
              "      <td>NaN</td>\n",
              "    </tr>\n",
              "    <tr>\n",
              "      <th>2</th>\n",
              "      <td>3</td>\n",
              "      <td>80 이상</td>\n",
              "      <td>442</td>\n",
              "      <td>4.52</td>\n",
              "      <td>82.0</td>\n",
              "      <td>50.62</td>\n",
              "      <td>18.55</td>\n",
              "      <td>2020-04-02 19:02:48.48</td>\n",
              "      <td>NaN</td>\n",
              "    </tr>\n",
              "    <tr>\n",
              "      <th>3</th>\n",
              "      <td>4</td>\n",
              "      <td>70-79</td>\n",
              "      <td>651</td>\n",
              "      <td>6.65</td>\n",
              "      <td>46.0</td>\n",
              "      <td>28.40</td>\n",
              "      <td>7.07</td>\n",
              "      <td>2020-04-02 19:02:48.48</td>\n",
              "      <td>NaN</td>\n",
              "    </tr>\n",
              "    <tr>\n",
              "      <th>4</th>\n",
              "      <td>5</td>\n",
              "      <td>60-69</td>\n",
              "      <td>1235</td>\n",
              "      <td>12.62</td>\n",
              "      <td>22.0</td>\n",
              "      <td>13.58</td>\n",
              "      <td>1.78</td>\n",
              "      <td>2020-04-02 19:02:48.48</td>\n",
              "      <td>NaN</td>\n",
              "    </tr>\n",
              "    <tr>\n",
              "      <th>5</th>\n",
              "      <td>6</td>\n",
              "      <td>50-59</td>\n",
              "      <td>1851</td>\n",
              "      <td>18.91</td>\n",
              "      <td>10.0</td>\n",
              "      <td>6.17</td>\n",
              "      <td>0.54</td>\n",
              "      <td>2020-04-02 19:02:48.48</td>\n",
              "      <td>NaN</td>\n",
              "    </tr>\n",
              "    <tr>\n",
              "      <th>6</th>\n",
              "      <td>7</td>\n",
              "      <td>40-49</td>\n",
              "      <td>1312</td>\n",
              "      <td>13.41</td>\n",
              "      <td>1.0</td>\n",
              "      <td>0.62</td>\n",
              "      <td>0.08</td>\n",
              "      <td>2020-04-02 19:02:48.48</td>\n",
              "      <td>NaN</td>\n",
              "    </tr>\n",
              "    <tr>\n",
              "      <th>7</th>\n",
              "      <td>8</td>\n",
              "      <td>30-39</td>\n",
              "      <td>1012</td>\n",
              "      <td>10.34</td>\n",
              "      <td>1.0</td>\n",
              "      <td>0.62</td>\n",
              "      <td>0.10</td>\n",
              "      <td>2020-04-02 19:02:48.48</td>\n",
              "      <td>NaN</td>\n",
              "    </tr>\n",
              "    <tr>\n",
              "      <th>8</th>\n",
              "      <td>9</td>\n",
              "      <td>20-29</td>\n",
              "      <td>2656</td>\n",
              "      <td>27.14</td>\n",
              "      <td>NaN</td>\n",
              "      <td>NaN</td>\n",
              "      <td>NaN</td>\n",
              "      <td>2020-04-02 19:02:48.48</td>\n",
              "      <td>NaN</td>\n",
              "    </tr>\n",
              "    <tr>\n",
              "      <th>9</th>\n",
              "      <td>10</td>\n",
              "      <td>10-19</td>\n",
              "      <td>515</td>\n",
              "      <td>5.26</td>\n",
              "      <td>NaN</td>\n",
              "      <td>NaN</td>\n",
              "      <td>NaN</td>\n",
              "      <td>2020-04-02 19:02:48.48</td>\n",
              "      <td>NaN</td>\n",
              "    </tr>\n",
              "    <tr>\n",
              "      <th>10</th>\n",
              "      <td>11</td>\n",
              "      <td>0-9</td>\n",
              "      <td>112</td>\n",
              "      <td>1.14</td>\n",
              "      <td>NaN</td>\n",
              "      <td>NaN</td>\n",
              "      <td>NaN</td>\n",
              "      <td>2020-04-02 19:02:48.48</td>\n",
              "      <td>NaN</td>\n",
              "    </tr>\n",
              "    <tr>\n",
              "      <th>11</th>\n",
              "      <td>12</td>\n",
              "      <td>남성</td>\n",
              "      <td>4138</td>\n",
              "      <td>40.05</td>\n",
              "      <td>101.0</td>\n",
              "      <td>52.60</td>\n",
              "      <td>2.44</td>\n",
              "      <td>2020-04-07 19:32:08.08</td>\n",
              "      <td>NaN</td>\n",
              "    </tr>\n",
              "    <tr>\n",
              "      <th>12</th>\n",
              "      <td>13</td>\n",
              "      <td>여성</td>\n",
              "      <td>6193</td>\n",
              "      <td>59.95</td>\n",
              "      <td>91.0</td>\n",
              "      <td>47.40</td>\n",
              "      <td>1.47</td>\n",
              "      <td>2020-04-07 19:32:08.08</td>\n",
              "      <td>NaN</td>\n",
              "    </tr>\n",
              "    <tr>\n",
              "      <th>13</th>\n",
              "      <td>14</td>\n",
              "      <td>80 이상</td>\n",
              "      <td>466</td>\n",
              "      <td>4.51</td>\n",
              "      <td>93.0</td>\n",
              "      <td>48.44</td>\n",
              "      <td>19.96</td>\n",
              "      <td>2020-04-07 19:32:08.08</td>\n",
              "      <td>NaN</td>\n",
              "    </tr>\n",
              "    <tr>\n",
              "      <th>14</th>\n",
              "      <td>15</td>\n",
              "      <td>70-79</td>\n",
              "      <td>689</td>\n",
              "      <td>6.67</td>\n",
              "      <td>57.0</td>\n",
              "      <td>29.69</td>\n",
              "      <td>8.27</td>\n",
              "      <td>2020-04-07 19:32:08.08</td>\n",
              "      <td>NaN</td>\n",
              "    </tr>\n",
              "    <tr>\n",
              "      <th>15</th>\n",
              "      <td>16</td>\n",
              "      <td>60-69</td>\n",
              "      <td>1304</td>\n",
              "      <td>12.62</td>\n",
              "      <td>26.0</td>\n",
              "      <td>13.54</td>\n",
              "      <td>1.99</td>\n",
              "      <td>2020-04-07 19:32:08.08</td>\n",
              "      <td>NaN</td>\n",
              "    </tr>\n",
              "    <tr>\n",
              "      <th>16</th>\n",
              "      <td>17</td>\n",
              "      <td>50-59</td>\n",
              "      <td>1909</td>\n",
              "      <td>18.48</td>\n",
              "      <td>13.0</td>\n",
              "      <td>6.77</td>\n",
              "      <td>0.68</td>\n",
              "      <td>2020-04-07 19:32:08.08</td>\n",
              "      <td>NaN</td>\n",
              "    </tr>\n",
              "    <tr>\n",
              "      <th>17</th>\n",
              "      <td>18</td>\n",
              "      <td>40-49</td>\n",
              "      <td>1382</td>\n",
              "      <td>13.38</td>\n",
              "      <td>2.0</td>\n",
              "      <td>1.04</td>\n",
              "      <td>0.14</td>\n",
              "      <td>2020-04-07 19:32:08.08</td>\n",
              "      <td>NaN</td>\n",
              "    </tr>\n",
              "    <tr>\n",
              "      <th>18</th>\n",
              "      <td>19</td>\n",
              "      <td>30-39</td>\n",
              "      <td>1092</td>\n",
              "      <td>10.57</td>\n",
              "      <td>1.0</td>\n",
              "      <td>0.52</td>\n",
              "      <td>0.09</td>\n",
              "      <td>2020-04-07 19:32:08.08</td>\n",
              "      <td>NaN</td>\n",
              "    </tr>\n",
              "    <tr>\n",
              "      <th>19</th>\n",
              "      <td>20</td>\n",
              "      <td>20-29</td>\n",
              "      <td>2819</td>\n",
              "      <td>27.29</td>\n",
              "      <td>NaN</td>\n",
              "      <td>NaN</td>\n",
              "      <td>NaN</td>\n",
              "      <td>2020-04-07 19:32:08.08</td>\n",
              "      <td>NaN</td>\n",
              "    </tr>\n",
              "  </tbody>\n",
              "</table>\n",
              "</div>\n",
              "      <button class=\"colab-df-convert\" onclick=\"convertToInteractive('df-1b67e7ca-b684-4390-9d8d-528c44024af7')\"\n",
              "              title=\"Convert this dataframe to an interactive table.\"\n",
              "              style=\"display:none;\">\n",
              "        \n",
              "  <svg xmlns=\"http://www.w3.org/2000/svg\" height=\"24px\"viewBox=\"0 0 24 24\"\n",
              "       width=\"24px\">\n",
              "    <path d=\"M0 0h24v24H0V0z\" fill=\"none\"/>\n",
              "    <path d=\"M18.56 5.44l.94 2.06.94-2.06 2.06-.94-2.06-.94-.94-2.06-.94 2.06-2.06.94zm-11 1L8.5 8.5l.94-2.06 2.06-.94-2.06-.94L8.5 2.5l-.94 2.06-2.06.94zm10 10l.94 2.06.94-2.06 2.06-.94-2.06-.94-.94-2.06-.94 2.06-2.06.94z\"/><path d=\"M17.41 7.96l-1.37-1.37c-.4-.4-.92-.59-1.43-.59-.52 0-1.04.2-1.43.59L10.3 9.45l-7.72 7.72c-.78.78-.78 2.05 0 2.83L4 21.41c.39.39.9.59 1.41.59.51 0 1.02-.2 1.41-.59l7.78-7.78 2.81-2.81c.8-.78.8-2.07 0-2.86zM5.41 20L4 18.59l7.72-7.72 1.47 1.35L5.41 20z\"/>\n",
              "  </svg>\n",
              "      </button>\n",
              "      \n",
              "  <style>\n",
              "    .colab-df-container {\n",
              "      display:flex;\n",
              "      flex-wrap:wrap;\n",
              "      gap: 12px;\n",
              "    }\n",
              "\n",
              "    .colab-df-convert {\n",
              "      background-color: #E8F0FE;\n",
              "      border: none;\n",
              "      border-radius: 50%;\n",
              "      cursor: pointer;\n",
              "      display: none;\n",
              "      fill: #1967D2;\n",
              "      height: 32px;\n",
              "      padding: 0 0 0 0;\n",
              "      width: 32px;\n",
              "    }\n",
              "\n",
              "    .colab-df-convert:hover {\n",
              "      background-color: #E2EBFA;\n",
              "      box-shadow: 0px 1px 2px rgba(60, 64, 67, 0.3), 0px 1px 3px 1px rgba(60, 64, 67, 0.15);\n",
              "      fill: #174EA6;\n",
              "    }\n",
              "\n",
              "    [theme=dark] .colab-df-convert {\n",
              "      background-color: #3B4455;\n",
              "      fill: #D2E3FC;\n",
              "    }\n",
              "\n",
              "    [theme=dark] .colab-df-convert:hover {\n",
              "      background-color: #434B5C;\n",
              "      box-shadow: 0px 1px 3px 1px rgba(0, 0, 0, 0.15);\n",
              "      filter: drop-shadow(0px 1px 2px rgba(0, 0, 0, 0.3));\n",
              "      fill: #FFFFFF;\n",
              "    }\n",
              "  </style>\n",
              "\n",
              "      <script>\n",
              "        const buttonEl =\n",
              "          document.querySelector('#df-1b67e7ca-b684-4390-9d8d-528c44024af7 button.colab-df-convert');\n",
              "        buttonEl.style.display =\n",
              "          google.colab.kernel.accessAllowed ? 'block' : 'none';\n",
              "\n",
              "        async function convertToInteractive(key) {\n",
              "          const element = document.querySelector('#df-1b67e7ca-b684-4390-9d8d-528c44024af7');\n",
              "          const dataTable =\n",
              "            await google.colab.kernel.invokeFunction('convertToInteractive',\n",
              "                                                     [key], {});\n",
              "          if (!dataTable) return;\n",
              "\n",
              "          const docLinkHtml = 'Like what you see? Visit the ' +\n",
              "            '<a target=\"_blank\" href=https://colab.research.google.com/notebooks/data_table.ipynb>data table notebook</a>'\n",
              "            + ' to learn more about interactive tables.';\n",
              "          element.innerHTML = '';\n",
              "          dataTable['output_type'] = 'display_data';\n",
              "          await google.colab.output.renderOutput(dataTable, element);\n",
              "          const docLink = document.createElement('div');\n",
              "          docLink.innerHTML = docLinkHtml;\n",
              "          element.appendChild(docLink);\n",
              "        }\n",
              "      </script>\n",
              "    </div>\n",
              "  </div>\n",
              "  "
            ]
          },
          "metadata": {},
          "execution_count": 81
        }
      ]
    },
    {
      "cell_type": "code",
      "source": [
        "df3['createDt'] =df3.createDt.astype(str)"
      ],
      "metadata": {
        "id": "F12keiVYtkPb"
      },
      "execution_count": 82,
      "outputs": []
    },
    {
      "cell_type": "code",
      "source": [
        "df3['createDt'] = pd.to_datetime(df3['createDt'])"
      ],
      "metadata": {
        "id": "HKZXgE7Kvi8y"
      },
      "execution_count": 83,
      "outputs": []
    },
    {
      "cell_type": "code",
      "source": [
        "df3['createDt'] = pd.to_datetime(df3['createDt'].dt.strftime('%Y-%m-%d'))"
      ],
      "metadata": {
        "id": "iGza2E1YrCbY"
      },
      "execution_count": 84,
      "outputs": []
    },
    {
      "cell_type": "code",
      "source": [
        "df3 = df3[df3['createDt'] <= '2021-06-30']"
      ],
      "metadata": {
        "id": "sYt8IdDvqwnk"
      },
      "execution_count": 85,
      "outputs": []
    },
    {
      "cell_type": "code",
      "source": [
        "print(df3.shape)"
      ],
      "metadata": {
        "colab": {
          "base_uri": "https://localhost:8080/"
        },
        "id": "ricOAnnytG2V",
        "outputId": "89d3a58d-96e2-4018-be56-e1644eef5313"
      },
      "execution_count": 86,
      "outputs": [
        {
          "output_type": "stream",
          "name": "stdout",
          "text": [
            "(4666, 9)\n"
          ]
        }
      ]
    },
    {
      "cell_type": "code",
      "source": [
        "df3.isna().sum()"
      ],
      "metadata": {
        "colab": {
          "base_uri": "https://localhost:8080/"
        },
        "id": "jlWQw4ANwYrd",
        "outputId": "ddd7f014-1806-4ad7-951b-a1450f9a7b7b"
      },
      "execution_count": 87,
      "outputs": [
        {
          "output_type": "execute_result",
          "data": {
            "text/plain": [
              "seq                0\n",
              "gubun              0\n",
              "confCase           0\n",
              "confCaseRate       0\n",
              "death           1151\n",
              "deathRate          9\n",
              "criticalRate    1149\n",
              "createDt           0\n",
              "updateDt        4666\n",
              "dtype: int64"
            ]
          },
          "metadata": {},
          "execution_count": 87
        }
      ]
    },
    {
      "cell_type": "code",
      "source": [
        "df3.tail()"
      ],
      "metadata": {
        "colab": {
          "base_uri": "https://localhost:8080/",
          "height": 206
        },
        "id": "XqW5sqY7un_O",
        "outputId": "148f2bea-fee8-4062-e1a4-d66559f48b88"
      },
      "execution_count": 88,
      "outputs": [
        {
          "output_type": "execute_result",
          "data": {
            "text/plain": [
              "       seq  gubun  confCase  confCaseRate  death  deathRate  criticalRate  \\\n",
              "4661  9877  40-49     24225         15.43   15.0       0.74          0.06   \n",
              "4662  9878  30-39     22048         14.05    8.0       0.40          0.04   \n",
              "4663  9879  20-29     24143         15.38    3.0       0.15          0.01   \n",
              "4664  9880  10-19     11344          7.23    NaN       0.00           NaN   \n",
              "4665  9881    0-9      7154          4.56    NaN       0.00           NaN   \n",
              "\n",
              "       createDt updateDt  \n",
              "4661 2021-06-30      NaN  \n",
              "4662 2021-06-30      NaN  \n",
              "4663 2021-06-30      NaN  \n",
              "4664 2021-06-30      NaN  \n",
              "4665 2021-06-30      NaN  "
            ],
            "text/html": [
              "\n",
              "  <div id=\"df-5264d10a-86c1-468a-a90e-162b796148a0\">\n",
              "    <div class=\"colab-df-container\">\n",
              "      <div>\n",
              "<style scoped>\n",
              "    .dataframe tbody tr th:only-of-type {\n",
              "        vertical-align: middle;\n",
              "    }\n",
              "\n",
              "    .dataframe tbody tr th {\n",
              "        vertical-align: top;\n",
              "    }\n",
              "\n",
              "    .dataframe thead th {\n",
              "        text-align: right;\n",
              "    }\n",
              "</style>\n",
              "<table border=\"1\" class=\"dataframe\">\n",
              "  <thead>\n",
              "    <tr style=\"text-align: right;\">\n",
              "      <th></th>\n",
              "      <th>seq</th>\n",
              "      <th>gubun</th>\n",
              "      <th>confCase</th>\n",
              "      <th>confCaseRate</th>\n",
              "      <th>death</th>\n",
              "      <th>deathRate</th>\n",
              "      <th>criticalRate</th>\n",
              "      <th>createDt</th>\n",
              "      <th>updateDt</th>\n",
              "    </tr>\n",
              "  </thead>\n",
              "  <tbody>\n",
              "    <tr>\n",
              "      <th>4661</th>\n",
              "      <td>9877</td>\n",
              "      <td>40-49</td>\n",
              "      <td>24225</td>\n",
              "      <td>15.43</td>\n",
              "      <td>15.0</td>\n",
              "      <td>0.74</td>\n",
              "      <td>0.06</td>\n",
              "      <td>2021-06-30</td>\n",
              "      <td>NaN</td>\n",
              "    </tr>\n",
              "    <tr>\n",
              "      <th>4662</th>\n",
              "      <td>9878</td>\n",
              "      <td>30-39</td>\n",
              "      <td>22048</td>\n",
              "      <td>14.05</td>\n",
              "      <td>8.0</td>\n",
              "      <td>0.40</td>\n",
              "      <td>0.04</td>\n",
              "      <td>2021-06-30</td>\n",
              "      <td>NaN</td>\n",
              "    </tr>\n",
              "    <tr>\n",
              "      <th>4663</th>\n",
              "      <td>9879</td>\n",
              "      <td>20-29</td>\n",
              "      <td>24143</td>\n",
              "      <td>15.38</td>\n",
              "      <td>3.0</td>\n",
              "      <td>0.15</td>\n",
              "      <td>0.01</td>\n",
              "      <td>2021-06-30</td>\n",
              "      <td>NaN</td>\n",
              "    </tr>\n",
              "    <tr>\n",
              "      <th>4664</th>\n",
              "      <td>9880</td>\n",
              "      <td>10-19</td>\n",
              "      <td>11344</td>\n",
              "      <td>7.23</td>\n",
              "      <td>NaN</td>\n",
              "      <td>0.00</td>\n",
              "      <td>NaN</td>\n",
              "      <td>2021-06-30</td>\n",
              "      <td>NaN</td>\n",
              "    </tr>\n",
              "    <tr>\n",
              "      <th>4665</th>\n",
              "      <td>9881</td>\n",
              "      <td>0-9</td>\n",
              "      <td>7154</td>\n",
              "      <td>4.56</td>\n",
              "      <td>NaN</td>\n",
              "      <td>0.00</td>\n",
              "      <td>NaN</td>\n",
              "      <td>2021-06-30</td>\n",
              "      <td>NaN</td>\n",
              "    </tr>\n",
              "  </tbody>\n",
              "</table>\n",
              "</div>\n",
              "      <button class=\"colab-df-convert\" onclick=\"convertToInteractive('df-5264d10a-86c1-468a-a90e-162b796148a0')\"\n",
              "              title=\"Convert this dataframe to an interactive table.\"\n",
              "              style=\"display:none;\">\n",
              "        \n",
              "  <svg xmlns=\"http://www.w3.org/2000/svg\" height=\"24px\"viewBox=\"0 0 24 24\"\n",
              "       width=\"24px\">\n",
              "    <path d=\"M0 0h24v24H0V0z\" fill=\"none\"/>\n",
              "    <path d=\"M18.56 5.44l.94 2.06.94-2.06 2.06-.94-2.06-.94-.94-2.06-.94 2.06-2.06.94zm-11 1L8.5 8.5l.94-2.06 2.06-.94-2.06-.94L8.5 2.5l-.94 2.06-2.06.94zm10 10l.94 2.06.94-2.06 2.06-.94-2.06-.94-.94-2.06-.94 2.06-2.06.94z\"/><path d=\"M17.41 7.96l-1.37-1.37c-.4-.4-.92-.59-1.43-.59-.52 0-1.04.2-1.43.59L10.3 9.45l-7.72 7.72c-.78.78-.78 2.05 0 2.83L4 21.41c.39.39.9.59 1.41.59.51 0 1.02-.2 1.41-.59l7.78-7.78 2.81-2.81c.8-.78.8-2.07 0-2.86zM5.41 20L4 18.59l7.72-7.72 1.47 1.35L5.41 20z\"/>\n",
              "  </svg>\n",
              "      </button>\n",
              "      \n",
              "  <style>\n",
              "    .colab-df-container {\n",
              "      display:flex;\n",
              "      flex-wrap:wrap;\n",
              "      gap: 12px;\n",
              "    }\n",
              "\n",
              "    .colab-df-convert {\n",
              "      background-color: #E8F0FE;\n",
              "      border: none;\n",
              "      border-radius: 50%;\n",
              "      cursor: pointer;\n",
              "      display: none;\n",
              "      fill: #1967D2;\n",
              "      height: 32px;\n",
              "      padding: 0 0 0 0;\n",
              "      width: 32px;\n",
              "    }\n",
              "\n",
              "    .colab-df-convert:hover {\n",
              "      background-color: #E2EBFA;\n",
              "      box-shadow: 0px 1px 2px rgba(60, 64, 67, 0.3), 0px 1px 3px 1px rgba(60, 64, 67, 0.15);\n",
              "      fill: #174EA6;\n",
              "    }\n",
              "\n",
              "    [theme=dark] .colab-df-convert {\n",
              "      background-color: #3B4455;\n",
              "      fill: #D2E3FC;\n",
              "    }\n",
              "\n",
              "    [theme=dark] .colab-df-convert:hover {\n",
              "      background-color: #434B5C;\n",
              "      box-shadow: 0px 1px 3px 1px rgba(0, 0, 0, 0.15);\n",
              "      filter: drop-shadow(0px 1px 2px rgba(0, 0, 0, 0.3));\n",
              "      fill: #FFFFFF;\n",
              "    }\n",
              "  </style>\n",
              "\n",
              "      <script>\n",
              "        const buttonEl =\n",
              "          document.querySelector('#df-5264d10a-86c1-468a-a90e-162b796148a0 button.colab-df-convert');\n",
              "        buttonEl.style.display =\n",
              "          google.colab.kernel.accessAllowed ? 'block' : 'none';\n",
              "\n",
              "        async function convertToInteractive(key) {\n",
              "          const element = document.querySelector('#df-5264d10a-86c1-468a-a90e-162b796148a0');\n",
              "          const dataTable =\n",
              "            await google.colab.kernel.invokeFunction('convertToInteractive',\n",
              "                                                     [key], {});\n",
              "          if (!dataTable) return;\n",
              "\n",
              "          const docLinkHtml = 'Like what you see? Visit the ' +\n",
              "            '<a target=\"_blank\" href=https://colab.research.google.com/notebooks/data_table.ipynb>data table notebook</a>'\n",
              "            + ' to learn more about interactive tables.';\n",
              "          element.innerHTML = '';\n",
              "          dataTable['output_type'] = 'display_data';\n",
              "          await google.colab.output.renderOutput(dataTable, element);\n",
              "          const docLink = document.createElement('div');\n",
              "          docLink.innerHTML = docLinkHtml;\n",
              "          element.appendChild(docLink);\n",
              "        }\n",
              "      </script>\n",
              "    </div>\n",
              "  </div>\n",
              "  "
            ]
          },
          "metadata": {},
          "execution_count": 88
        }
      ]
    },
    {
      "cell_type": "code",
      "source": [
        "df3.gubun.unique()"
      ],
      "metadata": {
        "colab": {
          "base_uri": "https://localhost:8080/"
        },
        "id": "Z1QVUWJNBpas",
        "outputId": "cc400bd6-979b-4507-ff28-65cef844c1be"
      },
      "execution_count": 89,
      "outputs": [
        {
          "output_type": "execute_result",
          "data": {
            "text/plain": [
              "array(['남성', '여성', '80 이상', '70-79', '60-69', '50-59', '40-49', '30-39',\n",
              "       '20-29', '10-19', '0-9', '0-11'], dtype=object)"
            ]
          },
          "metadata": {},
          "execution_count": 89
        }
      ]
    },
    {
      "cell_type": "code",
      "source": [
        "df3[\"gubun\"] = df3[\"gubun\"].apply(lambda x: x.replace(\"남성\", \"Male\"))\n",
        "df3[\"gubun\"] = df3[\"gubun\"].apply(lambda x: x.replace(\"여성\", \"Female\"))\n",
        "df3[\"gubun\"] = df3[\"gubun\"].apply(lambda x: x.replace(\"80 이상\", \"80+\"))"
      ],
      "metadata": {
        "id": "t-oLmtq-DXQR",
        "colab": {
          "base_uri": "https://localhost:8080/"
        },
        "outputId": "8eaf3ed4-ceb8-476b-da7a-8a4e6d55eeb6"
      },
      "execution_count": 90,
      "outputs": [
        {
          "output_type": "stream",
          "name": "stderr",
          "text": [
            "/usr/local/lib/python3.7/dist-packages/ipykernel_launcher.py:1: SettingWithCopyWarning: \n",
            "A value is trying to be set on a copy of a slice from a DataFrame.\n",
            "Try using .loc[row_indexer,col_indexer] = value instead\n",
            "\n",
            "See the caveats in the documentation: https://pandas.pydata.org/pandas-docs/stable/user_guide/indexing.html#returning-a-view-versus-a-copy\n",
            "  \"\"\"Entry point for launching an IPython kernel.\n",
            "/usr/local/lib/python3.7/dist-packages/ipykernel_launcher.py:2: SettingWithCopyWarning: \n",
            "A value is trying to be set on a copy of a slice from a DataFrame.\n",
            "Try using .loc[row_indexer,col_indexer] = value instead\n",
            "\n",
            "See the caveats in the documentation: https://pandas.pydata.org/pandas-docs/stable/user_guide/indexing.html#returning-a-view-versus-a-copy\n",
            "  \n",
            "/usr/local/lib/python3.7/dist-packages/ipykernel_launcher.py:3: SettingWithCopyWarning: \n",
            "A value is trying to be set on a copy of a slice from a DataFrame.\n",
            "Try using .loc[row_indexer,col_indexer] = value instead\n",
            "\n",
            "See the caveats in the documentation: https://pandas.pydata.org/pandas-docs/stable/user_guide/indexing.html#returning-a-view-versus-a-copy\n",
            "  This is separate from the ipykernel package so we can avoid doing imports until\n"
          ]
        }
      ]
    },
    {
      "cell_type": "code",
      "source": [
        "df3 = df3.drop(columns=['seq', 'updateDt'])"
      ],
      "metadata": {
        "id": "mfhKk4ZsEGib"
      },
      "execution_count": 91,
      "outputs": []
    },
    {
      "cell_type": "code",
      "source": [
        "age_group ='0-9', '10-19', '20-29', '30-39', '40-49','50-59','60-69','70-79','80+'"
      ],
      "metadata": {
        "id": "fTNPS29vLqMN"
      },
      "execution_count": 92,
      "outputs": []
    },
    {
      "cell_type": "code",
      "source": [
        "gender = 'Male', 'Female'"
      ],
      "metadata": {
        "id": "b_kimtjnMPW7"
      },
      "execution_count": 93,
      "outputs": []
    },
    {
      "cell_type": "code",
      "source": [
        "df_age = df3[df3.gubun.isin(age_group)]"
      ],
      "metadata": {
        "id": "sDLP21CSLx2w"
      },
      "execution_count": 94,
      "outputs": []
    },
    {
      "cell_type": "code",
      "source": [
        "df_gender = df3[df3.gubun.isin(gender)]"
      ],
      "metadata": {
        "id": "TsLKT8meMWLO"
      },
      "execution_count": 95,
      "outputs": []
    },
    {
      "cell_type": "code",
      "source": [
        "#Total Confirmed by Age Group\n",
        "sns.set_theme(style = 'ticks')\n",
        "sns.set_context('notebook')\n",
        "\n",
        "fig = plt.figure(figsize=(10,5))\n",
        "plt.bar(df_age.gubun, df_age.confCase)\n",
        "plt.xticks(rotation=90)\n",
        "plt.xlabel('Age Group')\n",
        "plt.ylabel('Confirmed')\n",
        "plt.title('Total Confirmed by Age Group')"
      ],
      "metadata": {
        "colab": {
          "base_uri": "https://localhost:8080/",
          "height": 394
        },
        "id": "v1FzWH9NvwiQ",
        "outputId": "960e5189-7bbe-4e34-9a5f-119f4020e6e4"
      },
      "execution_count": 96,
      "outputs": [
        {
          "output_type": "execute_result",
          "data": {
            "text/plain": [
              "Text(0.5, 1.0, 'Total Confirmed by Age Group')"
            ]
          },
          "metadata": {},
          "execution_count": 96
        },
        {
          "output_type": "display_data",
          "data": {
            "text/plain": [
              "<Figure size 720x360 with 1 Axes>"
            ],
            "image/png": "[encoded data removed]"
          },
          "metadata": {}
        }
      ]
    },
    {
      "cell_type": "code",
      "source": [
        "#Total Deaths by Age Group\n",
        "sns.set_theme(style = 'ticks')\n",
        "sns.set_context('notebook')\n",
        "\n",
        "fig = plt.figure(figsize=(10,5))\n",
        "plt.bar(df_age.gubun, df_age.death)\n",
        "plt.xticks(rotation=90)\n",
        "plt.xlabel('Age Group')\n",
        "plt.ylabel('Deaths')\n",
        "plt.title('Total Deaths by Age Group')"
      ],
      "metadata": {
        "colab": {
          "base_uri": "https://localhost:8080/",
          "height": 394
        },
        "id": "JoLUHQG2MpHH",
        "outputId": "88c49aa3-e2c3-4947-c118-51566f99dc90"
      },
      "execution_count": 97,
      "outputs": [
        {
          "output_type": "execute_result",
          "data": {
            "text/plain": [
              "Text(0.5, 1.0, 'Total Deaths by Age Group')"
            ]
          },
          "metadata": {},
          "execution_count": 97
        },
        {
          "output_type": "display_data",
          "data": {
            "text/plain": [
              "<Figure size 720x360 with 1 Axes>"
            ],
            "image/png": "[encoded data removed]"
          },
          "metadata": {}
        }
      ]
    },
    {
      "cell_type": "code",
      "source": [
        "#Total Death Rate by Age Group\n",
        "sns.set_theme(style = 'ticks')\n",
        "sns.set_context('notebook')\n",
        "\n",
        "fig = plt.figure(figsize=(10,5))\n",
        "plt.bar(df_age.gubun, df_age.deathRate)\n",
        "plt.xticks(rotation=90)\n",
        "plt.xlabel('Age Group')\n",
        "plt.ylabel('Death Rate')\n",
        "plt.title('Total Death Rate by Age Group')"
      ],
      "metadata": {
        "colab": {
          "base_uri": "https://localhost:8080/",
          "height": 394
        },
        "id": "Q3F4MdfQUHpA",
        "outputId": "097458bb-ed37-46e3-e420-3d2d37877ceb"
      },
      "execution_count": 98,
      "outputs": [
        {
          "output_type": "execute_result",
          "data": {
            "text/plain": [
              "Text(0.5, 1.0, 'Total Death Rate by Age Group')"
            ]
          },
          "metadata": {},
          "execution_count": 98
        },
        {
          "output_type": "display_data",
          "data": {
            "text/plain": [
              "<Figure size 720x360 with 1 Axes>"
            ],
            "image/png": "[encoded data removed]"
          },
          "metadata": {}
        }
      ]
    },
    {
      "cell_type": "code",
      "source": [
        "#Total Critical Rate by Age Group\n",
        "sns.set_theme(style = 'ticks')\n",
        "sns.set_context('notebook')\n",
        "\n",
        "fig = plt.figure(figsize=(10,5))\n",
        "plt.bar(df_age.gubun, df_age.criticalRate)\n",
        "plt.xticks(rotation=90)\n",
        "plt.xlabel('Age Group')\n",
        "plt.ylabel('Critical Rate')\n",
        "plt.title('Total Critical Rate by Age Group')"
      ],
      "metadata": {
        "colab": {
          "base_uri": "https://localhost:8080/",
          "height": 394
        },
        "id": "POeDI7MlUQ0P",
        "outputId": "431c4a4c-61bb-4bf0-8622-44d02c98bcaa"
      },
      "execution_count": 99,
      "outputs": [
        {
          "output_type": "execute_result",
          "data": {
            "text/plain": [
              "Text(0.5, 1.0, 'Total Critical Rate by Age Group')"
            ]
          },
          "metadata": {},
          "execution_count": 99
        },
        {
          "output_type": "display_data",
          "data": {
            "text/plain": [
              "<Figure size 720x360 with 1 Axes>"
            ],
            "image/png": "[encoded data removed]"
          },
          "metadata": {}
        }
      ]
    },
    {
      "cell_type": "code",
      "source": [
        "#Total Confirmed by Gender\n",
        "sns.set_theme(style = 'ticks')\n",
        "sns.set_context('notebook')\n",
        "\n",
        "fig = plt.figure(figsize=(10,5))\n",
        "plt.bar(df_gender.gubun, df_gender.confCase)\n",
        "plt.xticks(rotation=90)\n",
        "plt.xlabel('Gender')\n",
        "plt.ylabel('Confirmed')\n",
        "plt.title('Total Confirmed by Gender')"
      ],
      "metadata": {
        "colab": {
          "base_uri": "https://localhost:8080/",
          "height": 402
        },
        "id": "lHo5woesRFbh",
        "outputId": "50a17814-8432-41e9-e391-949317b02086"
      },
      "execution_count": 100,
      "outputs": [
        {
          "output_type": "execute_result",
          "data": {
            "text/plain": [
              "Text(0.5, 1.0, 'Total Confirmed by Gender')"
            ]
          },
          "metadata": {},
          "execution_count": 100
        },
        {
          "output_type": "display_data",
          "data": {
            "text/plain": [
              "<Figure size 720x360 with 1 Axes>"
            ],
            "image/png": "[encoded data removed]"
          },
          "metadata": {}
        }
      ]
    },
    {
      "cell_type": "code",
      "source": [
        "#Total Deaths by Gender\n",
        "sns.set_theme(style = 'ticks')\n",
        "sns.set_context('notebook')\n",
        "\n",
        "fig = plt.figure(figsize=(10,5))\n",
        "plt.bar(df_gender.gubun, df_gender.death)\n",
        "plt.xticks(rotation=90)\n",
        "plt.xlabel('Gender')\n",
        "plt.ylabel('Deaths')\n",
        "plt.title('Total Deaths by Gender')"
      ],
      "metadata": {
        "colab": {
          "base_uri": "https://localhost:8080/",
          "height": 402
        },
        "id": "jcpIgnk8RLiC",
        "outputId": "a8d369ce-9e7e-4895-8cae-58634be80eb0"
      },
      "execution_count": 101,
      "outputs": [
        {
          "output_type": "execute_result",
          "data": {
            "text/plain": [
              "Text(0.5, 1.0, 'Total Deaths by Gender')"
            ]
          },
          "metadata": {},
          "execution_count": 101
        },
        {
          "output_type": "display_data",
          "data": {
            "text/plain": [
              "<Figure size 720x360 with 1 Axes>"
            ],
            "image/png": "[encoded data removed]"
          },
          "metadata": {}
        }
      ]
    },
    {
      "cell_type": "markdown",
      "source": [
        "\n",
        "\n",
        "---\n",
        "\n"
      ],
      "metadata": {
        "id": "1MXLusX2f5z2"
      }
    },
    {
      "cell_type": "code",
      "source": [
        "mortality_group = '60-69', '70-79', '80+'\n",
        "mobility_group = '20-29', '30-39', '40-49', '50-59'"
      ],
      "metadata": {
        "id": "cSVgeUP0TnyG"
      },
      "execution_count": 102,
      "outputs": []
    },
    {
      "cell_type": "code",
      "source": [
        "df_mortality = df_age[df_age['gubun'].isin(mortality_group)]\n",
        "df_mobility = df_age[df_age['gubun'].isin(mobility_group)]"
      ],
      "metadata": {
        "id": "tcJgOPzwTiXi"
      },
      "execution_count": 103,
      "outputs": []
    },
    {
      "cell_type": "code",
      "source": [
        "df_mortality.describe()"
      ],
      "metadata": {
        "colab": {
          "base_uri": "https://localhost:8080/",
          "height": 300
        },
        "id": "Q5NMVJB1Y0qS",
        "outputId": "d6a14951-372d-4f4d-9c86-f9e2d8f04c5e"
      },
      "execution_count": 104,
      "outputs": [
        {
          "output_type": "execute_result",
          "data": {
            "text/plain": [
              "           confCase  confCaseRate        death    deathRate  criticalRate\n",
              "count   1272.000000   1272.000000  1272.000000  1272.000000   1272.000000\n",
              "mean    4845.930031      8.734379   274.194969    31.341022     10.810236\n",
              "std     5354.955643      4.380239   291.143822    16.338530     16.970876\n",
              "min      442.000000      3.760000    22.000000    10.480000      1.040000\n",
              "25%      982.750000      4.530000    81.000000    13.732500      2.230000\n",
              "50%     2660.500000      7.255000   153.500000    29.315000      6.620000\n",
              "75%     5932.500000     12.992500   345.500000    49.542500     19.040000\n",
              "max    23069.000000     16.020000  1100.000000    56.870000    349.860000"
            ],
            "text/html": [
              "\n",
              "  <div id=\"df-f4468342-c99e-4dd4-b967-4da87e627b5d\">\n",
              "    <div class=\"colab-df-container\">\n",
              "      <div>\n",
              "<style scoped>\n",
              "    .dataframe tbody tr th:only-of-type {\n",
              "        vertical-align: middle;\n",
              "    }\n",
              "\n",
              "    .dataframe tbody tr th {\n",
              "        vertical-align: top;\n",
              "    }\n",
              "\n",
              "    .dataframe thead th {\n",
              "        text-align: right;\n",
              "    }\n",
              "</style>\n",
              "<table border=\"1\" class=\"dataframe\">\n",
              "  <thead>\n",
              "    <tr style=\"text-align: right;\">\n",
              "      <th></th>\n",
              "      <th>confCase</th>\n",
              "      <th>confCaseRate</th>\n",
              "      <th>death</th>\n",
              "      <th>deathRate</th>\n",
              "      <th>criticalRate</th>\n",
              "    </tr>\n",
              "  </thead>\n",
              "  <tbody>\n",
              "    <tr>\n",
              "      <th>count</th>\n",
              "      <td>1272.000000</td>\n",
              "      <td>1272.000000</td>\n",
              "      <td>1272.000000</td>\n",
              "      <td>1272.000000</td>\n",
              "      <td>1272.000000</td>\n",
              "    </tr>\n",
              "    <tr>\n",
              "      <th>mean</th>\n",
              "      <td>4845.930031</td>\n",
              "      <td>8.734379</td>\n",
              "      <td>274.194969</td>\n",
              "      <td>31.341022</td>\n",
              "      <td>10.810236</td>\n",
              "    </tr>\n",
              "    <tr>\n",
              "      <th>std</th>\n",
              "      <td>5354.955643</td>\n",
              "      <td>4.380239</td>\n",
              "      <td>291.143822</td>\n",
              "      <td>16.338530</td>\n",
              "      <td>16.970876</td>\n",
              "    </tr>\n",
              "    <tr>\n",
              "      <th>min</th>\n",
              "      <td>442.000000</td>\n",
              "      <td>3.760000</td>\n",
              "      <td>22.000000</td>\n",
              "      <td>10.480000</td>\n",
              "      <td>1.040000</td>\n",
              "    </tr>\n",
              "    <tr>\n",
              "      <th>25%</th>\n",
              "      <td>982.750000</td>\n",
              "      <td>4.530000</td>\n",
              "      <td>81.000000</td>\n",
              "      <td>13.732500</td>\n",
              "      <td>2.230000</td>\n",
              "    </tr>\n",
              "    <tr>\n",
              "      <th>50%</th>\n",
              "      <td>2660.500000</td>\n",
              "      <td>7.255000</td>\n",
              "      <td>153.500000</td>\n",
              "      <td>29.315000</td>\n",
              "      <td>6.620000</td>\n",
              "    </tr>\n",
              "    <tr>\n",
              "      <th>75%</th>\n",
              "      <td>5932.500000</td>\n",
              "      <td>12.992500</td>\n",
              "      <td>345.500000</td>\n",
              "      <td>49.542500</td>\n",
              "      <td>19.040000</td>\n",
              "    </tr>\n",
              "    <tr>\n",
              "      <th>max</th>\n",
              "      <td>23069.000000</td>\n",
              "      <td>16.020000</td>\n",
              "      <td>1100.000000</td>\n",
              "      <td>56.870000</td>\n",
              "      <td>349.860000</td>\n",
              "    </tr>\n",
              "  </tbody>\n",
              "</table>\n",
              "</div>\n",
              "      <button class=\"colab-df-convert\" onclick=\"convertToInteractive('df-f4468342-c99e-4dd4-b967-4da87e627b5d')\"\n",
              "              title=\"Convert this dataframe to an interactive table.\"\n",
              "              style=\"display:none;\">\n",
              "        \n",
              "  <svg xmlns=\"http://www.w3.org/2000/svg\" height=\"24px\"viewBox=\"0 0 24 24\"\n",
              "       width=\"24px\">\n",
              "    <path d=\"M0 0h24v24H0V0z\" fill=\"none\"/>\n",
              "    <path d=\"M18.56 5.44l.94 2.06.94-2.06 2.06-.94-2.06-.94-.94-2.06-.94 2.06-2.06.94zm-11 1L8.5 8.5l.94-2.06 2.06-.94-2.06-.94L8.5 2.5l-.94 2.06-2.06.94zm10 10l.94 2.06.94-2.06 2.06-.94-2.06-.94-.94-2.06-.94 2.06-2.06.94z\"/><path d=\"M17.41 7.96l-1.37-1.37c-.4-.4-.92-.59-1.43-.59-.52 0-1.04.2-1.43.59L10.3 9.45l-7.72 7.72c-.78.78-.78 2.05 0 2.83L4 21.41c.39.39.9.59 1.41.59.51 0 1.02-.2 1.41-.59l7.78-7.78 2.81-2.81c.8-.78.8-2.07 0-2.86zM5.41 20L4 18.59l7.72-7.72 1.47 1.35L5.41 20z\"/>\n",
              "  </svg>\n",
              "      </button>\n",
              "      \n",
              "  <style>\n",
              "    .colab-df-container {\n",
              "      display:flex;\n",
              "      flex-wrap:wrap;\n",
              "      gap: 12px;\n",
              "    }\n",
              "\n",
              "    .colab-df-convert {\n",
              "      background-color: #E8F0FE;\n",
              "      border: none;\n",
              "      border-radius: 50%;\n",
              "      cursor: pointer;\n",
              "      display: none;\n",
              "      fill: #1967D2;\n",
              "      height: 32px;\n",
              "      padding: 0 0 0 0;\n",
              "      width: 32px;\n",
              "    }\n",
              "\n",
              "    .colab-df-convert:hover {\n",
              "      background-color: #E2EBFA;\n",
              "      box-shadow: 0px 1px 2px rgba(60, 64, 67, 0.3), 0px 1px 3px 1px rgba(60, 64, 67, 0.15);\n",
              "      fill: #174EA6;\n",
              "    }\n",
              "\n",
              "    [theme=dark] .colab-df-convert {\n",
              "      background-color: #3B4455;\n",
              "      fill: #D2E3FC;\n",
              "    }\n",
              "\n",
              "    [theme=dark] .colab-df-convert:hover {\n",
              "      background-color: #434B5C;\n",
              "      box-shadow: 0px 1px 3px 1px rgba(0, 0, 0, 0.15);\n",
              "      filter: drop-shadow(0px 1px 2px rgba(0, 0, 0, 0.3));\n",
              "      fill: #FFFFFF;\n",
              "    }\n",
              "  </style>\n",
              "\n",
              "      <script>\n",
              "        const buttonEl =\n",
              "          document.querySelector('#df-f4468342-c99e-4dd4-b967-4da87e627b5d button.colab-df-convert');\n",
              "        buttonEl.style.display =\n",
              "          google.colab.kernel.accessAllowed ? 'block' : 'none';\n",
              "\n",
              "        async function convertToInteractive(key) {\n",
              "          const element = document.querySelector('#df-f4468342-c99e-4dd4-b967-4da87e627b5d');\n",
              "          const dataTable =\n",
              "            await google.colab.kernel.invokeFunction('convertToInteractive',\n",
              "                                                     [key], {});\n",
              "          if (!dataTable) return;\n",
              "\n",
              "          const docLinkHtml = 'Like what you see? Visit the ' +\n",
              "            '<a target=\"_blank\" href=https://colab.research.google.com/notebooks/data_table.ipynb>data table notebook</a>'\n",
              "            + ' to learn more about interactive tables.';\n",
              "          element.innerHTML = '';\n",
              "          dataTable['output_type'] = 'display_data';\n",
              "          await google.colab.output.renderOutput(dataTable, element);\n",
              "          const docLink = document.createElement('div');\n",
              "          docLink.innerHTML = docLinkHtml;\n",
              "          element.appendChild(docLink);\n",
              "        }\n",
              "      </script>\n",
              "    </div>\n",
              "  </div>\n",
              "  "
            ]
          },
          "metadata": {},
          "execution_count": 104
        }
      ]
    },
    {
      "cell_type": "code",
      "source": [
        "df_mobility.describe()"
      ],
      "metadata": {
        "colab": {
          "base_uri": "https://localhost:8080/",
          "height": 300
        },
        "id": "8nGWeaPqZeyG",
        "outputId": "eb042374-4e1f-4ff9-9bc2-7efffa35c573"
      },
      "execution_count": 105,
      "outputs": [
        {
          "output_type": "execute_result",
          "data": {
            "text/plain": [
              "           confCase  confCaseRate        death    deathRate  criticalRate\n",
              "count   1697.000000   1697.000000  1394.000000  1694.000000   1394.000000\n",
              "mean    8454.847967     16.219193    13.596126     1.496222      1.065179\n",
              "std     7328.177368      4.054229    17.427022     1.824745     16.117564\n",
              "min     1012.000000     10.340000     1.000000     0.000000      0.010000\n",
              "25%     2536.000000     13.290000     3.000000     0.312500      0.060000\n",
              "50%     4747.000000     14.950000     6.000000     0.750000      0.120000\n",
              "75%    13976.000000     18.400000    15.000000     2.632500      0.280000\n",
              "max    28760.000000     27.900000    73.000000     6.770000    328.690000"
            ],
            "text/html": [
              "\n",
              "  <div id=\"df-b881e1d2-2146-48d0-9615-c5318e3dff66\">\n",
              "    <div class=\"colab-df-container\">\n",
              "      <div>\n",
              "<style scoped>\n",
              "    .dataframe tbody tr th:only-of-type {\n",
              "        vertical-align: middle;\n",
              "    }\n",
              "\n",
              "    .dataframe tbody tr th {\n",
              "        vertical-align: top;\n",
              "    }\n",
              "\n",
              "    .dataframe thead th {\n",
              "        text-align: right;\n",
              "    }\n",
              "</style>\n",
              "<table border=\"1\" class=\"dataframe\">\n",
              "  <thead>\n",
              "    <tr style=\"text-align: right;\">\n",
              "      <th></th>\n",
              "      <th>confCase</th>\n",
              "      <th>confCaseRate</th>\n",
              "      <th>death</th>\n",
              "      <th>deathRate</th>\n",
              "      <th>criticalRate</th>\n",
              "    </tr>\n",
              "  </thead>\n",
              "  <tbody>\n",
              "    <tr>\n",
              "      <th>count</th>\n",
              "      <td>1697.000000</td>\n",
              "      <td>1697.000000</td>\n",
              "      <td>1394.000000</td>\n",
              "      <td>1694.000000</td>\n",
              "      <td>1394.000000</td>\n",
              "    </tr>\n",
              "    <tr>\n",
              "      <th>mean</th>\n",
              "      <td>8454.847967</td>\n",
              "      <td>16.219193</td>\n",
              "      <td>13.596126</td>\n",
              "      <td>1.496222</td>\n",
              "      <td>1.065179</td>\n",
              "    </tr>\n",
              "    <tr>\n",
              "      <th>std</th>\n",
              "      <td>7328.177368</td>\n",
              "      <td>4.054229</td>\n",
              "      <td>17.427022</td>\n",
              "      <td>1.824745</td>\n",
              "      <td>16.117564</td>\n",
              "    </tr>\n",
              "    <tr>\n",
              "      <th>min</th>\n",
              "      <td>1012.000000</td>\n",
              "      <td>10.340000</td>\n",
              "      <td>1.000000</td>\n",
              "      <td>0.000000</td>\n",
              "      <td>0.010000</td>\n",
              "    </tr>\n",
              "    <tr>\n",
              "      <th>25%</th>\n",
              "      <td>2536.000000</td>\n",
              "      <td>13.290000</td>\n",
              "      <td>3.000000</td>\n",
              "      <td>0.312500</td>\n",
              "      <td>0.060000</td>\n",
              "    </tr>\n",
              "    <tr>\n",
              "      <th>50%</th>\n",
              "      <td>4747.000000</td>\n",
              "      <td>14.950000</td>\n",
              "      <td>6.000000</td>\n",
              "      <td>0.750000</td>\n",
              "      <td>0.120000</td>\n",
              "    </tr>\n",
              "    <tr>\n",
              "      <th>75%</th>\n",
              "      <td>13976.000000</td>\n",
              "      <td>18.400000</td>\n",
              "      <td>15.000000</td>\n",
              "      <td>2.632500</td>\n",
              "      <td>0.280000</td>\n",
              "    </tr>\n",
              "    <tr>\n",
              "      <th>max</th>\n",
              "      <td>28760.000000</td>\n",
              "      <td>27.900000</td>\n",
              "      <td>73.000000</td>\n",
              "      <td>6.770000</td>\n",
              "      <td>328.690000</td>\n",
              "    </tr>\n",
              "  </tbody>\n",
              "</table>\n",
              "</div>\n",
              "      <button class=\"colab-df-convert\" onclick=\"convertToInteractive('df-b881e1d2-2146-48d0-9615-c5318e3dff66')\"\n",
              "              title=\"Convert this dataframe to an interactive table.\"\n",
              "              style=\"display:none;\">\n",
              "        \n",
              "  <svg xmlns=\"http://www.w3.org/2000/svg\" height=\"24px\"viewBox=\"0 0 24 24\"\n",
              "       width=\"24px\">\n",
              "    <path d=\"M0 0h24v24H0V0z\" fill=\"none\"/>\n",
              "    <path d=\"M18.56 5.44l.94 2.06.94-2.06 2.06-.94-2.06-.94-.94-2.06-.94 2.06-2.06.94zm-11 1L8.5 8.5l.94-2.06 2.06-.94-2.06-.94L8.5 2.5l-.94 2.06-2.06.94zm10 10l.94 2.06.94-2.06 2.06-.94-2.06-.94-.94-2.06-.94 2.06-2.06.94z\"/><path d=\"M17.41 7.96l-1.37-1.37c-.4-.4-.92-.59-1.43-.59-.52 0-1.04.2-1.43.59L10.3 9.45l-7.72 7.72c-.78.78-.78 2.05 0 2.83L4 21.41c.39.39.9.59 1.41.59.51 0 1.02-.2 1.41-.59l7.78-7.78 2.81-2.81c.8-.78.8-2.07 0-2.86zM5.41 20L4 18.59l7.72-7.72 1.47 1.35L5.41 20z\"/>\n",
              "  </svg>\n",
              "      </button>\n",
              "      \n",
              "  <style>\n",
              "    .colab-df-container {\n",
              "      display:flex;\n",
              "      flex-wrap:wrap;\n",
              "      gap: 12px;\n",
              "    }\n",
              "\n",
              "    .colab-df-convert {\n",
              "      background-color: #E8F0FE;\n",
              "      border: none;\n",
              "      border-radius: 50%;\n",
              "      cursor: pointer;\n",
              "      display: none;\n",
              "      fill: #1967D2;\n",
              "      height: 32px;\n",
              "      padding: 0 0 0 0;\n",
              "      width: 32px;\n",
              "    }\n",
              "\n",
              "    .colab-df-convert:hover {\n",
              "      background-color: #E2EBFA;\n",
              "      box-shadow: 0px 1px 2px rgba(60, 64, 67, 0.3), 0px 1px 3px 1px rgba(60, 64, 67, 0.15);\n",
              "      fill: #174EA6;\n",
              "    }\n",
              "\n",
              "    [theme=dark] .colab-df-convert {\n",
              "      background-color: #3B4455;\n",
              "      fill: #D2E3FC;\n",
              "    }\n",
              "\n",
              "    [theme=dark] .colab-df-convert:hover {\n",
              "      background-color: #434B5C;\n",
              "      box-shadow: 0px 1px 3px 1px rgba(0, 0, 0, 0.15);\n",
              "      filter: drop-shadow(0px 1px 2px rgba(0, 0, 0, 0.3));\n",
              "      fill: #FFFFFF;\n",
              "    }\n",
              "  </style>\n",
              "\n",
              "      <script>\n",
              "        const buttonEl =\n",
              "          document.querySelector('#df-b881e1d2-2146-48d0-9615-c5318e3dff66 button.colab-df-convert');\n",
              "        buttonEl.style.display =\n",
              "          google.colab.kernel.accessAllowed ? 'block' : 'none';\n",
              "\n",
              "        async function convertToInteractive(key) {\n",
              "          const element = document.querySelector('#df-b881e1d2-2146-48d0-9615-c5318e3dff66');\n",
              "          const dataTable =\n",
              "            await google.colab.kernel.invokeFunction('convertToInteractive',\n",
              "                                                     [key], {});\n",
              "          if (!dataTable) return;\n",
              "\n",
              "          const docLinkHtml = 'Like what you see? Visit the ' +\n",
              "            '<a target=\"_blank\" href=https://colab.research.google.com/notebooks/data_table.ipynb>data table notebook</a>'\n",
              "            + ' to learn more about interactive tables.';\n",
              "          element.innerHTML = '';\n",
              "          dataTable['output_type'] = 'display_data';\n",
              "          await google.colab.output.renderOutput(dataTable, element);\n",
              "          const docLink = document.createElement('div');\n",
              "          docLink.innerHTML = docLinkHtml;\n",
              "          element.appendChild(docLink);\n",
              "        }\n",
              "      </script>\n",
              "    </div>\n",
              "  </div>\n",
              "  "
            ]
          },
          "metadata": {},
          "execution_count": 105
        }
      ]
    },
    {
      "cell_type": "code",
      "source": [
        "#Mortality Group Summary\n",
        "\n",
        "mort_avg_deathRate= 31.34\n",
        "mort_avg_confRate= 8.73\n",
        "\n",
        "mort_vacc_exp_outcome_death = mort_avg_deathRate - vaccine_impact_death\n",
        "#mort_vacc_exp_outcome_case = mort_avg_confRate - vaccine_impact_confirmed\n",
        "future_mort_vacc_exp_outcome_death = mort_avg_deathRate - future_vaccine_impact_death\n",
        "#future_mort_vacc_exp_outcome_case = mort_avg_confRate - future_vaccine_impact_confirmed\n",
        "\n",
        "\n",
        "print(r'Expected Vaccine Outcome on Death Rate for Mortality Group:', mort_vacc_exp_outcome_death)\n",
        "#print(r'Expected Vaccine Outcome on Confirmation Rate for Mortality Group:', mort_vacc_exp_outcome_case)\n",
        "print(r'Future Expected Vaccine Outcome on Death Rate for Mortality Group:', future_mort_vacc_exp_outcome_death)\n",
        "#print(r'Future Expected Vaccine Outcome on Confirmation Rate for Mortality Group:', future_mort_vacc_exp_outcome_case)\n"
      ],
      "metadata": {
        "colab": {
          "base_uri": "https://localhost:8080/"
        },
        "id": "kHpDhUTrZyGj",
        "outputId": "a7c0d79c-22a4-44ac-e0ff-32346a12035a"
      },
      "execution_count": 106,
      "outputs": [
        {
          "output_type": "stream",
          "name": "stdout",
          "text": [
            "Expected Vaccine Outcome on Death Rate for Mortality Group: 10.005865384615383\n",
            "Future Expected Vaccine Outcome on Death Rate for Mortality Group: 10.60682692307692\n"
          ]
        }
      ]
    },
    {
      "cell_type": "code",
      "source": [
        "#Mobility Group Summary\n",
        "\n",
        "mob_avg_deathRate= 1.5\n",
        "mob_avg_confRate= 16.22\n",
        "\n",
        "#mob_vacc_exp_outcome_death = mob_avg_deathRate - vaccine_impact_death\n",
        "mob_vacc_exp_outcome_case = mob_avg_confRate - vaccine_impact_confirmed\n",
        "#future_mob_vacc_exp_outcome_death = mob_avg_deathRate - future_vaccine_impact_death\n",
        "future_mob_vacc_exp_outcome_case = mob_avg_confRate - future_vaccine_impact_confirmed\n",
        "\n",
        "\n",
        "#print(r'Expected Vaccine Outcome on Death Rate for Mobility Group:', mob_vacc_exp_outcome_death)\n",
        "print(r'Expected Vaccine Outcome on Confirmation Rate for Mobility Group:', mob_vacc_exp_outcome_case)\n",
        "#print(r'Future Expected Vaccine Outcome on Death Rate for Mobility Group:', future_mob_vacc_exp_outcome_death)\n",
        "print(r'Future Expected Vaccine Outcome on Confirmation Rate for Mobility Group:', future_mob_vacc_exp_outcome_case)"
      ],
      "metadata": {
        "colab": {
          "base_uri": "https://localhost:8080/"
        },
        "id": "NcHDuJJydZRx",
        "outputId": "c9b9e948-8e07-4265-cef2-1c72dbe0f53d"
      },
      "execution_count": 107,
      "outputs": [
        {
          "output_type": "stream",
          "name": "stdout",
          "text": [
            "Expected Vaccine Outcome on Confirmation Rate for Mobility Group: 3.190243462578893\n",
            "Future Expected Vaccine Outcome on Confirmation Rate for Mobility Group: 3.821442741208296\n"
          ]
        }
      ]
    },
    {
      "cell_type": "markdown",
      "source": [
        "\n",
        "\n",
        "---\n",
        "\n"
      ],
      "metadata": {
        "id": "cpx2aPuZf2sP"
      }
    }
  ]
}